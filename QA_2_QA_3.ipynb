{
  "cells": [
    {
      "cell_type": "markdown",
      "id": "65ae83e3",
      "metadata": {
        "id": "65ae83e3"
      },
      "source": [
        "## Modelagem de topicos através do tempo"
      ]
    },
    {
      "cell_type": "code",
      "execution_count": 1,
      "id": "v-sKlw5UtHhc",
      "metadata": {
        "colab": {
          "base_uri": "https://localhost:8080/"
        },
        "id": "v-sKlw5UtHhc",
        "outputId": "10048b09-fd76-427e-d8fa-b4fb32166d99"
      },
      "outputs": [
        {
          "name": "stdout",
          "output_type": "stream",
          "text": [
            "Requirement already satisfied: bertopic in ./venv/lib/python3.12/site-packages (0.17.0)\n",
            "Requirement already satisfied: hdbscan>=0.8.29 in ./venv/lib/python3.12/site-packages (from bertopic) (0.8.40)\n",
            "Requirement already satisfied: numpy>=1.20.0 in ./venv/lib/python3.12/site-packages (from bertopic) (2.2.0)\n",
            "Requirement already satisfied: pandas>=1.1.5 in ./venv/lib/python3.12/site-packages (from bertopic) (2.3.0)\n",
            "Requirement already satisfied: plotly>=4.7.0 in ./venv/lib/python3.12/site-packages (from bertopic) (6.2.0)\n",
            "Requirement already satisfied: scikit-learn>=1.0 in ./venv/lib/python3.12/site-packages (from bertopic) (1.7.0)\n",
            "Requirement already satisfied: sentence-transformers>=0.4.1 in ./venv/lib/python3.12/site-packages (from bertopic) (5.0.0)\n",
            "Requirement already satisfied: tqdm>=4.41.1 in ./venv/lib/python3.12/site-packages (from bertopic) (4.67.1)\n",
            "Requirement already satisfied: umap-learn>=0.5.0 in ./venv/lib/python3.12/site-packages (from bertopic) (0.5.9.post2)\n",
            "Requirement already satisfied: scipy>=1.0 in ./venv/lib/python3.12/site-packages (from hdbscan>=0.8.29->bertopic) (1.16.0)\n",
            "Requirement already satisfied: joblib>=1.0 in ./venv/lib/python3.12/site-packages (from hdbscan>=0.8.29->bertopic) (1.5.1)\n",
            "Requirement already satisfied: python-dateutil>=2.8.2 in ./venv/lib/python3.12/site-packages (from pandas>=1.1.5->bertopic) (2.9.0.post0)\n",
            "Requirement already satisfied: pytz>=2020.1 in ./venv/lib/python3.12/site-packages (from pandas>=1.1.5->bertopic) (2025.2)\n",
            "Requirement already satisfied: tzdata>=2022.7 in ./venv/lib/python3.12/site-packages (from pandas>=1.1.5->bertopic) (2025.2)\n",
            "Requirement already satisfied: narwhals>=1.15.1 in ./venv/lib/python3.12/site-packages (from plotly>=4.7.0->bertopic) (1.45.0)\n",
            "Requirement already satisfied: packaging in ./venv/lib/python3.12/site-packages (from plotly>=4.7.0->bertopic) (25.0)\n",
            "Requirement already satisfied: six>=1.5 in ./venv/lib/python3.12/site-packages (from python-dateutil>=2.8.2->pandas>=1.1.5->bertopic) (1.17.0)\n",
            "Requirement already satisfied: threadpoolctl>=3.1.0 in ./venv/lib/python3.12/site-packages (from scikit-learn>=1.0->bertopic) (3.6.0)\n",
            "Requirement already satisfied: transformers<5.0.0,>=4.41.0 in ./venv/lib/python3.12/site-packages (from sentence-transformers>=0.4.1->bertopic) (4.53.1)\n",
            "Requirement already satisfied: torch>=1.11.0 in ./venv/lib/python3.12/site-packages (from sentence-transformers>=0.4.1->bertopic) (2.7.1)\n",
            "Requirement already satisfied: huggingface-hub>=0.20.0 in ./venv/lib/python3.12/site-packages (from sentence-transformers>=0.4.1->bertopic) (0.33.2)\n",
            "Requirement already satisfied: Pillow in ./venv/lib/python3.12/site-packages (from sentence-transformers>=0.4.1->bertopic) (11.3.0)\n",
            "Requirement already satisfied: typing_extensions>=4.5.0 in ./venv/lib/python3.12/site-packages (from sentence-transformers>=0.4.1->bertopic) (4.14.1)\n",
            "Requirement already satisfied: filelock in ./venv/lib/python3.12/site-packages (from transformers<5.0.0,>=4.41.0->sentence-transformers>=0.4.1->bertopic) (3.18.0)\n",
            "Requirement already satisfied: pyyaml>=5.1 in ./venv/lib/python3.12/site-packages (from transformers<5.0.0,>=4.41.0->sentence-transformers>=0.4.1->bertopic) (6.0.2)\n",
            "Requirement already satisfied: regex!=2019.12.17 in ./venv/lib/python3.12/site-packages (from transformers<5.0.0,>=4.41.0->sentence-transformers>=0.4.1->bertopic) (2024.11.6)\n",
            "Requirement already satisfied: requests in ./venv/lib/python3.12/site-packages (from transformers<5.0.0,>=4.41.0->sentence-transformers>=0.4.1->bertopic) (2.32.4)\n",
            "Requirement already satisfied: tokenizers<0.22,>=0.21 in ./venv/lib/python3.12/site-packages (from transformers<5.0.0,>=4.41.0->sentence-transformers>=0.4.1->bertopic) (0.21.2)\n",
            "Requirement already satisfied: safetensors>=0.4.3 in ./venv/lib/python3.12/site-packages (from transformers<5.0.0,>=4.41.0->sentence-transformers>=0.4.1->bertopic) (0.5.3)\n",
            "Requirement already satisfied: fsspec>=2023.5.0 in ./venv/lib/python3.12/site-packages (from huggingface-hub>=0.20.0->sentence-transformers>=0.4.1->bertopic) (2025.5.1)\n",
            "Requirement already satisfied: hf-xet<2.0.0,>=1.1.2 in ./venv/lib/python3.12/site-packages (from huggingface-hub>=0.20.0->sentence-transformers>=0.4.1->bertopic) (1.1.5)\n",
            "Requirement already satisfied: setuptools in ./venv/lib/python3.12/site-packages (from torch>=1.11.0->sentence-transformers>=0.4.1->bertopic) (80.9.0)\n",
            "Requirement already satisfied: sympy>=1.13.3 in ./venv/lib/python3.12/site-packages (from torch>=1.11.0->sentence-transformers>=0.4.1->bertopic) (1.14.0)\n",
            "Requirement already satisfied: networkx in ./venv/lib/python3.12/site-packages (from torch>=1.11.0->sentence-transformers>=0.4.1->bertopic) (3.5)\n",
            "Requirement already satisfied: jinja2 in ./venv/lib/python3.12/site-packages (from torch>=1.11.0->sentence-transformers>=0.4.1->bertopic) (3.1.6)\n",
            "Requirement already satisfied: nvidia-cuda-nvrtc-cu12==12.6.77 in ./venv/lib/python3.12/site-packages (from torch>=1.11.0->sentence-transformers>=0.4.1->bertopic) (12.6.77)\n",
            "Requirement already satisfied: nvidia-cuda-runtime-cu12==12.6.77 in ./venv/lib/python3.12/site-packages (from torch>=1.11.0->sentence-transformers>=0.4.1->bertopic) (12.6.77)\n",
            "Requirement already satisfied: nvidia-cuda-cupti-cu12==12.6.80 in ./venv/lib/python3.12/site-packages (from torch>=1.11.0->sentence-transformers>=0.4.1->bertopic) (12.6.80)\n",
            "Requirement already satisfied: nvidia-cudnn-cu12==9.5.1.17 in ./venv/lib/python3.12/site-packages (from torch>=1.11.0->sentence-transformers>=0.4.1->bertopic) (9.5.1.17)\n",
            "Requirement already satisfied: nvidia-cublas-cu12==12.6.4.1 in ./venv/lib/python3.12/site-packages (from torch>=1.11.0->sentence-transformers>=0.4.1->bertopic) (12.6.4.1)\n",
            "Requirement already satisfied: nvidia-cufft-cu12==11.3.0.4 in ./venv/lib/python3.12/site-packages (from torch>=1.11.0->sentence-transformers>=0.4.1->bertopic) (11.3.0.4)\n",
            "Requirement already satisfied: nvidia-curand-cu12==10.3.7.77 in ./venv/lib/python3.12/site-packages (from torch>=1.11.0->sentence-transformers>=0.4.1->bertopic) (10.3.7.77)\n",
            "Requirement already satisfied: nvidia-cusolver-cu12==11.7.1.2 in ./venv/lib/python3.12/site-packages (from torch>=1.11.0->sentence-transformers>=0.4.1->bertopic) (11.7.1.2)\n",
            "Requirement already satisfied: nvidia-cusparse-cu12==12.5.4.2 in ./venv/lib/python3.12/site-packages (from torch>=1.11.0->sentence-transformers>=0.4.1->bertopic) (12.5.4.2)\n",
            "Requirement already satisfied: nvidia-cusparselt-cu12==0.6.3 in ./venv/lib/python3.12/site-packages (from torch>=1.11.0->sentence-transformers>=0.4.1->bertopic) (0.6.3)\n",
            "Requirement already satisfied: nvidia-nccl-cu12==2.26.2 in ./venv/lib/python3.12/site-packages (from torch>=1.11.0->sentence-transformers>=0.4.1->bertopic) (2.26.2)\n",
            "Requirement already satisfied: nvidia-nvtx-cu12==12.6.77 in ./venv/lib/python3.12/site-packages (from torch>=1.11.0->sentence-transformers>=0.4.1->bertopic) (12.6.77)\n",
            "Requirement already satisfied: nvidia-nvjitlink-cu12==12.6.85 in ./venv/lib/python3.12/site-packages (from torch>=1.11.0->sentence-transformers>=0.4.1->bertopic) (12.6.85)\n",
            "Requirement already satisfied: nvidia-cufile-cu12==1.11.1.6 in ./venv/lib/python3.12/site-packages (from torch>=1.11.0->sentence-transformers>=0.4.1->bertopic) (1.11.1.6)\n",
            "Requirement already satisfied: triton==3.3.1 in ./venv/lib/python3.12/site-packages (from torch>=1.11.0->sentence-transformers>=0.4.1->bertopic) (3.3.1)\n",
            "Requirement already satisfied: mpmath<1.4,>=1.1.0 in ./venv/lib/python3.12/site-packages (from sympy>=1.13.3->torch>=1.11.0->sentence-transformers>=0.4.1->bertopic) (1.3.0)\n",
            "Requirement already satisfied: numba>=0.51.2 in ./venv/lib/python3.12/site-packages (from umap-learn>=0.5.0->bertopic) (0.61.2)\n",
            "Requirement already satisfied: pynndescent>=0.5 in ./venv/lib/python3.12/site-packages (from umap-learn>=0.5.0->bertopic) (0.5.13)\n",
            "Requirement already satisfied: llvmlite<0.45,>=0.44.0dev0 in ./venv/lib/python3.12/site-packages (from numba>=0.51.2->umap-learn>=0.5.0->bertopic) (0.44.0)\n",
            "Requirement already satisfied: MarkupSafe>=2.0 in ./venv/lib/python3.12/site-packages (from jinja2->torch>=1.11.0->sentence-transformers>=0.4.1->bertopic) (3.0.2)\n",
            "Requirement already satisfied: charset_normalizer<4,>=2 in ./venv/lib/python3.12/site-packages (from requests->transformers<5.0.0,>=4.41.0->sentence-transformers>=0.4.1->bertopic) (3.4.2)\n",
            "Requirement already satisfied: idna<4,>=2.5 in ./venv/lib/python3.12/site-packages (from requests->transformers<5.0.0,>=4.41.0->sentence-transformers>=0.4.1->bertopic) (3.10)\n",
            "Requirement already satisfied: urllib3<3,>=1.21.1 in ./venv/lib/python3.12/site-packages (from requests->transformers<5.0.0,>=4.41.0->sentence-transformers>=0.4.1->bertopic) (2.5.0)\n",
            "Requirement already satisfied: certifi>=2017.4.17 in ./venv/lib/python3.12/site-packages (from requests->transformers<5.0.0,>=4.41.0->sentence-transformers>=0.4.1->bertopic) (2025.6.15)\n",
            "Note: you may need to restart the kernel to use updated packages.\n"
          ]
        }
      ],
      "source": [
        "%pip install bertopic"
      ]
    },
    {
      "cell_type": "code",
      "execution_count": 2,
      "id": "d93958af",
      "metadata": {
        "colab": {
          "base_uri": "https://localhost:8080/"
        },
        "id": "d93958af",
        "outputId": "ba2acd61-ce0b-4916-9167-6c4fffbe4d0b"
      },
      "outputs": [
        {
          "name": "stderr",
          "output_type": "stream",
          "text": [
            "[nltk_data] Downloading package stopwords to /home/luis/nltk_data...\n",
            "[nltk_data]   Package stopwords is already up-to-date!\n"
          ]
        }
      ],
      "source": [
        "import pandas as pd\n",
        "import matplotlib.pyplot as plt\n",
        "from bertopic import BERTopic\n",
        "from sentence_transformers import SentenceTransformer\n",
        "from sklearn.feature_extraction.text import CountVectorizer\n",
        "import nltk\n",
        "nltk.download('stopwords')\n",
        "from nltk.corpus import stopwords\n",
        "import re\n",
        "import unicodedata\n",
        "from umap import UMAP\n",
        "from hdbscan import HDBSCAN\n",
        "import os\n",
        "import numpy as np"
      ]
    },
    {
      "cell_type": "code",
      "execution_count": 3,
      "id": "c1d266d0",
      "metadata": {
        "colab": {
          "base_uri": "https://localhost:8080/"
        },
        "id": "c1d266d0",
        "outputId": "dd90f139-d6d4-4d30-c644-0c21d8af43a6"
      },
      "outputs": [
        {
          "name": "stdout",
          "output_type": "stream",
          "text": [
            "  created_timestamp_utc\n",
            "0   2022-01-01 19:16:14\n",
            "1   2022-01-01 19:16:20\n",
            "2   2022-01-01 20:33:19\n",
            "3   2022-01-01 23:30:43\n",
            "4   2022-01-02 01:08:38\n"
          ]
        }
      ],
      "source": [
        "comments = pd.read_csv(\"comments_filtered.csv\")\n",
        "print(comments[['created_timestamp_utc']].head())\n",
        "comments['month'] = pd.to_datetime(comments['created_timestamp_utc']).dt.to_period('M').astype(str)\n",
        "comments['type'] = 'C'\n",
        "\n",
        "date_month_com = comments['month']"
      ]
    },
    {
      "cell_type": "code",
      "execution_count": 4,
      "id": "85a9d82e",
      "metadata": {
        "colab": {
          "base_uri": "https://localhost:8080/"
        },
        "id": "85a9d82e",
        "outputId": "97706443-fce7-4249-f56d-3813fa07ec30"
      },
      "outputs": [
        {
          "name": "stdout",
          "output_type": "stream",
          "text": [
            "  created_timestamp_utc\n",
            "0   2022-01-13 11:42:41\n",
            "1   2022-01-18 17:36:20\n",
            "2   2022-01-19 02:58:23\n",
            "3   2022-01-19 21:07:55\n",
            "4   2022-01-22 13:39:24\n"
          ]
        }
      ],
      "source": [
        "submissions = pd.read_csv(\"submissions_filtered.csv\")\n",
        "print(submissions[['created_timestamp_utc']].head())\n",
        "submissions['month'] = pd.to_datetime(submissions['created_timestamp_utc']).dt.to_period('M').astype(str)\n",
        "submissions['type'] = 'S'\n",
        "\n",
        "date_month_sub = submissions['month']"
      ]
    },
    {
      "cell_type": "code",
      "execution_count": 5,
      "id": "3df13179",
      "metadata": {
        "colab": {
          "base_uri": "https://localhost:8080/"
        },
        "id": "3df13179",
        "outputId": "95a4d0eb-13a5-4117-ecdd-8f00f93e01fb"
      },
      "outputs": [
        {
          "name": "stdout",
          "output_type": "stream",
          "text": [
            "month\n",
            "2022-01    1077\n",
            "2022-02    9436\n",
            "2022-03    9458\n",
            "2022-04    2158\n",
            "2022-05    2944\n",
            "2022-06    1480\n",
            "2022-07    1513\n",
            "2022-08    1036\n",
            "2022-09    2166\n",
            "2022-10    2627\n",
            "2022-11    2204\n",
            "2022-12    1484\n",
            "Name: count, dtype: int64\n"
          ]
        }
      ],
      "source": [
        "# concatenate the two numpy arrays\n",
        "date_month = pd.concat([date_month_com, date_month_sub], ignore_index=True)\n",
        "\n",
        "print(date_month.value_counts().sort_index())\n"
      ]
    },
    {
      "cell_type": "code",
      "execution_count": 6,
      "id": "5625d771",
      "metadata": {
        "colab": {
          "base_uri": "https://localhost:8080/",
          "height": 338
        },
        "id": "5625d771",
        "outputId": "ba5425d7-3703-4355-e5ce-1863f459a571"
      },
      "outputs": [
        {
          "data": {
            "image/png": "[encoded data removed]",
            "text/plain": [
              "<Figure size 1200x600 with 1 Axes>"
            ]
          },
          "metadata": {},
          "output_type": "display_data"
        }
      ],
      "source": [
        "# plot distribution of comments and submissions by month\n",
        "date_month.value_counts().sort_index().plot(kind='bar', figsize=(12, 6))\n",
        "plt.title('Distribution of Comments and Submissions by Month')\n",
        "plt.xlabel('Month')\n",
        "plt.ylabel('Count')\n",
        "plt.xticks(rotation=45)\n",
        "plt.grid(axis='y')\n",
        "plt.tight_layout()\n",
        "plt.show()"
      ]
    },
    {
      "cell_type": "code",
      "execution_count": 7,
      "id": "84716d22",
      "metadata": {
        "colab": {
          "base_uri": "https://localhost:8080/"
        },
        "id": "84716d22",
        "outputId": "f1ad5ef1-389d-4bb8-c82f-8285bc1f3f1e"
      },
      "outputs": [
        {
          "name": "stdout",
          "output_type": "stream",
          "text": [
            "        id                                               text     date type\n",
            "0  hqu6678  Eu não coloco a tua experiência em causa, mas ...  2022-01    C\n",
            "1  hqu66rn  &gt;Farmaajo tem sido apoiado por muito tempo ...  2022-01    C\n",
            "2  hquhhht  O que é dar certo? Porque pensa bem, o país er...  2022-01    C\n",
            "3  hqv6rub  O embargo é dos EUA. Eles podem fazer negócios...  2022-01    C\n",
            "4  hqvk4xj  a Ucrânia voltar ao seu estado natural de naçã...  2022-01    C\n",
            "(36854, 4)\n",
            "       id                                               text     date type\n",
            "0  s2xl48  Conclamo meus colegas redditors a ouvirem/vere...  2022-01    S\n",
            "1  s72yze  \\- Apoio a Russia. Lutaria se pedissem.   \\n\\-...  2022-01    S\n",
            "2  s7fnwt  Olhem o vídeo, por exemplo, de uma matéria fal...  2022-01    S\n",
            "3  s80kun   Só pra saber q eu n sou o único vendo isso!? ...  2022-01    S\n",
            "4  sa2q4t  Na internet já vi vários comentários de ucrani...  2022-01    S\n",
            "(729, 4)\n",
            "        id                                               text    month type\n",
            "0  hqu6678  Eu não coloco a tua experiência em causa, mas ...  2022-01    C\n",
            "1  hqu66rn  &gt;Farmaajo tem sido apoiado por muito tempo ...  2022-01    C\n",
            "2  hquhhht  O que é dar certo? Porque pensa bem, o país er...  2022-01    C\n",
            "3  hqv6rub  O embargo é dos EUA. Eles podem fazer negócios...  2022-01    C\n",
            "4  hqvk4xj  a Ucrânia voltar ao seu estado natural de naçã...  2022-01    C\n",
            "(37583, 4)\n"
          ]
        }
      ],
      "source": [
        "data_comments = comments[['id', 'body', 'month', 'type']].rename(columns={'body': 'text', 'month': 'date'})\n",
        "print(data_comments.head())\n",
        "print(data_comments.shape)\n",
        "data_submissions = submissions[['id', 'selftext', 'month', 'type']].rename(columns={'selftext': 'text', 'month': 'date'})\n",
        "print(data_submissions.head())\n",
        "print(data_submissions.shape)\n",
        "\n",
        "# concatenate the two dataframes\n",
        "data = pd.concat([data_comments, data_submissions], ignore_index=True)\n",
        "data.columns = ['id', 'text', 'month', 'type']\n",
        "print(data.head())\n",
        "print(data.shape)"
      ]
    },
    {
      "cell_type": "code",
      "execution_count": 8,
      "id": "980e8720",
      "metadata": {
        "colab": {
          "base_uri": "https://localhost:8080/"
        },
        "id": "980e8720",
        "outputId": "430a8c04-abb0-410d-a205-2f89fc0bac66"
      },
      "outputs": [
        {
          "name": "stdout",
          "output_type": "stream",
          "text": [
            "['a', 'à', 'ao', 'aos', 'aquela', 'aquelas', 'aquele', 'aqueles', 'aquilo', 'as', 'às', 'até', 'com', 'como', 'da', 'das', 'de', 'dela', 'delas', 'dele', 'deles', 'depois', 'do', 'dos', 'e', 'é', 'ela', 'elas', 'ele', 'eles']\n"
          ]
        }
      ],
      "source": [
        "print(stopwords.words('portuguese')[:30])"
      ]
    },
    {
      "cell_type": "markdown",
      "id": "f380b821",
      "metadata": {
        "id": "f380b821"
      },
      "source": [
        "### Pre-process"
      ]
    },
    {
      "cell_type": "code",
      "execution_count": 9,
      "id": "1fbb999a",
      "metadata": {
        "id": "1fbb999a"
      },
      "outputs": [],
      "source": [
        "def preprocess_text(text):\n",
        "\n",
        "    text = text.lower()\n",
        "    text = re.sub(r'http\\S+|www\\S+', '', text)\n",
        "    text = re.sub(r'@\\w+', '', text)\n",
        "\n",
        "    text = unicodedata.normalize(\"NFKD\", text)\n",
        "    text = text.encode(\"ascii\", \"ignore\").decode(\"utf-8\")\n",
        "\n",
        "    text = re.sub(r'[^a-z0-9\\s]', ' ', text)\n",
        "\n",
        "    return text.strip()\n",
        "\n",
        "data['text'] = data['text'].apply(preprocess_text)"
      ]
    },
    {
      "cell_type": "markdown",
      "id": "a3dd0651",
      "metadata": {
        "id": "a3dd0651"
      },
      "source": [
        "### Pre-calculate embeddings"
      ]
    },
    {
      "cell_type": "code",
      "execution_count": 10,
      "id": "4e91a63b",
      "metadata": {
        "colab": {
          "base_uri": "https://localhost:8080/"
        },
        "id": "4e91a63b",
        "outputId": "dc00f5e8-15e3-4b5a-b372-5df3ed7d539e"
      },
      "outputs": [
        {
          "name": "stdout",
          "output_type": "stream",
          "text": [
            "Embeddings carregadas do disco.\n"
          ]
        }
      ],
      "source": [
        "docs = data['text'].tolist()\n",
        "timestamps = data['month'].tolist()\n",
        "\n",
        "embeddings_path = \"embeddings.npy\"\n",
        "\n",
        "if os.path.exists(embeddings_path):\n",
        "    embeddings = np.load(embeddings_path)\n",
        "    print(\"Embeddings carregadas do disco.\")\n",
        "else:\n",
        "    embedding_model = SentenceTransformer(\"PORTULAN/serafim-100m-portuguese-pt-sentence-encoder\")\n",
        "    embeddings = embedding_model.encode(docs, show_progress_bar=True)\n",
        "    np.save(embeddings_path, embeddings)\n",
        "    print(\"Embeddings calculadas e salvas no disco.\")"
      ]
    },
    {
      "cell_type": "markdown",
      "id": "d6c67997",
      "metadata": {
        "id": "d6c67997"
      },
      "source": [
        "### Stopwords and vectorizer"
      ]
    },
    {
      "cell_type": "code",
      "execution_count": 11,
      "id": "7fe276c6",
      "metadata": {
        "id": "7fe276c6"
      },
      "outputs": [],
      "source": [
        "stopwords_pt = list(stopwords.words(\"portuguese\"))\n",
        "# apply the same preprocessing to the stopwords\n",
        "stopwords_pt = [preprocess_text(word) for word in stopwords_pt]\n",
        "stopwords_en = list(stopwords.words(\"english\"))\n",
        "my_stopwords = ['pra', 'gt', 'vai', 'ta', 'pq', 'vc']\n",
        "final_stopwords = stopwords_pt + stopwords_en + my_stopwords\n",
        "\n",
        "\n",
        "vectorizer = CountVectorizer(\n",
        "    ngram_range=(1,2),\n",
        "    stop_words=final_stopwords,\n",
        "    max_df=0.8,\n",
        "    min_df=1\n",
        ")"
      ]
    },
    {
      "cell_type": "markdown",
      "id": "a9ee4f67",
      "metadata": {
        "id": "a9ee4f67"
      },
      "source": [
        "### UMAP Dimension Reduction"
      ]
    },
    {
      "cell_type": "code",
      "execution_count": 12,
      "id": "dbecd5a3",
      "metadata": {
        "id": "dbecd5a3"
      },
      "outputs": [],
      "source": [
        "umap_model = UMAP(\n",
        "    n_neighbors=15,\n",
        "    n_components=10,\n",
        "    min_dist=0.0,\n",
        "    metric='cosine',\n",
        "    random_state=13\n",
        ")"
      ]
    },
    {
      "cell_type": "markdown",
      "id": "76d9cc8f",
      "metadata": {
        "id": "76d9cc8f"
      },
      "source": [
        "### HDBSCAN clustering"
      ]
    },
    {
      "cell_type": "code",
      "execution_count": 13,
      "id": "69542024",
      "metadata": {
        "id": "69542024"
      },
      "outputs": [],
      "source": [
        "hdbscan_model = HDBSCAN(\n",
        "    min_cluster_size=500,\n",
        "    metric='euclidean',\n",
        "    cluster_selection_method='eom',\n",
        "    prediction_data=True,\n",
        ")"
      ]
    },
    {
      "cell_type": "code",
      "execution_count": 14,
      "id": "a0dc61cc",
      "metadata": {
        "colab": {
          "base_uri": "https://localhost:8080/"
        },
        "id": "a0dc61cc",
        "outputId": "dd4b920d-7cb3-4f7a-af13-dacf22c36b3c"
      },
      "outputs": [
        {
          "name": "stderr",
          "output_type": "stream",
          "text": [
            "2025-07-06 17:30:26,157 - BERTopic - Dimensionality - Fitting the dimensionality reduction algorithm\n",
            "2025-07-06 17:30:58,009 - BERTopic - Dimensionality - Completed ✓\n",
            "2025-07-06 17:30:58,011 - BERTopic - Cluster - Start clustering the reduced embeddings\n",
            "2025-07-06 17:31:07,377 - BERTopic - Cluster - Completed ✓\n",
            "2025-07-06 17:31:07,382 - BERTopic - Representation - Fine-tuning topics using representation models.\n",
            "2025-07-06 17:31:12,829 - BERTopic - Representation - Completed ✓\n"
          ]
        }
      ],
      "source": [
        "topic_model = BERTopic(\n",
        "    vectorizer_model=vectorizer,\n",
        "    calculate_probabilities=True,\n",
        "    umap_model=umap_model,\n",
        "    hdbscan_model= hdbscan_model,\n",
        "    verbose=True\n",
        ")\n",
        "\n",
        "topics, probs = topic_model.fit_transform(docs, embeddings=embeddings)"
      ]
    },
    {
      "cell_type": "code",
      "execution_count": 15,
      "id": "7eb56836",
      "metadata": {
        "colab": {
          "base_uri": "https://localhost:8080/"
        },
        "id": "7eb56836",
        "outputId": "98f506b2-f682-44ce-ed36-32086ed71cc0"
      },
      "outputs": [
        {
          "name": "stdout",
          "output_type": "stream",
          "text": [
            "-1    27031\n",
            " 0     2815\n",
            " 1     2637\n",
            " 2     2122\n",
            " 3     1697\n",
            " 4      765\n",
            " 5      516\n",
            "Name: count, dtype: int64\n"
          ]
        }
      ],
      "source": [
        "### value counts of topics\n",
        "print(pd.Series(topics).value_counts().sort_index())"
      ]
    },
    {
      "cell_type": "code",
      "execution_count": 16,
      "id": "eBEzi_gRnZxF",
      "metadata": {
        "colab": {
          "base_uri": "https://localhost:8080/",
          "height": 362
        },
        "id": "eBEzi_gRnZxF",
        "outputId": "03d1286d-f696-4685-f934-f667638f4fff"
      },
      "outputs": [
        {
          "data": {
            "application/vnd.plotly.v1+json": {
              "config": {
                "plotlyServerURL": "https://plot.ly"
              },
              "data": [
                {
                  "marker": {
                    "color": "#D55E00"
                  },
                  "orientation": "h",
                  "type": "bar",
                  "x": [
                    0.0038720211822445417,
                    0.005284210242998802,
                    0.006127672186735474,
                    0.006406876903326558,
                    0.0068693667845110195
                  ],
                  "xaxis": "x",
                  "y": [
                    "cidades  ",
                    "otan russia  ",
                    "georgia  ",
                    "expansao  ",
                    "misseis  "
                  ],
                  "yaxis": "y"
                },
                {
                  "marker": {
                    "color": "#0072B2"
                  },
                  "orientation": "h",
                  "type": "bar",
                  "x": [
                    0.003613534616155846,
                    0.00371246592444502,
                    0.003916657080113925,
                    0.0046540042417375915,
                    0.004883071574489796
                  ],
                  "xaxis": "x2",
                  "y": [
                    "lider  ",
                    "dinheiro  ",
                    "ditadura  ",
                    "eleicoes  ",
                    "pro putin  "
                  ],
                  "yaxis": "y2"
                },
                {
                  "marker": {
                    "color": "#CC79A7"
                  },
                  "orientation": "h",
                  "type": "bar",
                  "x": [
                    0.010781389097222718,
                    0.011110269226342265,
                    0.012256674973076743,
                    0.017798029643306908,
                    0.018552891690101773
                  ],
                  "xaxis": "x3",
                  "y": [
                    "dinheiro  ",
                    "mercado  ",
                    "precos  ",
                    "dolar  ",
                    "preco  "
                  ],
                  "yaxis": "y3"
                },
                {
                  "marker": {
                    "color": "#E69F00"
                  },
                  "orientation": "h",
                  "type": "bar",
                  "x": [
                    0.008474366713074761,
                    0.00895824790726451,
                    0.009713105246938705,
                    0.009757006604855957,
                    0.012873272474553226
                  ],
                  "xaxis": "x4",
                  "y": [
                    "judeu  ",
                    "nazi  ",
                    "neo  ",
                    "neonazista  ",
                    "nazismo  "
                  ],
                  "yaxis": "y4"
                },
                {
                  "marker": {
                    "color": "#56B4E9"
                  },
                  "orientation": "h",
                  "type": "bar",
                  "x": [
                    0.007188932188990345,
                    0.007531851392609587,
                    0.007912158229838855,
                    0.00874205011751349,
                    0.009401942790819616
                  ],
                  "xaxis": "x5",
                  "y": [
                    "exercito ucraniano  ",
                    "tampa  ",
                    "pandemia guerra  ",
                    "povo ucrania  ",
                    "povo ucraniano  "
                  ],
                  "yaxis": "y5"
                },
                {
                  "marker": {
                    "color": "#009E73"
                  },
                  "orientation": "h",
                  "type": "bar",
                  "x": [
                    0.0071625726631964265,
                    0.007318565147724316,
                    0.007669347258773425,
                    0.00807381613026809,
                    0.015931606091052767
                  ],
                  "xaxis": "x6",
                  "y": [
                    "russia eh  ",
                    "amigo russia  ",
                    "russia brasil  ",
                    "invadir brasil  ",
                    "invadir pais  "
                  ],
                  "yaxis": "y6"
                }
              ],
              "layout": {
                "annotations": [
                  {
                    "font": {
                      "size": 16
                    },
                    "showarrow": false,
                    "text": "Topic 0",
                    "x": 0.0875,
                    "xanchor": "center",
                    "xref": "paper",
                    "y": 1,
                    "yanchor": "bottom",
                    "yref": "paper"
                  },
                  {
                    "font": {
                      "size": 16
                    },
                    "showarrow": false,
                    "text": "Topic 1",
                    "x": 0.36250000000000004,
                    "xanchor": "center",
                    "xref": "paper",
                    "y": 1,
                    "yanchor": "bottom",
                    "yref": "paper"
                  },
                  {
                    "font": {
                      "size": 16
                    },
                    "showarrow": false,
                    "text": "Topic 2",
                    "x": 0.6375000000000001,
                    "xanchor": "center",
                    "xref": "paper",
                    "y": 1,
                    "yanchor": "bottom",
                    "yref": "paper"
                  },
                  {
                    "font": {
                      "size": 16
                    },
                    "showarrow": false,
                    "text": "Topic 3",
                    "x": 0.9125,
                    "xanchor": "center",
                    "xref": "paper",
                    "y": 1,
                    "yanchor": "bottom",
                    "yref": "paper"
                  },
                  {
                    "font": {
                      "size": 16
                    },
                    "showarrow": false,
                    "text": "Topic 4",
                    "x": 0.0875,
                    "xanchor": "center",
                    "xref": "paper",
                    "y": 0.4,
                    "yanchor": "bottom",
                    "yref": "paper"
                  },
                  {
                    "font": {
                      "size": 16
                    },
                    "showarrow": false,
                    "text": "Topic 5",
                    "x": 0.36250000000000004,
                    "xanchor": "center",
                    "xref": "paper",
                    "y": 0.4,
                    "yanchor": "bottom",
                    "yref": "paper"
                  }
                ],
                "height": 500,
                "hoverlabel": {
                  "bgcolor": "white",
                  "font": {
                    "family": "Rockwell",
                    "size": 16
                  }
                },
                "showlegend": false,
                "template": {
                  "data": {
                    "bar": [
                      {
                        "error_x": {
                          "color": "#2a3f5f"
                        },
                        "error_y": {
                          "color": "#2a3f5f"
                        },
                        "marker": {
                          "line": {
                            "color": "white",
                            "width": 0.5
                          },
                          "pattern": {
                            "fillmode": "overlay",
                            "size": 10,
                            "solidity": 0.2
                          }
                        },
                        "type": "bar"
                      }
                    ],
                    "barpolar": [
                      {
                        "marker": {
                          "line": {
                            "color": "white",
                            "width": 0.5
                          },
                          "pattern": {
                            "fillmode": "overlay",
                            "size": 10,
                            "solidity": 0.2
                          }
                        },
                        "type": "barpolar"
                      }
                    ],
                    "carpet": [
                      {
                        "aaxis": {
                          "endlinecolor": "#2a3f5f",
                          "gridcolor": "#C8D4E3",
                          "linecolor": "#C8D4E3",
                          "minorgridcolor": "#C8D4E3",
                          "startlinecolor": "#2a3f5f"
                        },
                        "baxis": {
                          "endlinecolor": "#2a3f5f",
                          "gridcolor": "#C8D4E3",
                          "linecolor": "#C8D4E3",
                          "minorgridcolor": "#C8D4E3",
                          "startlinecolor": "#2a3f5f"
                        },
                        "type": "carpet"
                      }
                    ],
                    "choropleth": [
                      {
                        "colorbar": {
                          "outlinewidth": 0,
                          "ticks": ""
                        },
                        "type": "choropleth"
                      }
                    ],
                    "contour": [
                      {
                        "colorbar": {
                          "outlinewidth": 0,
                          "ticks": ""
                        },
                        "colorscale": [
                          [
                            0,
                            "#0d0887"
                          ],
                          [
                            0.1111111111111111,
                            "#46039f"
                          ],
                          [
                            0.2222222222222222,
                            "#7201a8"
                          ],
                          [
                            0.3333333333333333,
                            "#9c179e"
                          ],
                          [
                            0.4444444444444444,
                            "#bd3786"
                          ],
                          [
                            0.5555555555555556,
                            "#d8576b"
                          ],
                          [
                            0.6666666666666666,
                            "#ed7953"
                          ],
                          [
                            0.7777777777777778,
                            "#fb9f3a"
                          ],
                          [
                            0.8888888888888888,
                            "#fdca26"
                          ],
                          [
                            1,
                            "#f0f921"
                          ]
                        ],
                        "type": "contour"
                      }
                    ],
                    "contourcarpet": [
                      {
                        "colorbar": {
                          "outlinewidth": 0,
                          "ticks": ""
                        },
                        "type": "contourcarpet"
                      }
                    ],
                    "heatmap": [
                      {
                        "colorbar": {
                          "outlinewidth": 0,
                          "ticks": ""
                        },
                        "colorscale": [
                          [
                            0,
                            "#0d0887"
                          ],
                          [
                            0.1111111111111111,
                            "#46039f"
                          ],
                          [
                            0.2222222222222222,
                            "#7201a8"
                          ],
                          [
                            0.3333333333333333,
                            "#9c179e"
                          ],
                          [
                            0.4444444444444444,
                            "#bd3786"
                          ],
                          [
                            0.5555555555555556,
                            "#d8576b"
                          ],
                          [
                            0.6666666666666666,
                            "#ed7953"
                          ],
                          [
                            0.7777777777777778,
                            "#fb9f3a"
                          ],
                          [
                            0.8888888888888888,
                            "#fdca26"
                          ],
                          [
                            1,
                            "#f0f921"
                          ]
                        ],
                        "type": "heatmap"
                      }
                    ],
                    "histogram": [
                      {
                        "marker": {
                          "pattern": {
                            "fillmode": "overlay",
                            "size": 10,
                            "solidity": 0.2
                          }
                        },
                        "type": "histogram"
                      }
                    ],
                    "histogram2d": [
                      {
                        "colorbar": {
                          "outlinewidth": 0,
                          "ticks": ""
                        },
                        "colorscale": [
                          [
                            0,
                            "#0d0887"
                          ],
                          [
                            0.1111111111111111,
                            "#46039f"
                          ],
                          [
                            0.2222222222222222,
                            "#7201a8"
                          ],
                          [
                            0.3333333333333333,
                            "#9c179e"
                          ],
                          [
                            0.4444444444444444,
                            "#bd3786"
                          ],
                          [
                            0.5555555555555556,
                            "#d8576b"
                          ],
                          [
                            0.6666666666666666,
                            "#ed7953"
                          ],
                          [
                            0.7777777777777778,
                            "#fb9f3a"
                          ],
                          [
                            0.8888888888888888,
                            "#fdca26"
                          ],
                          [
                            1,
                            "#f0f921"
                          ]
                        ],
                        "type": "histogram2d"
                      }
                    ],
                    "histogram2dcontour": [
                      {
                        "colorbar": {
                          "outlinewidth": 0,
                          "ticks": ""
                        },
                        "colorscale": [
                          [
                            0,
                            "#0d0887"
                          ],
                          [
                            0.1111111111111111,
                            "#46039f"
                          ],
                          [
                            0.2222222222222222,
                            "#7201a8"
                          ],
                          [
                            0.3333333333333333,
                            "#9c179e"
                          ],
                          [
                            0.4444444444444444,
                            "#bd3786"
                          ],
                          [
                            0.5555555555555556,
                            "#d8576b"
                          ],
                          [
                            0.6666666666666666,
                            "#ed7953"
                          ],
                          [
                            0.7777777777777778,
                            "#fb9f3a"
                          ],
                          [
                            0.8888888888888888,
                            "#fdca26"
                          ],
                          [
                            1,
                            "#f0f921"
                          ]
                        ],
                        "type": "histogram2dcontour"
                      }
                    ],
                    "mesh3d": [
                      {
                        "colorbar": {
                          "outlinewidth": 0,
                          "ticks": ""
                        },
                        "type": "mesh3d"
                      }
                    ],
                    "parcoords": [
                      {
                        "line": {
                          "colorbar": {
                            "outlinewidth": 0,
                            "ticks": ""
                          }
                        },
                        "type": "parcoords"
                      }
                    ],
                    "pie": [
                      {
                        "automargin": true,
                        "type": "pie"
                      }
                    ],
                    "scatter": [
                      {
                        "fillpattern": {
                          "fillmode": "overlay",
                          "size": 10,
                          "solidity": 0.2
                        },
                        "type": "scatter"
                      }
                    ],
                    "scatter3d": [
                      {
                        "line": {
                          "colorbar": {
                            "outlinewidth": 0,
                            "ticks": ""
                          }
                        },
                        "marker": {
                          "colorbar": {
                            "outlinewidth": 0,
                            "ticks": ""
                          }
                        },
                        "type": "scatter3d"
                      }
                    ],
                    "scattercarpet": [
                      {
                        "marker": {
                          "colorbar": {
                            "outlinewidth": 0,
                            "ticks": ""
                          }
                        },
                        "type": "scattercarpet"
                      }
                    ],
                    "scattergeo": [
                      {
                        "marker": {
                          "colorbar": {
                            "outlinewidth": 0,
                            "ticks": ""
                          }
                        },
                        "type": "scattergeo"
                      }
                    ],
                    "scattergl": [
                      {
                        "marker": {
                          "colorbar": {
                            "outlinewidth": 0,
                            "ticks": ""
                          }
                        },
                        "type": "scattergl"
                      }
                    ],
                    "scattermap": [
                      {
                        "marker": {
                          "colorbar": {
                            "outlinewidth": 0,
                            "ticks": ""
                          }
                        },
                        "type": "scattermap"
                      }
                    ],
                    "scattermapbox": [
                      {
                        "marker": {
                          "colorbar": {
                            "outlinewidth": 0,
                            "ticks": ""
                          }
                        },
                        "type": "scattermapbox"
                      }
                    ],
                    "scatterpolar": [
                      {
                        "marker": {
                          "colorbar": {
                            "outlinewidth": 0,
                            "ticks": ""
                          }
                        },
                        "type": "scatterpolar"
                      }
                    ],
                    "scatterpolargl": [
                      {
                        "marker": {
                          "colorbar": {
                            "outlinewidth": 0,
                            "ticks": ""
                          }
                        },
                        "type": "scatterpolargl"
                      }
                    ],
                    "scatterternary": [
                      {
                        "marker": {
                          "colorbar": {
                            "outlinewidth": 0,
                            "ticks": ""
                          }
                        },
                        "type": "scatterternary"
                      }
                    ],
                    "surface": [
                      {
                        "colorbar": {
                          "outlinewidth": 0,
                          "ticks": ""
                        },
                        "colorscale": [
                          [
                            0,
                            "#0d0887"
                          ],
                          [
                            0.1111111111111111,
                            "#46039f"
                          ],
                          [
                            0.2222222222222222,
                            "#7201a8"
                          ],
                          [
                            0.3333333333333333,
                            "#9c179e"
                          ],
                          [
                            0.4444444444444444,
                            "#bd3786"
                          ],
                          [
                            0.5555555555555556,
                            "#d8576b"
                          ],
                          [
                            0.6666666666666666,
                            "#ed7953"
                          ],
                          [
                            0.7777777777777778,
                            "#fb9f3a"
                          ],
                          [
                            0.8888888888888888,
                            "#fdca26"
                          ],
                          [
                            1,
                            "#f0f921"
                          ]
                        ],
                        "type": "surface"
                      }
                    ],
                    "table": [
                      {
                        "cells": {
                          "fill": {
                            "color": "#EBF0F8"
                          },
                          "line": {
                            "color": "white"
                          }
                        },
                        "header": {
                          "fill": {
                            "color": "#C8D4E3"
                          },
                          "line": {
                            "color": "white"
                          }
                        },
                        "type": "table"
                      }
                    ]
                  },
                  "layout": {
                    "annotationdefaults": {
                      "arrowcolor": "#2a3f5f",
                      "arrowhead": 0,
                      "arrowwidth": 1
                    },
                    "autotypenumbers": "strict",
                    "coloraxis": {
                      "colorbar": {
                        "outlinewidth": 0,
                        "ticks": ""
                      }
                    },
                    "colorscale": {
                      "diverging": [
                        [
                          0,
                          "#8e0152"
                        ],
                        [
                          0.1,
                          "#c51b7d"
                        ],
                        [
                          0.2,
                          "#de77ae"
                        ],
                        [
                          0.3,
                          "#f1b6da"
                        ],
                        [
                          0.4,
                          "#fde0ef"
                        ],
                        [
                          0.5,
                          "#f7f7f7"
                        ],
                        [
                          0.6,
                          "#e6f5d0"
                        ],
                        [
                          0.7,
                          "#b8e186"
                        ],
                        [
                          0.8,
                          "#7fbc41"
                        ],
                        [
                          0.9,
                          "#4d9221"
                        ],
                        [
                          1,
                          "#276419"
                        ]
                      ],
                      "sequential": [
                        [
                          0,
                          "#0d0887"
                        ],
                        [
                          0.1111111111111111,
                          "#46039f"
                        ],
                        [
                          0.2222222222222222,
                          "#7201a8"
                        ],
                        [
                          0.3333333333333333,
                          "#9c179e"
                        ],
                        [
                          0.4444444444444444,
                          "#bd3786"
                        ],
                        [
                          0.5555555555555556,
                          "#d8576b"
                        ],
                        [
                          0.6666666666666666,
                          "#ed7953"
                        ],
                        [
                          0.7777777777777778,
                          "#fb9f3a"
                        ],
                        [
                          0.8888888888888888,
                          "#fdca26"
                        ],
                        [
                          1,
                          "#f0f921"
                        ]
                      ],
                      "sequentialminus": [
                        [
                          0,
                          "#0d0887"
                        ],
                        [
                          0.1111111111111111,
                          "#46039f"
                        ],
                        [
                          0.2222222222222222,
                          "#7201a8"
                        ],
                        [
                          0.3333333333333333,
                          "#9c179e"
                        ],
                        [
                          0.4444444444444444,
                          "#bd3786"
                        ],
                        [
                          0.5555555555555556,
                          "#d8576b"
                        ],
                        [
                          0.6666666666666666,
                          "#ed7953"
                        ],
                        [
                          0.7777777777777778,
                          "#fb9f3a"
                        ],
                        [
                          0.8888888888888888,
                          "#fdca26"
                        ],
                        [
                          1,
                          "#f0f921"
                        ]
                      ]
                    },
                    "colorway": [
                      "#636efa",
                      "#EF553B",
                      "#00cc96",
                      "#ab63fa",
                      "#FFA15A",
                      "#19d3f3",
                      "#FF6692",
                      "#B6E880",
                      "#FF97FF",
                      "#FECB52"
                    ],
                    "font": {
                      "color": "#2a3f5f"
                    },
                    "geo": {
                      "bgcolor": "white",
                      "lakecolor": "white",
                      "landcolor": "white",
                      "showlakes": true,
                      "showland": true,
                      "subunitcolor": "#C8D4E3"
                    },
                    "hoverlabel": {
                      "align": "left"
                    },
                    "hovermode": "closest",
                    "mapbox": {
                      "style": "light"
                    },
                    "paper_bgcolor": "white",
                    "plot_bgcolor": "white",
                    "polar": {
                      "angularaxis": {
                        "gridcolor": "#EBF0F8",
                        "linecolor": "#EBF0F8",
                        "ticks": ""
                      },
                      "bgcolor": "white",
                      "radialaxis": {
                        "gridcolor": "#EBF0F8",
                        "linecolor": "#EBF0F8",
                        "ticks": ""
                      }
                    },
                    "scene": {
                      "xaxis": {
                        "backgroundcolor": "white",
                        "gridcolor": "#DFE8F3",
                        "gridwidth": 2,
                        "linecolor": "#EBF0F8",
                        "showbackground": true,
                        "ticks": "",
                        "zerolinecolor": "#EBF0F8"
                      },
                      "yaxis": {
                        "backgroundcolor": "white",
                        "gridcolor": "#DFE8F3",
                        "gridwidth": 2,
                        "linecolor": "#EBF0F8",
                        "showbackground": true,
                        "ticks": "",
                        "zerolinecolor": "#EBF0F8"
                      },
                      "zaxis": {
                        "backgroundcolor": "white",
                        "gridcolor": "#DFE8F3",
                        "gridwidth": 2,
                        "linecolor": "#EBF0F8",
                        "showbackground": true,
                        "ticks": "",
                        "zerolinecolor": "#EBF0F8"
                      }
                    },
                    "shapedefaults": {
                      "line": {
                        "color": "#2a3f5f"
                      }
                    },
                    "ternary": {
                      "aaxis": {
                        "gridcolor": "#DFE8F3",
                        "linecolor": "#A2B1C6",
                        "ticks": ""
                      },
                      "baxis": {
                        "gridcolor": "#DFE8F3",
                        "linecolor": "#A2B1C6",
                        "ticks": ""
                      },
                      "bgcolor": "white",
                      "caxis": {
                        "gridcolor": "#DFE8F3",
                        "linecolor": "#A2B1C6",
                        "ticks": ""
                      }
                    },
                    "title": {
                      "x": 0.05
                    },
                    "xaxis": {
                      "automargin": true,
                      "gridcolor": "#EBF0F8",
                      "linecolor": "#EBF0F8",
                      "ticks": "",
                      "title": {
                        "standoff": 15
                      },
                      "zerolinecolor": "#EBF0F8",
                      "zerolinewidth": 2
                    },
                    "yaxis": {
                      "automargin": true,
                      "gridcolor": "#EBF0F8",
                      "linecolor": "#EBF0F8",
                      "ticks": "",
                      "title": {
                        "standoff": 15
                      },
                      "zerolinecolor": "#EBF0F8",
                      "zerolinewidth": 2
                    }
                  }
                },
                "title": {
                  "font": {
                    "color": "Black",
                    "size": 22
                  },
                  "text": "Topic Word Scores",
                  "x": 0.5,
                  "xanchor": "center",
                  "yanchor": "top"
                },
                "width": 1000,
                "xaxis": {
                  "anchor": "y",
                  "domain": [
                    0,
                    0.175
                  ],
                  "showgrid": true
                },
                "xaxis2": {
                  "anchor": "y2",
                  "domain": [
                    0.275,
                    0.45
                  ],
                  "showgrid": true
                },
                "xaxis3": {
                  "anchor": "y3",
                  "domain": [
                    0.55,
                    0.7250000000000001
                  ],
                  "showgrid": true
                },
                "xaxis4": {
                  "anchor": "y4",
                  "domain": [
                    0.825,
                    1
                  ],
                  "showgrid": true
                },
                "xaxis5": {
                  "anchor": "y5",
                  "domain": [
                    0,
                    0.175
                  ],
                  "showgrid": true
                },
                "xaxis6": {
                  "anchor": "y6",
                  "domain": [
                    0.275,
                    0.45
                  ],
                  "showgrid": true
                },
                "xaxis7": {
                  "anchor": "y7",
                  "domain": [
                    0.55,
                    0.7250000000000001
                  ],
                  "showgrid": true
                },
                "xaxis8": {
                  "anchor": "y8",
                  "domain": [
                    0.825,
                    1
                  ],
                  "showgrid": true
                },
                "yaxis": {
                  "anchor": "x",
                  "domain": [
                    0.6000000000000001,
                    1
                  ],
                  "showgrid": true
                },
                "yaxis2": {
                  "anchor": "x2",
                  "domain": [
                    0.6000000000000001,
                    1
                  ],
                  "showgrid": true
                },
                "yaxis3": {
                  "anchor": "x3",
                  "domain": [
                    0.6000000000000001,
                    1
                  ],
                  "showgrid": true
                },
                "yaxis4": {
                  "anchor": "x4",
                  "domain": [
                    0.6000000000000001,
                    1
                  ],
                  "showgrid": true
                },
                "yaxis5": {
                  "anchor": "x5",
                  "domain": [
                    0,
                    0.4
                  ],
                  "showgrid": true
                },
                "yaxis6": {
                  "anchor": "x6",
                  "domain": [
                    0,
                    0.4
                  ],
                  "showgrid": true
                },
                "yaxis7": {
                  "anchor": "x7",
                  "domain": [
                    0,
                    0.4
                  ],
                  "showgrid": true
                },
                "yaxis8": {
                  "anchor": "x8",
                  "domain": [
                    0,
                    0.4
                  ],
                  "showgrid": true
                }
              }
            }
          },
          "metadata": {},
          "output_type": "display_data"
        }
      ],
      "source": [
        "topic_model.visualize_barchart()"
      ]
    },
    {
      "cell_type": "code",
      "execution_count": 17,
      "id": "IexHSISinjwb",
      "metadata": {
        "colab": {
          "base_uri": "https://localhost:8080/"
        },
        "id": "IexHSISinjwb",
        "outputId": "d8e6fffa-41e0-464f-fdad-885cfbd26123"
      },
      "outputs": [
        {
          "name": "stderr",
          "output_type": "stream",
          "text": [
            "12it [02:23, 11.97s/it]\n"
          ]
        }
      ],
      "source": [
        "topics_over_time = topic_model.topics_over_time(docs, timestamps)"
      ]
    },
    {
      "cell_type": "code",
      "execution_count": 18,
      "id": "Xza0HQo6noa1",
      "metadata": {
        "colab": {
          "base_uri": "https://localhost:8080/",
          "height": 487
        },
        "id": "Xza0HQo6noa1",
        "outputId": "39d6242a-4add-4570-8095-b2a2f154d20d"
      },
      "outputs": [
        {
          "data": {
            "application/vnd.plotly.v1+json": {
              "config": {
                "plotlyServerURL": "https://plot.ly"
              },
              "data": [
                {
                  "hoverinfo": "text",
                  "hovertext": [
                    "<b>Topic 0</b><br>Words: balticos, misseis, otan russia, paises balticos, expansao",
                    "<b>Topic 0</b><br>Words: expansao, misseis, georgia, otan russia, ucrania entrar",
                    "<b>Topic 0</b><br>Words: misseis, expansao, georgia, otan russia, cidades",
                    "<b>Topic 0</b><br>Words: georgia, otan russia, misseis, macron, logistica",
                    "<b>Topic 0</b><br>Words: expansao, georgia, misseis, otan russia, adesao",
                    "<b>Topic 0</b><br>Words: expansao, expansao otan, misseis, pode pode, portao",
                    "<b>Topic 0</b><br>Words: segunda invasao, georgia, russa georgia, misseis, cidades",
                    "<b>Topic 0</b><br>Words: chelsea, vendido, contra otan, blindados, posso indiretamente",
                    "<b>Topic 0</b><br>Words: expansao, georgia, ofensiva, otan russia, misseis",
                    "<b>Topic 0</b><br>Words: misseis, expansao, georgia, logistica, otan russia",
                    "<b>Topic 0</b><br>Words: misseis, drones, otan russia, expansao, artilharia",
                    "<b>Topic 0</b><br>Words: drones, otan russia, ingresso, memorando, misseis"
                  ],
                  "marker": {
                    "color": "#E69F00"
                  },
                  "mode": "lines",
                  "name": "0_misseis_expansao_georgia_otan russia",
                  "type": "scatter",
                  "x": [
                    "2022-01-01T00:00:00.000000000",
                    "2022-02-01T00:00:00.000000000",
                    "2022-03-01T00:00:00.000000000",
                    "2022-04-01T00:00:00.000000000",
                    "2022-05-01T00:00:00.000000000",
                    "2022-06-01T00:00:00.000000000",
                    "2022-07-01T00:00:00.000000000",
                    "2022-08-01T00:00:00.000000000",
                    "2022-09-01T00:00:00.000000000",
                    "2022-10-01T00:00:00.000000000",
                    "2022-11-01T00:00:00.000000000",
                    "2022-12-01T00:00:00.000000000"
                  ],
                  "y": {
                    "bdata": "RgDRA5oCdgA2AUsARwAbAJIAvABnAEAA",
                    "dtype": "i2"
                  }
                },
                {
                  "hoverinfo": "text",
                  "hovertext": [
                    "<b>Topic 1</b><br>Words: regime, proletario, secas, lider, ditadura",
                    "<b>Topic 1</b><br>Words: pro putin, lider, putin putin, eleicoes, dinheiro",
                    "<b>Topic 1</b><br>Words: pro putin, eleicoes, lider, dinheiro, ditadura",
                    "<b>Topic 1</b><br>Words: saf, proposta, contrato, ronaldo, ditadura",
                    "<b>Topic 1</b><br>Words: candidato, quanto putin, pro putin, dinheiro, lula falou",
                    "<b>Topic 1</b><br>Words: conservador, candidato, dna, eleicoes, dilma",
                    "<b>Topic 1</b><br>Words: pro putin, ditadura, vou falar, eleicoes, elitists",
                    "<b>Topic 1</b><br>Words: onyx, neoliberais, burguesia, popular, neoliberalismo",
                    "<b>Topic 1</b><br>Words: ciro, sistema, processo, pdt, turno",
                    "<b>Topic 1</b><br>Words: eleicoes, pro putin, ditadura, urnas, turno",
                    "<b>Topic 1</b><br>Words: sistema, urnas, eleicoes, orban, turno",
                    "<b>Topic 1</b><br>Words: eleicoes, legitimidade, legitimidade democratica, seagal, democratica"
                  ],
                  "marker": {
                    "color": "#56B4E9"
                  },
                  "mode": "lines",
                  "name": "1_pro putin_eleicoes_ditadura_dinheiro",
                  "type": "scatter",
                  "x": [
                    "2022-01-01T00:00:00.000000000",
                    "2022-02-01T00:00:00.000000000",
                    "2022-03-01T00:00:00.000000000",
                    "2022-04-01T00:00:00.000000000",
                    "2022-05-01T00:00:00.000000000",
                    "2022-06-01T00:00:00.000000000",
                    "2022-07-01T00:00:00.000000000",
                    "2022-08-01T00:00:00.000000000",
                    "2022-09-01T00:00:00.000000000",
                    "2022-10-01T00:00:00.000000000",
                    "2022-11-01T00:00:00.000000000",
                    "2022-12-01T00:00:00.000000000"
                  ],
                  "y": {
                    "bdata": "WwCTApYCigDbAFsAagA0AKQA9gCMAEUA",
                    "dtype": "i2"
                  }
                },
                {
                  "hoverinfo": "text",
                  "hovertext": [
                    "<b>Topic 2</b><br>Words: ouro, valioso, preco, bitcoin, dolar",
                    "<b>Topic 2</b><br>Words: preco, dolar, mercado, dinheiro, precos",
                    "<b>Topic 2</b><br>Words: preco, dolar, mercado, dinheiro, precos",
                    "<b>Topic 2</b><br>Words: dolar, preco, dinheiro, precos, producao",
                    "<b>Topic 2</b><br>Words: preco, precos, dolar, dinheiro, mercado",
                    "<b>Topic 2</b><br>Words: preco, dolar, precos, petrobras, alta",
                    "<b>Topic 2</b><br>Words: dolar, preco, precos, mercado, producao",
                    "<b>Topic 2</b><br>Words: preco, precos, dolar, producao, alimentos",
                    "<b>Topic 2</b><br>Words: preco, energia, mercado, dinheiro, gas russo",
                    "<b>Topic 2</b><br>Words: dolar, preco, energia, mercado, dinheiro",
                    "<b>Topic 2</b><br>Words: preco, dolar, mercado, precos, dinheiro",
                    "<b>Topic 2</b><br>Words: dolar, preco, ouro, precos, comprar"
                  ],
                  "marker": {
                    "color": "#009E73"
                  },
                  "mode": "lines",
                  "name": "2_preco_dolar_precos_mercado",
                  "type": "scatter",
                  "x": [
                    "2022-01-01T00:00:00.000000000",
                    "2022-02-01T00:00:00.000000000",
                    "2022-03-01T00:00:00.000000000",
                    "2022-04-01T00:00:00.000000000",
                    "2022-05-01T00:00:00.000000000",
                    "2022-06-01T00:00:00.000000000",
                    "2022-07-01T00:00:00.000000000",
                    "2022-08-01T00:00:00.000000000",
                    "2022-09-01T00:00:00.000000000",
                    "2022-10-01T00:00:00.000000000",
                    "2022-11-01T00:00:00.000000000",
                    "2022-12-01T00:00:00.000000000"
                  ],
                  "y": {
                    "bdata": "SgBkAcUBsACsAIQAjABlALUAkgBxAE4A",
                    "dtype": "i2"
                  }
                },
                {
                  "hoverinfo": "text",
                  "hovertext": [
                    "<b>Topic 3</b><br>Words: neo, nazis, nazi, todos ucranianos, neo nazis",
                    "<b>Topic 3</b><br>Words: neonazista, nazismo, judeu, neo, nazi",
                    "<b>Topic 3</b><br>Words: nazismo, nazi, neo, judeu, neonazista",
                    "<b>Topic 3</b><br>Words: nazismo, nazi, neo, neonazista, xuxa",
                    "<b>Topic 3</b><br>Words: right, nazismo, ukraine, ukrainian, far right",
                    "<b>Topic 3</b><br>Words: nazismo, neo, noticias, neo nazistas, grupo nacional",
                    "<b>Topic 3</b><br>Words: neo, neonazi, neo nazistas, comentaram, neonazista",
                    "<b>Topic 3</b><br>Words: construto artificial, construto, artificial, identidade, toda moral",
                    "<b>Topic 3</b><br>Words: nazismo, neo, judeu, nazi, exercito ucraniano",
                    "<b>Topic 3</b><br>Words: neo, nazismo, neo nazista, tatuagens, nazi",
                    "<b>Topic 3</b><br>Words: nazismo, neonazista, fascistas, neo, nazi",
                    "<b>Topic 3</b><br>Words: nazismo, divisao, ss, neonazista, judeus"
                  ],
                  "marker": {
                    "color": "#F0E442"
                  },
                  "mode": "lines",
                  "name": "3_nazismo_neonazista_neo_nazi",
                  "type": "scatter",
                  "x": [
                    "2022-01-01T00:00:00.000000000",
                    "2022-02-01T00:00:00.000000000",
                    "2022-03-01T00:00:00.000000000",
                    "2022-04-01T00:00:00.000000000",
                    "2022-05-01T00:00:00.000000000",
                    "2022-06-01T00:00:00.000000000",
                    "2022-07-01T00:00:00.000000000",
                    "2022-08-01T00:00:00.000000000",
                    "2022-09-01T00:00:00.000000000",
                    "2022-10-01T00:00:00.000000000",
                    "2022-11-01T00:00:00.000000000",
                    "2022-12-01T00:00:00.000000000"
                  ],
                  "y": {
                    "bdata": "HQAHAjACVABpADEANQARAFsARABDADcA",
                    "dtype": "i2"
                  }
                },
                {
                  "hoverinfo": "text",
                  "hovertext": [
                    "<b>Topic 4</b><br>Words: amigos bolsonaro, viva kiev, lembrou episodio, ucrania hype, bolsonaro ucranianos",
                    "<b>Topic 4</b><br>Words: tampa, meio fio, rio janeiro, traumatismo, traumatismo ucraniano",
                    "<b>Topic 4</b><br>Words: povo ucraniano, pais civilizado, sabe ucrania, voluntarios, exercito ucraniano",
                    "<b>Topic 4</b><br>Words: ucrania destruindo, ouvir dois, kkkkkkkkkk, russo ucraniano, ver guerra",
                    "<b>Topic 4</b><br>Words: mini saia, tsc, ucrania sair, territorio ucrania, ministro defesa",
                    "<b>Topic 4</b><br>Words: desrespeitoso ucrania, desrespeitoso, carioca, covid guerra, governadores",
                    "<b>Topic 4</b><br>Words: ucrania amp, pandemia guerra, maior palco, kiev noises, jogavam ucrania",
                    "<b>Topic 4</b><br>Words: fatores, oposicao culpa, concordo tbm, literalmente tocou, uteis fiscalizacao",
                    "<b>Topic 4</b><br>Words: estah guerra, gay apaixonando, estepes ucrania, ucraniana convocado, estah",
                    "<b>Topic 4</b><br>Words: causou guerra, ocupado ganhando, ganhando fronteira, cavalo dentes, ucrania ocupado",
                    "<b>Topic 4</b><br>Words: ora ora, mundo militar, hoje mundo, bolsonaro caralho, proximo discurso",
                    "<b>Topic 4</b><br>Words: 60 segundos, bayraktar lugansk, winning eleven, hmmm acha, bem segunda"
                  ],
                  "marker": {
                    "color": "#D55E00"
                  },
                  "mode": "lines",
                  "name": "4_povo ucraniano_povo ucrania_pandemia g...",
                  "type": "scatter",
                  "x": [
                    "2022-01-01T00:00:00.000000000",
                    "2022-02-01T00:00:00.000000000",
                    "2022-03-01T00:00:00.000000000",
                    "2022-04-01T00:00:00.000000000",
                    "2022-05-01T00:00:00.000000000",
                    "2022-06-01T00:00:00.000000000",
                    "2022-07-01T00:00:00.000000000",
                    "2022-08-01T00:00:00.000000000",
                    "2022-09-01T00:00:00.000000000",
                    "2022-10-01T00:00:00.000000000",
                    "2022-11-01T00:00:00.000000000",
                    "2022-12-01T00:00:00.000000000"
                  ],
                  "y": {
                    "bdata": "EQDhANcAJAAuAC8AKQAWACUAGwAiABIA",
                    "dtype": "i2"
                  }
                },
                {
                  "hoverinfo": "text",
                  "hovertext": [
                    "<b>Topic 5</b><br>Words: guerra marinha, outros outros, contra reino, briga contra, marinha contra",
                    "<b>Topic 5</b><br>Words: invadir pais, invadir brasil, rj, tao ostensiva, ostensiva assim",
                    "<b>Topic 5</b><br>Words: russia brasil, extincao pais, ponte nova, pais oriente, passou limites",
                    "<b>Topic 5</b><br>Words: pqp russia, 1939 assim, autoritaria historia, aborta mundo, virou parodia",
                    "<b>Topic 5</b><br>Words: 2022 agora, virar padrao, aceitando derrota, zelenski manu, washington nyc",
                    "<b>Topic 5</b><br>Words: grande exercito, espirito guerreiro, atacada sancoes, atacado patriotas, gracas banqueiros",
                    "<b>Topic 5</b><br>Words: policia federal, culturalmente, federal, ah ambito, talvez sob",
                    "<b>Topic 5</b><br>Words: juntaria resistencia, casos agora, fracao tamanho, golpe juntaria, raizes crime",
                    "<b>Topic 5</b><br>Words: famosamente nunca, famosamente, zonas influencia, russia eh, perderem",
                    "<b>Topic 5</b><br>Words: estado terrorista, russia estado, ligacao maconaria, 19 monarquistas, 80 asiatico",
                    "<b>Topic 5</b><br>Words: visite, entregaria, russia comecou, chola, chola bebe",
                    "<b>Topic 5</b><br>Words: estaduniense, imperio estaduniense, la governo, historia propagando, ctyz"
                  ],
                  "marker": {
                    "color": "#0072B2"
                  },
                  "mode": "lines",
                  "name": "5_invadir pais_invadir brasil_russia bra...",
                  "type": "scatter",
                  "x": [
                    "2022-01-01T00:00:00.000000000",
                    "2022-02-01T00:00:00.000000000",
                    "2022-03-01T00:00:00.000000000",
                    "2022-04-01T00:00:00.000000000",
                    "2022-05-01T00:00:00.000000000",
                    "2022-06-01T00:00:00.000000000",
                    "2022-07-01T00:00:00.000000000",
                    "2022-08-01T00:00:00.000000000",
                    "2022-09-01T00:00:00.000000000",
                    "2022-10-01T00:00:00.000000000",
                    "2022-11-01T00:00:00.000000000",
                    "2022-12-01T00:00:00.000000000"
                  ],
                  "y": {
                    "bdata": "FQCVAHEAIwAiABMAEAALAB0AGgAjABwA",
                    "dtype": "i2"
                  }
                }
              ],
              "layout": {
                "height": 450,
                "hoverlabel": {
                  "bgcolor": "white",
                  "font": {
                    "family": "Rockwell",
                    "size": 16
                  }
                },
                "legend": {
                  "title": {
                    "text": "<b>Global Topic Representation"
                  }
                },
                "template": {
                  "data": {
                    "bar": [
                      {
                        "error_x": {
                          "color": "rgb(36,36,36)"
                        },
                        "error_y": {
                          "color": "rgb(36,36,36)"
                        },
                        "marker": {
                          "line": {
                            "color": "white",
                            "width": 0.5
                          },
                          "pattern": {
                            "fillmode": "overlay",
                            "size": 10,
                            "solidity": 0.2
                          }
                        },
                        "type": "bar"
                      }
                    ],
                    "barpolar": [
                      {
                        "marker": {
                          "line": {
                            "color": "white",
                            "width": 0.5
                          },
                          "pattern": {
                            "fillmode": "overlay",
                            "size": 10,
                            "solidity": 0.2
                          }
                        },
                        "type": "barpolar"
                      }
                    ],
                    "carpet": [
                      {
                        "aaxis": {
                          "endlinecolor": "rgb(36,36,36)",
                          "gridcolor": "white",
                          "linecolor": "white",
                          "minorgridcolor": "white",
                          "startlinecolor": "rgb(36,36,36)"
                        },
                        "baxis": {
                          "endlinecolor": "rgb(36,36,36)",
                          "gridcolor": "white",
                          "linecolor": "white",
                          "minorgridcolor": "white",
                          "startlinecolor": "rgb(36,36,36)"
                        },
                        "type": "carpet"
                      }
                    ],
                    "choropleth": [
                      {
                        "colorbar": {
                          "outlinewidth": 1,
                          "tickcolor": "rgb(36,36,36)",
                          "ticks": "outside"
                        },
                        "type": "choropleth"
                      }
                    ],
                    "contour": [
                      {
                        "colorbar": {
                          "outlinewidth": 1,
                          "tickcolor": "rgb(36,36,36)",
                          "ticks": "outside"
                        },
                        "colorscale": [
                          [
                            0,
                            "#440154"
                          ],
                          [
                            0.1111111111111111,
                            "#482878"
                          ],
                          [
                            0.2222222222222222,
                            "#3e4989"
                          ],
                          [
                            0.3333333333333333,
                            "#31688e"
                          ],
                          [
                            0.4444444444444444,
                            "#26828e"
                          ],
                          [
                            0.5555555555555556,
                            "#1f9e89"
                          ],
                          [
                            0.6666666666666666,
                            "#35b779"
                          ],
                          [
                            0.7777777777777778,
                            "#6ece58"
                          ],
                          [
                            0.8888888888888888,
                            "#b5de2b"
                          ],
                          [
                            1,
                            "#fde725"
                          ]
                        ],
                        "type": "contour"
                      }
                    ],
                    "contourcarpet": [
                      {
                        "colorbar": {
                          "outlinewidth": 1,
                          "tickcolor": "rgb(36,36,36)",
                          "ticks": "outside"
                        },
                        "type": "contourcarpet"
                      }
                    ],
                    "heatmap": [
                      {
                        "colorbar": {
                          "outlinewidth": 1,
                          "tickcolor": "rgb(36,36,36)",
                          "ticks": "outside"
                        },
                        "colorscale": [
                          [
                            0,
                            "#440154"
                          ],
                          [
                            0.1111111111111111,
                            "#482878"
                          ],
                          [
                            0.2222222222222222,
                            "#3e4989"
                          ],
                          [
                            0.3333333333333333,
                            "#31688e"
                          ],
                          [
                            0.4444444444444444,
                            "#26828e"
                          ],
                          [
                            0.5555555555555556,
                            "#1f9e89"
                          ],
                          [
                            0.6666666666666666,
                            "#35b779"
                          ],
                          [
                            0.7777777777777778,
                            "#6ece58"
                          ],
                          [
                            0.8888888888888888,
                            "#b5de2b"
                          ],
                          [
                            1,
                            "#fde725"
                          ]
                        ],
                        "type": "heatmap"
                      }
                    ],
                    "histogram": [
                      {
                        "marker": {
                          "line": {
                            "color": "white",
                            "width": 0.6
                          }
                        },
                        "type": "histogram"
                      }
                    ],
                    "histogram2d": [
                      {
                        "colorbar": {
                          "outlinewidth": 1,
                          "tickcolor": "rgb(36,36,36)",
                          "ticks": "outside"
                        },
                        "colorscale": [
                          [
                            0,
                            "#440154"
                          ],
                          [
                            0.1111111111111111,
                            "#482878"
                          ],
                          [
                            0.2222222222222222,
                            "#3e4989"
                          ],
                          [
                            0.3333333333333333,
                            "#31688e"
                          ],
                          [
                            0.4444444444444444,
                            "#26828e"
                          ],
                          [
                            0.5555555555555556,
                            "#1f9e89"
                          ],
                          [
                            0.6666666666666666,
                            "#35b779"
                          ],
                          [
                            0.7777777777777778,
                            "#6ece58"
                          ],
                          [
                            0.8888888888888888,
                            "#b5de2b"
                          ],
                          [
                            1,
                            "#fde725"
                          ]
                        ],
                        "type": "histogram2d"
                      }
                    ],
                    "histogram2dcontour": [
                      {
                        "colorbar": {
                          "outlinewidth": 1,
                          "tickcolor": "rgb(36,36,36)",
                          "ticks": "outside"
                        },
                        "colorscale": [
                          [
                            0,
                            "#440154"
                          ],
                          [
                            0.1111111111111111,
                            "#482878"
                          ],
                          [
                            0.2222222222222222,
                            "#3e4989"
                          ],
                          [
                            0.3333333333333333,
                            "#31688e"
                          ],
                          [
                            0.4444444444444444,
                            "#26828e"
                          ],
                          [
                            0.5555555555555556,
                            "#1f9e89"
                          ],
                          [
                            0.6666666666666666,
                            "#35b779"
                          ],
                          [
                            0.7777777777777778,
                            "#6ece58"
                          ],
                          [
                            0.8888888888888888,
                            "#b5de2b"
                          ],
                          [
                            1,
                            "#fde725"
                          ]
                        ],
                        "type": "histogram2dcontour"
                      }
                    ],
                    "mesh3d": [
                      {
                        "colorbar": {
                          "outlinewidth": 1,
                          "tickcolor": "rgb(36,36,36)",
                          "ticks": "outside"
                        },
                        "type": "mesh3d"
                      }
                    ],
                    "parcoords": [
                      {
                        "line": {
                          "colorbar": {
                            "outlinewidth": 1,
                            "tickcolor": "rgb(36,36,36)",
                            "ticks": "outside"
                          }
                        },
                        "type": "parcoords"
                      }
                    ],
                    "pie": [
                      {
                        "automargin": true,
                        "type": "pie"
                      }
                    ],
                    "scatter": [
                      {
                        "fillpattern": {
                          "fillmode": "overlay",
                          "size": 10,
                          "solidity": 0.2
                        },
                        "type": "scatter"
                      }
                    ],
                    "scatter3d": [
                      {
                        "line": {
                          "colorbar": {
                            "outlinewidth": 1,
                            "tickcolor": "rgb(36,36,36)",
                            "ticks": "outside"
                          }
                        },
                        "marker": {
                          "colorbar": {
                            "outlinewidth": 1,
                            "tickcolor": "rgb(36,36,36)",
                            "ticks": "outside"
                          }
                        },
                        "type": "scatter3d"
                      }
                    ],
                    "scattercarpet": [
                      {
                        "marker": {
                          "colorbar": {
                            "outlinewidth": 1,
                            "tickcolor": "rgb(36,36,36)",
                            "ticks": "outside"
                          }
                        },
                        "type": "scattercarpet"
                      }
                    ],
                    "scattergeo": [
                      {
                        "marker": {
                          "colorbar": {
                            "outlinewidth": 1,
                            "tickcolor": "rgb(36,36,36)",
                            "ticks": "outside"
                          }
                        },
                        "type": "scattergeo"
                      }
                    ],
                    "scattergl": [
                      {
                        "marker": {
                          "colorbar": {
                            "outlinewidth": 1,
                            "tickcolor": "rgb(36,36,36)",
                            "ticks": "outside"
                          }
                        },
                        "type": "scattergl"
                      }
                    ],
                    "scattermap": [
                      {
                        "marker": {
                          "colorbar": {
                            "outlinewidth": 1,
                            "tickcolor": "rgb(36,36,36)",
                            "ticks": "outside"
                          }
                        },
                        "type": "scattermap"
                      }
                    ],
                    "scattermapbox": [
                      {
                        "marker": {
                          "colorbar": {
                            "outlinewidth": 1,
                            "tickcolor": "rgb(36,36,36)",
                            "ticks": "outside"
                          }
                        },
                        "type": "scattermapbox"
                      }
                    ],
                    "scatterpolar": [
                      {
                        "marker": {
                          "colorbar": {
                            "outlinewidth": 1,
                            "tickcolor": "rgb(36,36,36)",
                            "ticks": "outside"
                          }
                        },
                        "type": "scatterpolar"
                      }
                    ],
                    "scatterpolargl": [
                      {
                        "marker": {
                          "colorbar": {
                            "outlinewidth": 1,
                            "tickcolor": "rgb(36,36,36)",
                            "ticks": "outside"
                          }
                        },
                        "type": "scatterpolargl"
                      }
                    ],
                    "scatterternary": [
                      {
                        "marker": {
                          "colorbar": {
                            "outlinewidth": 1,
                            "tickcolor": "rgb(36,36,36)",
                            "ticks": "outside"
                          }
                        },
                        "type": "scatterternary"
                      }
                    ],
                    "surface": [
                      {
                        "colorbar": {
                          "outlinewidth": 1,
                          "tickcolor": "rgb(36,36,36)",
                          "ticks": "outside"
                        },
                        "colorscale": [
                          [
                            0,
                            "#440154"
                          ],
                          [
                            0.1111111111111111,
                            "#482878"
                          ],
                          [
                            0.2222222222222222,
                            "#3e4989"
                          ],
                          [
                            0.3333333333333333,
                            "#31688e"
                          ],
                          [
                            0.4444444444444444,
                            "#26828e"
                          ],
                          [
                            0.5555555555555556,
                            "#1f9e89"
                          ],
                          [
                            0.6666666666666666,
                            "#35b779"
                          ],
                          [
                            0.7777777777777778,
                            "#6ece58"
                          ],
                          [
                            0.8888888888888888,
                            "#b5de2b"
                          ],
                          [
                            1,
                            "#fde725"
                          ]
                        ],
                        "type": "surface"
                      }
                    ],
                    "table": [
                      {
                        "cells": {
                          "fill": {
                            "color": "rgb(237,237,237)"
                          },
                          "line": {
                            "color": "white"
                          }
                        },
                        "header": {
                          "fill": {
                            "color": "rgb(217,217,217)"
                          },
                          "line": {
                            "color": "white"
                          }
                        },
                        "type": "table"
                      }
                    ]
                  },
                  "layout": {
                    "annotationdefaults": {
                      "arrowhead": 0,
                      "arrowwidth": 1
                    },
                    "autotypenumbers": "strict",
                    "coloraxis": {
                      "colorbar": {
                        "outlinewidth": 1,
                        "tickcolor": "rgb(36,36,36)",
                        "ticks": "outside"
                      }
                    },
                    "colorscale": {
                      "diverging": [
                        [
                          0,
                          "rgb(103,0,31)"
                        ],
                        [
                          0.1,
                          "rgb(178,24,43)"
                        ],
                        [
                          0.2,
                          "rgb(214,96,77)"
                        ],
                        [
                          0.3,
                          "rgb(244,165,130)"
                        ],
                        [
                          0.4,
                          "rgb(253,219,199)"
                        ],
                        [
                          0.5,
                          "rgb(247,247,247)"
                        ],
                        [
                          0.6,
                          "rgb(209,229,240)"
                        ],
                        [
                          0.7,
                          "rgb(146,197,222)"
                        ],
                        [
                          0.8,
                          "rgb(67,147,195)"
                        ],
                        [
                          0.9,
                          "rgb(33,102,172)"
                        ],
                        [
                          1,
                          "rgb(5,48,97)"
                        ]
                      ],
                      "sequential": [
                        [
                          0,
                          "#440154"
                        ],
                        [
                          0.1111111111111111,
                          "#482878"
                        ],
                        [
                          0.2222222222222222,
                          "#3e4989"
                        ],
                        [
                          0.3333333333333333,
                          "#31688e"
                        ],
                        [
                          0.4444444444444444,
                          "#26828e"
                        ],
                        [
                          0.5555555555555556,
                          "#1f9e89"
                        ],
                        [
                          0.6666666666666666,
                          "#35b779"
                        ],
                        [
                          0.7777777777777778,
                          "#6ece58"
                        ],
                        [
                          0.8888888888888888,
                          "#b5de2b"
                        ],
                        [
                          1,
                          "#fde725"
                        ]
                      ],
                      "sequentialminus": [
                        [
                          0,
                          "#440154"
                        ],
                        [
                          0.1111111111111111,
                          "#482878"
                        ],
                        [
                          0.2222222222222222,
                          "#3e4989"
                        ],
                        [
                          0.3333333333333333,
                          "#31688e"
                        ],
                        [
                          0.4444444444444444,
                          "#26828e"
                        ],
                        [
                          0.5555555555555556,
                          "#1f9e89"
                        ],
                        [
                          0.6666666666666666,
                          "#35b779"
                        ],
                        [
                          0.7777777777777778,
                          "#6ece58"
                        ],
                        [
                          0.8888888888888888,
                          "#b5de2b"
                        ],
                        [
                          1,
                          "#fde725"
                        ]
                      ]
                    },
                    "colorway": [
                      "#1F77B4",
                      "#FF7F0E",
                      "#2CA02C",
                      "#D62728",
                      "#9467BD",
                      "#8C564B",
                      "#E377C2",
                      "#7F7F7F",
                      "#BCBD22",
                      "#17BECF"
                    ],
                    "font": {
                      "color": "rgb(36,36,36)"
                    },
                    "geo": {
                      "bgcolor": "white",
                      "lakecolor": "white",
                      "landcolor": "white",
                      "showlakes": true,
                      "showland": true,
                      "subunitcolor": "white"
                    },
                    "hoverlabel": {
                      "align": "left"
                    },
                    "hovermode": "closest",
                    "mapbox": {
                      "style": "light"
                    },
                    "paper_bgcolor": "white",
                    "plot_bgcolor": "white",
                    "polar": {
                      "angularaxis": {
                        "gridcolor": "rgb(232,232,232)",
                        "linecolor": "rgb(36,36,36)",
                        "showgrid": false,
                        "showline": true,
                        "ticks": "outside"
                      },
                      "bgcolor": "white",
                      "radialaxis": {
                        "gridcolor": "rgb(232,232,232)",
                        "linecolor": "rgb(36,36,36)",
                        "showgrid": false,
                        "showline": true,
                        "ticks": "outside"
                      }
                    },
                    "scene": {
                      "xaxis": {
                        "backgroundcolor": "white",
                        "gridcolor": "rgb(232,232,232)",
                        "gridwidth": 2,
                        "linecolor": "rgb(36,36,36)",
                        "showbackground": true,
                        "showgrid": false,
                        "showline": true,
                        "ticks": "outside",
                        "zeroline": false,
                        "zerolinecolor": "rgb(36,36,36)"
                      },
                      "yaxis": {
                        "backgroundcolor": "white",
                        "gridcolor": "rgb(232,232,232)",
                        "gridwidth": 2,
                        "linecolor": "rgb(36,36,36)",
                        "showbackground": true,
                        "showgrid": false,
                        "showline": true,
                        "ticks": "outside",
                        "zeroline": false,
                        "zerolinecolor": "rgb(36,36,36)"
                      },
                      "zaxis": {
                        "backgroundcolor": "white",
                        "gridcolor": "rgb(232,232,232)",
                        "gridwidth": 2,
                        "linecolor": "rgb(36,36,36)",
                        "showbackground": true,
                        "showgrid": false,
                        "showline": true,
                        "ticks": "outside",
                        "zeroline": false,
                        "zerolinecolor": "rgb(36,36,36)"
                      }
                    },
                    "shapedefaults": {
                      "fillcolor": "black",
                      "line": {
                        "width": 0
                      },
                      "opacity": 0.3
                    },
                    "ternary": {
                      "aaxis": {
                        "gridcolor": "rgb(232,232,232)",
                        "linecolor": "rgb(36,36,36)",
                        "showgrid": false,
                        "showline": true,
                        "ticks": "outside"
                      },
                      "baxis": {
                        "gridcolor": "rgb(232,232,232)",
                        "linecolor": "rgb(36,36,36)",
                        "showgrid": false,
                        "showline": true,
                        "ticks": "outside"
                      },
                      "bgcolor": "white",
                      "caxis": {
                        "gridcolor": "rgb(232,232,232)",
                        "linecolor": "rgb(36,36,36)",
                        "showgrid": false,
                        "showline": true,
                        "ticks": "outside"
                      }
                    },
                    "title": {
                      "x": 0.05
                    },
                    "xaxis": {
                      "automargin": true,
                      "gridcolor": "rgb(232,232,232)",
                      "linecolor": "rgb(36,36,36)",
                      "showgrid": false,
                      "showline": true,
                      "ticks": "outside",
                      "title": {
                        "standoff": 15
                      },
                      "zeroline": false,
                      "zerolinecolor": "rgb(36,36,36)"
                    },
                    "yaxis": {
                      "automargin": true,
                      "gridcolor": "rgb(232,232,232)",
                      "linecolor": "rgb(36,36,36)",
                      "showgrid": false,
                      "showline": true,
                      "ticks": "outside",
                      "title": {
                        "standoff": 15
                      },
                      "zeroline": false,
                      "zerolinecolor": "rgb(36,36,36)"
                    }
                  }
                },
                "title": {
                  "font": {
                    "color": "Black",
                    "size": 22
                  },
                  "text": "<b>Topics over Time</b>",
                  "x": 0.4,
                  "xanchor": "center",
                  "y": 0.95,
                  "yanchor": "top"
                },
                "width": 1250,
                "xaxis": {
                  "showgrid": true
                },
                "yaxis": {
                  "showgrid": true,
                  "title": {
                    "text": "Frequency"
                  }
                }
              }
            }
          },
          "metadata": {},
          "output_type": "display_data"
        }
      ],
      "source": [
        "topic_model.visualize_topics_over_time(topics_over_time)"
      ]
    },
    {
      "cell_type": "code",
      "execution_count": 19,
      "id": "f5f69756",
      "metadata": {
        "colab": {
          "base_uri": "https://localhost:8080/",
          "height": 297
        },
        "id": "f5f69756",
        "outputId": "ed8ce005-fbd3-4901-b7fb-5a8c6e803126"
      },
      "outputs": [
        {
          "data": {
            "application/vnd.plotly.v1+json": {
              "config": {
                "plotlyServerURL": "https://plot.ly"
              },
              "data": [
                {
                  "hoverinfo": "text",
                  "marker": {
                    "color": "rgb(61,153,112)"
                  },
                  "mode": "lines",
                  "type": "scatter",
                  "x": {
                    "bdata": "AAAAAAAAAADpKAJtWLnmP+koAm1YueY/AAAAAAAAAAA=",
                    "dtype": "f8"
                  },
                  "xaxis": "x",
                  "y": {
                    "bdata": "AAAAAAAAFMAAAAAAAAAUwAAAAAAAAC7AAAAAAAAALsA=",
                    "dtype": "f8"
                  },
                  "yaxis": "y"
                },
                {
                  "hoverinfo": "text",
                  "marker": {
                    "color": "rgb(61,153,112)"
                  },
                  "mode": "lines",
                  "type": "scatter",
                  "x": {
                    "bdata": "AAAAAAAAAAA8FTIVR9HnPzwVMhVH0ec/AAAAAAAAAAA=",
                    "dtype": "f8"
                  },
                  "xaxis": "x",
                  "y": {
                    "bdata": "AAAAAAAAOcAAAAAAAAA5wAAAAAAAgEHAAAAAAACAQcA=",
                    "dtype": "f8"
                  },
                  "yaxis": "y"
                },
                {
                  "hoverinfo": "text",
                  "marker": {
                    "color": "rgb(61,153,112)"
                  },
                  "mode": "lines",
                  "type": "scatter",
                  "x": {
                    "bdata": "6SgCbVi55j/QGmaKBkTqP9AaZooGROo/PBUyFUfR5z8=",
                    "dtype": "f8"
                  },
                  "xaxis": "x",
                  "y": {
                    "bdata": "AAAAAAAAJMAAAAAAAAAkwAAAAAAAAD7AAAAAAAAAPsA=",
                    "dtype": "f8"
                  },
                  "yaxis": "y"
                },
                {
                  "hoverinfo": "text",
                  "marker": {
                    "color": "rgb(255,65,54)"
                  },
                  "mode": "lines",
                  "type": "scatter",
                  "x": {
                    "bdata": "AAAAAAAAAACgZYRjrJzvP6BlhGOsnO8/AAAAAAAAAAA=",
                    "dtype": "f8"
                  },
                  "xaxis": "x",
                  "y": {
                    "bdata": "AAAAAACARsAAAAAAAIBGwAAAAAAAgEvAAAAAAACAS8A=",
                    "dtype": "f8"
                  },
                  "yaxis": "y"
                },
                {
                  "hoverinfo": "text",
                  "marker": {
                    "color": "rgb(0,116,217)"
                  },
                  "mode": "lines",
                  "type": "scatter",
                  "x": {
                    "bdata": "0BpmigZE6j/R9eM5mZvxP9H14zmZm/E/oGWEY6yc7z8=",
                    "dtype": "f8"
                  },
                  "xaxis": "x",
                  "y": {
                    "bdata": "AAAAAAAANMAAAAAAAAA0wAAAAAAAAEnAAAAAAAAAScA=",
                    "dtype": "f8"
                  },
                  "yaxis": "y"
                }
              ],
              "layout": {
                "autosize": false,
                "height": 290,
                "hoverlabel": {
                  "bgcolor": "white",
                  "font": {
                    "family": "Rockwell",
                    "size": 16
                  }
                },
                "hovermode": "closest",
                "plot_bgcolor": "#ECEFF1",
                "showlegend": false,
                "template": {
                  "data": {
                    "bar": [
                      {
                        "error_x": {
                          "color": "#2a3f5f"
                        },
                        "error_y": {
                          "color": "#2a3f5f"
                        },
                        "marker": {
                          "line": {
                            "color": "white",
                            "width": 0.5
                          },
                          "pattern": {
                            "fillmode": "overlay",
                            "size": 10,
                            "solidity": 0.2
                          }
                        },
                        "type": "bar"
                      }
                    ],
                    "barpolar": [
                      {
                        "marker": {
                          "line": {
                            "color": "white",
                            "width": 0.5
                          },
                          "pattern": {
                            "fillmode": "overlay",
                            "size": 10,
                            "solidity": 0.2
                          }
                        },
                        "type": "barpolar"
                      }
                    ],
                    "carpet": [
                      {
                        "aaxis": {
                          "endlinecolor": "#2a3f5f",
                          "gridcolor": "#C8D4E3",
                          "linecolor": "#C8D4E3",
                          "minorgridcolor": "#C8D4E3",
                          "startlinecolor": "#2a3f5f"
                        },
                        "baxis": {
                          "endlinecolor": "#2a3f5f",
                          "gridcolor": "#C8D4E3",
                          "linecolor": "#C8D4E3",
                          "minorgridcolor": "#C8D4E3",
                          "startlinecolor": "#2a3f5f"
                        },
                        "type": "carpet"
                      }
                    ],
                    "choropleth": [
                      {
                        "colorbar": {
                          "outlinewidth": 0,
                          "ticks": ""
                        },
                        "type": "choropleth"
                      }
                    ],
                    "contour": [
                      {
                        "colorbar": {
                          "outlinewidth": 0,
                          "ticks": ""
                        },
                        "colorscale": [
                          [
                            0,
                            "#0d0887"
                          ],
                          [
                            0.1111111111111111,
                            "#46039f"
                          ],
                          [
                            0.2222222222222222,
                            "#7201a8"
                          ],
                          [
                            0.3333333333333333,
                            "#9c179e"
                          ],
                          [
                            0.4444444444444444,
                            "#bd3786"
                          ],
                          [
                            0.5555555555555556,
                            "#d8576b"
                          ],
                          [
                            0.6666666666666666,
                            "#ed7953"
                          ],
                          [
                            0.7777777777777778,
                            "#fb9f3a"
                          ],
                          [
                            0.8888888888888888,
                            "#fdca26"
                          ],
                          [
                            1,
                            "#f0f921"
                          ]
                        ],
                        "type": "contour"
                      }
                    ],
                    "contourcarpet": [
                      {
                        "colorbar": {
                          "outlinewidth": 0,
                          "ticks": ""
                        },
                        "type": "contourcarpet"
                      }
                    ],
                    "heatmap": [
                      {
                        "colorbar": {
                          "outlinewidth": 0,
                          "ticks": ""
                        },
                        "colorscale": [
                          [
                            0,
                            "#0d0887"
                          ],
                          [
                            0.1111111111111111,
                            "#46039f"
                          ],
                          [
                            0.2222222222222222,
                            "#7201a8"
                          ],
                          [
                            0.3333333333333333,
                            "#9c179e"
                          ],
                          [
                            0.4444444444444444,
                            "#bd3786"
                          ],
                          [
                            0.5555555555555556,
                            "#d8576b"
                          ],
                          [
                            0.6666666666666666,
                            "#ed7953"
                          ],
                          [
                            0.7777777777777778,
                            "#fb9f3a"
                          ],
                          [
                            0.8888888888888888,
                            "#fdca26"
                          ],
                          [
                            1,
                            "#f0f921"
                          ]
                        ],
                        "type": "heatmap"
                      }
                    ],
                    "histogram": [
                      {
                        "marker": {
                          "pattern": {
                            "fillmode": "overlay",
                            "size": 10,
                            "solidity": 0.2
                          }
                        },
                        "type": "histogram"
                      }
                    ],
                    "histogram2d": [
                      {
                        "colorbar": {
                          "outlinewidth": 0,
                          "ticks": ""
                        },
                        "colorscale": [
                          [
                            0,
                            "#0d0887"
                          ],
                          [
                            0.1111111111111111,
                            "#46039f"
                          ],
                          [
                            0.2222222222222222,
                            "#7201a8"
                          ],
                          [
                            0.3333333333333333,
                            "#9c179e"
                          ],
                          [
                            0.4444444444444444,
                            "#bd3786"
                          ],
                          [
                            0.5555555555555556,
                            "#d8576b"
                          ],
                          [
                            0.6666666666666666,
                            "#ed7953"
                          ],
                          [
                            0.7777777777777778,
                            "#fb9f3a"
                          ],
                          [
                            0.8888888888888888,
                            "#fdca26"
                          ],
                          [
                            1,
                            "#f0f921"
                          ]
                        ],
                        "type": "histogram2d"
                      }
                    ],
                    "histogram2dcontour": [
                      {
                        "colorbar": {
                          "outlinewidth": 0,
                          "ticks": ""
                        },
                        "colorscale": [
                          [
                            0,
                            "#0d0887"
                          ],
                          [
                            0.1111111111111111,
                            "#46039f"
                          ],
                          [
                            0.2222222222222222,
                            "#7201a8"
                          ],
                          [
                            0.3333333333333333,
                            "#9c179e"
                          ],
                          [
                            0.4444444444444444,
                            "#bd3786"
                          ],
                          [
                            0.5555555555555556,
                            "#d8576b"
                          ],
                          [
                            0.6666666666666666,
                            "#ed7953"
                          ],
                          [
                            0.7777777777777778,
                            "#fb9f3a"
                          ],
                          [
                            0.8888888888888888,
                            "#fdca26"
                          ],
                          [
                            1,
                            "#f0f921"
                          ]
                        ],
                        "type": "histogram2dcontour"
                      }
                    ],
                    "mesh3d": [
                      {
                        "colorbar": {
                          "outlinewidth": 0,
                          "ticks": ""
                        },
                        "type": "mesh3d"
                      }
                    ],
                    "parcoords": [
                      {
                        "line": {
                          "colorbar": {
                            "outlinewidth": 0,
                            "ticks": ""
                          }
                        },
                        "type": "parcoords"
                      }
                    ],
                    "pie": [
                      {
                        "automargin": true,
                        "type": "pie"
                      }
                    ],
                    "scatter": [
                      {
                        "fillpattern": {
                          "fillmode": "overlay",
                          "size": 10,
                          "solidity": 0.2
                        },
                        "type": "scatter"
                      }
                    ],
                    "scatter3d": [
                      {
                        "line": {
                          "colorbar": {
                            "outlinewidth": 0,
                            "ticks": ""
                          }
                        },
                        "marker": {
                          "colorbar": {
                            "outlinewidth": 0,
                            "ticks": ""
                          }
                        },
                        "type": "scatter3d"
                      }
                    ],
                    "scattercarpet": [
                      {
                        "marker": {
                          "colorbar": {
                            "outlinewidth": 0,
                            "ticks": ""
                          }
                        },
                        "type": "scattercarpet"
                      }
                    ],
                    "scattergeo": [
                      {
                        "marker": {
                          "colorbar": {
                            "outlinewidth": 0,
                            "ticks": ""
                          }
                        },
                        "type": "scattergeo"
                      }
                    ],
                    "scattergl": [
                      {
                        "marker": {
                          "colorbar": {
                            "outlinewidth": 0,
                            "ticks": ""
                          }
                        },
                        "type": "scattergl"
                      }
                    ],
                    "scattermap": [
                      {
                        "marker": {
                          "colorbar": {
                            "outlinewidth": 0,
                            "ticks": ""
                          }
                        },
                        "type": "scattermap"
                      }
                    ],
                    "scattermapbox": [
                      {
                        "marker": {
                          "colorbar": {
                            "outlinewidth": 0,
                            "ticks": ""
                          }
                        },
                        "type": "scattermapbox"
                      }
                    ],
                    "scatterpolar": [
                      {
                        "marker": {
                          "colorbar": {
                            "outlinewidth": 0,
                            "ticks": ""
                          }
                        },
                        "type": "scatterpolar"
                      }
                    ],
                    "scatterpolargl": [
                      {
                        "marker": {
                          "colorbar": {
                            "outlinewidth": 0,
                            "ticks": ""
                          }
                        },
                        "type": "scatterpolargl"
                      }
                    ],
                    "scatterternary": [
                      {
                        "marker": {
                          "colorbar": {
                            "outlinewidth": 0,
                            "ticks": ""
                          }
                        },
                        "type": "scatterternary"
                      }
                    ],
                    "surface": [
                      {
                        "colorbar": {
                          "outlinewidth": 0,
                          "ticks": ""
                        },
                        "colorscale": [
                          [
                            0,
                            "#0d0887"
                          ],
                          [
                            0.1111111111111111,
                            "#46039f"
                          ],
                          [
                            0.2222222222222222,
                            "#7201a8"
                          ],
                          [
                            0.3333333333333333,
                            "#9c179e"
                          ],
                          [
                            0.4444444444444444,
                            "#bd3786"
                          ],
                          [
                            0.5555555555555556,
                            "#d8576b"
                          ],
                          [
                            0.6666666666666666,
                            "#ed7953"
                          ],
                          [
                            0.7777777777777778,
                            "#fb9f3a"
                          ],
                          [
                            0.8888888888888888,
                            "#fdca26"
                          ],
                          [
                            1,
                            "#f0f921"
                          ]
                        ],
                        "type": "surface"
                      }
                    ],
                    "table": [
                      {
                        "cells": {
                          "fill": {
                            "color": "#EBF0F8"
                          },
                          "line": {
                            "color": "white"
                          }
                        },
                        "header": {
                          "fill": {
                            "color": "#C8D4E3"
                          },
                          "line": {
                            "color": "white"
                          }
                        },
                        "type": "table"
                      }
                    ]
                  },
                  "layout": {
                    "annotationdefaults": {
                      "arrowcolor": "#2a3f5f",
                      "arrowhead": 0,
                      "arrowwidth": 1
                    },
                    "autotypenumbers": "strict",
                    "coloraxis": {
                      "colorbar": {
                        "outlinewidth": 0,
                        "ticks": ""
                      }
                    },
                    "colorscale": {
                      "diverging": [
                        [
                          0,
                          "#8e0152"
                        ],
                        [
                          0.1,
                          "#c51b7d"
                        ],
                        [
                          0.2,
                          "#de77ae"
                        ],
                        [
                          0.3,
                          "#f1b6da"
                        ],
                        [
                          0.4,
                          "#fde0ef"
                        ],
                        [
                          0.5,
                          "#f7f7f7"
                        ],
                        [
                          0.6,
                          "#e6f5d0"
                        ],
                        [
                          0.7,
                          "#b8e186"
                        ],
                        [
                          0.8,
                          "#7fbc41"
                        ],
                        [
                          0.9,
                          "#4d9221"
                        ],
                        [
                          1,
                          "#276419"
                        ]
                      ],
                      "sequential": [
                        [
                          0,
                          "#0d0887"
                        ],
                        [
                          0.1111111111111111,
                          "#46039f"
                        ],
                        [
                          0.2222222222222222,
                          "#7201a8"
                        ],
                        [
                          0.3333333333333333,
                          "#9c179e"
                        ],
                        [
                          0.4444444444444444,
                          "#bd3786"
                        ],
                        [
                          0.5555555555555556,
                          "#d8576b"
                        ],
                        [
                          0.6666666666666666,
                          "#ed7953"
                        ],
                        [
                          0.7777777777777778,
                          "#fb9f3a"
                        ],
                        [
                          0.8888888888888888,
                          "#fdca26"
                        ],
                        [
                          1,
                          "#f0f921"
                        ]
                      ],
                      "sequentialminus": [
                        [
                          0,
                          "#0d0887"
                        ],
                        [
                          0.1111111111111111,
                          "#46039f"
                        ],
                        [
                          0.2222222222222222,
                          "#7201a8"
                        ],
                        [
                          0.3333333333333333,
                          "#9c179e"
                        ],
                        [
                          0.4444444444444444,
                          "#bd3786"
                        ],
                        [
                          0.5555555555555556,
                          "#d8576b"
                        ],
                        [
                          0.6666666666666666,
                          "#ed7953"
                        ],
                        [
                          0.7777777777777778,
                          "#fb9f3a"
                        ],
                        [
                          0.8888888888888888,
                          "#fdca26"
                        ],
                        [
                          1,
                          "#f0f921"
                        ]
                      ]
                    },
                    "colorway": [
                      "#636efa",
                      "#EF553B",
                      "#00cc96",
                      "#ab63fa",
                      "#FFA15A",
                      "#19d3f3",
                      "#FF6692",
                      "#B6E880",
                      "#FF97FF",
                      "#FECB52"
                    ],
                    "font": {
                      "color": "#2a3f5f"
                    },
                    "geo": {
                      "bgcolor": "white",
                      "lakecolor": "white",
                      "landcolor": "white",
                      "showlakes": true,
                      "showland": true,
                      "subunitcolor": "#C8D4E3"
                    },
                    "hoverlabel": {
                      "align": "left"
                    },
                    "hovermode": "closest",
                    "mapbox": {
                      "style": "light"
                    },
                    "paper_bgcolor": "white",
                    "plot_bgcolor": "white",
                    "polar": {
                      "angularaxis": {
                        "gridcolor": "#EBF0F8",
                        "linecolor": "#EBF0F8",
                        "ticks": ""
                      },
                      "bgcolor": "white",
                      "radialaxis": {
                        "gridcolor": "#EBF0F8",
                        "linecolor": "#EBF0F8",
                        "ticks": ""
                      }
                    },
                    "scene": {
                      "xaxis": {
                        "backgroundcolor": "white",
                        "gridcolor": "#DFE8F3",
                        "gridwidth": 2,
                        "linecolor": "#EBF0F8",
                        "showbackground": true,
                        "ticks": "",
                        "zerolinecolor": "#EBF0F8"
                      },
                      "yaxis": {
                        "backgroundcolor": "white",
                        "gridcolor": "#DFE8F3",
                        "gridwidth": 2,
                        "linecolor": "#EBF0F8",
                        "showbackground": true,
                        "ticks": "",
                        "zerolinecolor": "#EBF0F8"
                      },
                      "zaxis": {
                        "backgroundcolor": "white",
                        "gridcolor": "#DFE8F3",
                        "gridwidth": 2,
                        "linecolor": "#EBF0F8",
                        "showbackground": true,
                        "ticks": "",
                        "zerolinecolor": "#EBF0F8"
                      }
                    },
                    "shapedefaults": {
                      "line": {
                        "color": "#2a3f5f"
                      }
                    },
                    "ternary": {
                      "aaxis": {
                        "gridcolor": "#DFE8F3",
                        "linecolor": "#A2B1C6",
                        "ticks": ""
                      },
                      "baxis": {
                        "gridcolor": "#DFE8F3",
                        "linecolor": "#A2B1C6",
                        "ticks": ""
                      },
                      "bgcolor": "white",
                      "caxis": {
                        "gridcolor": "#DFE8F3",
                        "linecolor": "#A2B1C6",
                        "ticks": ""
                      }
                    },
                    "title": {
                      "x": 0.05
                    },
                    "xaxis": {
                      "automargin": true,
                      "gridcolor": "#EBF0F8",
                      "linecolor": "#EBF0F8",
                      "ticks": "",
                      "title": {
                        "standoff": 15
                      },
                      "zerolinecolor": "#EBF0F8",
                      "zerolinewidth": 2
                    },
                    "yaxis": {
                      "automargin": true,
                      "gridcolor": "#EBF0F8",
                      "linecolor": "#EBF0F8",
                      "ticks": "",
                      "title": {
                        "standoff": 15
                      },
                      "zerolinecolor": "#EBF0F8",
                      "zerolinewidth": 2
                    }
                  }
                },
                "title": {
                  "font": {
                    "color": "Black",
                    "size": 22
                  },
                  "text": "<b>Hierarchical Clustering</b>",
                  "x": 0.5,
                  "xanchor": "center",
                  "yanchor": "top"
                },
                "width": 1000,
                "xaxis": {
                  "mirror": "allticks",
                  "rangemode": "tozero",
                  "showgrid": false,
                  "showline": true,
                  "showticklabels": true,
                  "ticks": "outside",
                  "type": "linear",
                  "zeroline": false
                },
                "yaxis": {
                  "mirror": "allticks",
                  "range": [
                    -60,
                    0
                  ],
                  "rangemode": "tozero",
                  "showgrid": false,
                  "showline": true,
                  "showticklabels": true,
                  "tickmode": "array",
                  "ticks": "outside",
                  "ticktext": [
                    "2_preco_dolar_precos",
                    "1_pro putin_eleicoes_ditadura",
                    "0_misseis_expansao_georgia",
                    "3_nazismo_neonazista_neo",
                    "4_povo ucraniano_povo ucran...",
                    "5_invadir pais_invadir bras..."
                  ],
                  "tickvals": [
                    -5,
                    -15,
                    -25,
                    -35,
                    -45,
                    -55
                  ],
                  "type": "linear",
                  "zeroline": false
                }
              }
            }
          },
          "metadata": {},
          "output_type": "display_data"
        }
      ],
      "source": [
        "topic_model.visualize_hierarchy()"
      ]
    },
    {
      "cell_type": "code",
      "execution_count": 20,
      "id": "b6676c83",
      "metadata": {
        "colab": {
          "base_uri": "https://localhost:8080/",
          "height": 837
        },
        "id": "b6676c83",
        "outputId": "535a1538-6efb-4b53-a55f-f685470cf432"
      },
      "outputs": [
        {
          "data": {
            "application/vnd.plotly.v1+json": {
              "config": {
                "plotlyServerURL": "https://plot.ly"
              },
              "data": [
                {
                  "coloraxis": "coloraxis",
                  "hovertemplate": "x: %{x}<br>y: %{y}<br>Similarity Score: %{z}<extra></extra>",
                  "name": "0",
                  "type": "heatmap",
                  "x": [
                    "0_misseis_expansao_georgia",
                    "1_pro putin_eleicoes_ditadura",
                    "2_preco_dolar_precos",
                    "3_nazismo_neonazista_neo",
                    "4_povo ucraniano_povo ucran...",
                    "5_invadir pais_invadir bras..."
                  ],
                  "xaxis": "x",
                  "y": [
                    "0_misseis_expansao_georgia",
                    "1_pro putin_eleicoes_ditadura",
                    "2_preco_dolar_precos",
                    "3_nazismo_neonazista_neo",
                    "4_povo ucraniano_povo ucran...",
                    "5_invadir pais_invadir bras..."
                  ],
                  "yaxis": "y",
                  "z": {
                    "bdata": "AgCAP7QPZD9Ukmw/MDFwP9xTaz8Ed2s/tA9kPwIAgD9s4Wc/DalfP0bzUD/IKmA/VJJsP2zhZz8BAIA/uXVfP1FaWT8QUWo/MDFwPw2pXz+5dV8/AACAP1xhcD8HF2E/3FNrP0bzUD9RWlk/XGFwP/r/fz/qjmI/BHdrP8gqYD8QUWo/BxdhP+qOYj8CAIA/",
                    "dtype": "f4",
                    "shape": "6, 6"
                  }
                }
              ],
              "layout": {
                "coloraxis": {
                  "colorbar": {
                    "title": {
                      "text": "Similarity Score"
                    }
                  },
                  "colorscale": [
                    [
                      0,
                      "rgb(247,252,240)"
                    ],
                    [
                      0.125,
                      "rgb(224,243,219)"
                    ],
                    [
                      0.25,
                      "rgb(204,235,197)"
                    ],
                    [
                      0.375,
                      "rgb(168,221,181)"
                    ],
                    [
                      0.5,
                      "rgb(123,204,196)"
                    ],
                    [
                      0.625,
                      "rgb(78,179,211)"
                    ],
                    [
                      0.75,
                      "rgb(43,140,190)"
                    ],
                    [
                      0.875,
                      "rgb(8,104,172)"
                    ],
                    [
                      1,
                      "rgb(8,64,129)"
                    ]
                  ]
                },
                "height": 800,
                "hoverlabel": {
                  "bgcolor": "white",
                  "font": {
                    "family": "Rockwell",
                    "size": 16
                  }
                },
                "legend": {
                  "title": {
                    "text": "Trend"
                  }
                },
                "margin": {
                  "t": 60
                },
                "showlegend": true,
                "template": {
                  "data": {
                    "bar": [
                      {
                        "error_x": {
                          "color": "#2a3f5f"
                        },
                        "error_y": {
                          "color": "#2a3f5f"
                        },
                        "marker": {
                          "line": {
                            "color": "#E5ECF6",
                            "width": 0.5
                          },
                          "pattern": {
                            "fillmode": "overlay",
                            "size": 10,
                            "solidity": 0.2
                          }
                        },
                        "type": "bar"
                      }
                    ],
                    "barpolar": [
                      {
                        "marker": {
                          "line": {
                            "color": "#E5ECF6",
                            "width": 0.5
                          },
                          "pattern": {
                            "fillmode": "overlay",
                            "size": 10,
                            "solidity": 0.2
                          }
                        },
                        "type": "barpolar"
                      }
                    ],
                    "carpet": [
                      {
                        "aaxis": {
                          "endlinecolor": "#2a3f5f",
                          "gridcolor": "white",
                          "linecolor": "white",
                          "minorgridcolor": "white",
                          "startlinecolor": "#2a3f5f"
                        },
                        "baxis": {
                          "endlinecolor": "#2a3f5f",
                          "gridcolor": "white",
                          "linecolor": "white",
                          "minorgridcolor": "white",
                          "startlinecolor": "#2a3f5f"
                        },
                        "type": "carpet"
                      }
                    ],
                    "choropleth": [
                      {
                        "colorbar": {
                          "outlinewidth": 0,
                          "ticks": ""
                        },
                        "type": "choropleth"
                      }
                    ],
                    "contour": [
                      {
                        "colorbar": {
                          "outlinewidth": 0,
                          "ticks": ""
                        },
                        "colorscale": [
                          [
                            0,
                            "#0d0887"
                          ],
                          [
                            0.1111111111111111,
                            "#46039f"
                          ],
                          [
                            0.2222222222222222,
                            "#7201a8"
                          ],
                          [
                            0.3333333333333333,
                            "#9c179e"
                          ],
                          [
                            0.4444444444444444,
                            "#bd3786"
                          ],
                          [
                            0.5555555555555556,
                            "#d8576b"
                          ],
                          [
                            0.6666666666666666,
                            "#ed7953"
                          ],
                          [
                            0.7777777777777778,
                            "#fb9f3a"
                          ],
                          [
                            0.8888888888888888,
                            "#fdca26"
                          ],
                          [
                            1,
                            "#f0f921"
                          ]
                        ],
                        "type": "contour"
                      }
                    ],
                    "contourcarpet": [
                      {
                        "colorbar": {
                          "outlinewidth": 0,
                          "ticks": ""
                        },
                        "type": "contourcarpet"
                      }
                    ],
                    "heatmap": [
                      {
                        "colorbar": {
                          "outlinewidth": 0,
                          "ticks": ""
                        },
                        "colorscale": [
                          [
                            0,
                            "#0d0887"
                          ],
                          [
                            0.1111111111111111,
                            "#46039f"
                          ],
                          [
                            0.2222222222222222,
                            "#7201a8"
                          ],
                          [
                            0.3333333333333333,
                            "#9c179e"
                          ],
                          [
                            0.4444444444444444,
                            "#bd3786"
                          ],
                          [
                            0.5555555555555556,
                            "#d8576b"
                          ],
                          [
                            0.6666666666666666,
                            "#ed7953"
                          ],
                          [
                            0.7777777777777778,
                            "#fb9f3a"
                          ],
                          [
                            0.8888888888888888,
                            "#fdca26"
                          ],
                          [
                            1,
                            "#f0f921"
                          ]
                        ],
                        "type": "heatmap"
                      }
                    ],
                    "histogram": [
                      {
                        "marker": {
                          "pattern": {
                            "fillmode": "overlay",
                            "size": 10,
                            "solidity": 0.2
                          }
                        },
                        "type": "histogram"
                      }
                    ],
                    "histogram2d": [
                      {
                        "colorbar": {
                          "outlinewidth": 0,
                          "ticks": ""
                        },
                        "colorscale": [
                          [
                            0,
                            "#0d0887"
                          ],
                          [
                            0.1111111111111111,
                            "#46039f"
                          ],
                          [
                            0.2222222222222222,
                            "#7201a8"
                          ],
                          [
                            0.3333333333333333,
                            "#9c179e"
                          ],
                          [
                            0.4444444444444444,
                            "#bd3786"
                          ],
                          [
                            0.5555555555555556,
                            "#d8576b"
                          ],
                          [
                            0.6666666666666666,
                            "#ed7953"
                          ],
                          [
                            0.7777777777777778,
                            "#fb9f3a"
                          ],
                          [
                            0.8888888888888888,
                            "#fdca26"
                          ],
                          [
                            1,
                            "#f0f921"
                          ]
                        ],
                        "type": "histogram2d"
                      }
                    ],
                    "histogram2dcontour": [
                      {
                        "colorbar": {
                          "outlinewidth": 0,
                          "ticks": ""
                        },
                        "colorscale": [
                          [
                            0,
                            "#0d0887"
                          ],
                          [
                            0.1111111111111111,
                            "#46039f"
                          ],
                          [
                            0.2222222222222222,
                            "#7201a8"
                          ],
                          [
                            0.3333333333333333,
                            "#9c179e"
                          ],
                          [
                            0.4444444444444444,
                            "#bd3786"
                          ],
                          [
                            0.5555555555555556,
                            "#d8576b"
                          ],
                          [
                            0.6666666666666666,
                            "#ed7953"
                          ],
                          [
                            0.7777777777777778,
                            "#fb9f3a"
                          ],
                          [
                            0.8888888888888888,
                            "#fdca26"
                          ],
                          [
                            1,
                            "#f0f921"
                          ]
                        ],
                        "type": "histogram2dcontour"
                      }
                    ],
                    "mesh3d": [
                      {
                        "colorbar": {
                          "outlinewidth": 0,
                          "ticks": ""
                        },
                        "type": "mesh3d"
                      }
                    ],
                    "parcoords": [
                      {
                        "line": {
                          "colorbar": {
                            "outlinewidth": 0,
                            "ticks": ""
                          }
                        },
                        "type": "parcoords"
                      }
                    ],
                    "pie": [
                      {
                        "automargin": true,
                        "type": "pie"
                      }
                    ],
                    "scatter": [
                      {
                        "fillpattern": {
                          "fillmode": "overlay",
                          "size": 10,
                          "solidity": 0.2
                        },
                        "type": "scatter"
                      }
                    ],
                    "scatter3d": [
                      {
                        "line": {
                          "colorbar": {
                            "outlinewidth": 0,
                            "ticks": ""
                          }
                        },
                        "marker": {
                          "colorbar": {
                            "outlinewidth": 0,
                            "ticks": ""
                          }
                        },
                        "type": "scatter3d"
                      }
                    ],
                    "scattercarpet": [
                      {
                        "marker": {
                          "colorbar": {
                            "outlinewidth": 0,
                            "ticks": ""
                          }
                        },
                        "type": "scattercarpet"
                      }
                    ],
                    "scattergeo": [
                      {
                        "marker": {
                          "colorbar": {
                            "outlinewidth": 0,
                            "ticks": ""
                          }
                        },
                        "type": "scattergeo"
                      }
                    ],
                    "scattergl": [
                      {
                        "marker": {
                          "colorbar": {
                            "outlinewidth": 0,
                            "ticks": ""
                          }
                        },
                        "type": "scattergl"
                      }
                    ],
                    "scattermap": [
                      {
                        "marker": {
                          "colorbar": {
                            "outlinewidth": 0,
                            "ticks": ""
                          }
                        },
                        "type": "scattermap"
                      }
                    ],
                    "scattermapbox": [
                      {
                        "marker": {
                          "colorbar": {
                            "outlinewidth": 0,
                            "ticks": ""
                          }
                        },
                        "type": "scattermapbox"
                      }
                    ],
                    "scatterpolar": [
                      {
                        "marker": {
                          "colorbar": {
                            "outlinewidth": 0,
                            "ticks": ""
                          }
                        },
                        "type": "scatterpolar"
                      }
                    ],
                    "scatterpolargl": [
                      {
                        "marker": {
                          "colorbar": {
                            "outlinewidth": 0,
                            "ticks": ""
                          }
                        },
                        "type": "scatterpolargl"
                      }
                    ],
                    "scatterternary": [
                      {
                        "marker": {
                          "colorbar": {
                            "outlinewidth": 0,
                            "ticks": ""
                          }
                        },
                        "type": "scatterternary"
                      }
                    ],
                    "surface": [
                      {
                        "colorbar": {
                          "outlinewidth": 0,
                          "ticks": ""
                        },
                        "colorscale": [
                          [
                            0,
                            "#0d0887"
                          ],
                          [
                            0.1111111111111111,
                            "#46039f"
                          ],
                          [
                            0.2222222222222222,
                            "#7201a8"
                          ],
                          [
                            0.3333333333333333,
                            "#9c179e"
                          ],
                          [
                            0.4444444444444444,
                            "#bd3786"
                          ],
                          [
                            0.5555555555555556,
                            "#d8576b"
                          ],
                          [
                            0.6666666666666666,
                            "#ed7953"
                          ],
                          [
                            0.7777777777777778,
                            "#fb9f3a"
                          ],
                          [
                            0.8888888888888888,
                            "#fdca26"
                          ],
                          [
                            1,
                            "#f0f921"
                          ]
                        ],
                        "type": "surface"
                      }
                    ],
                    "table": [
                      {
                        "cells": {
                          "fill": {
                            "color": "#EBF0F8"
                          },
                          "line": {
                            "color": "white"
                          }
                        },
                        "header": {
                          "fill": {
                            "color": "#C8D4E3"
                          },
                          "line": {
                            "color": "white"
                          }
                        },
                        "type": "table"
                      }
                    ]
                  },
                  "layout": {
                    "annotationdefaults": {
                      "arrowcolor": "#2a3f5f",
                      "arrowhead": 0,
                      "arrowwidth": 1
                    },
                    "autotypenumbers": "strict",
                    "coloraxis": {
                      "colorbar": {
                        "outlinewidth": 0,
                        "ticks": ""
                      }
                    },
                    "colorscale": {
                      "diverging": [
                        [
                          0,
                          "#8e0152"
                        ],
                        [
                          0.1,
                          "#c51b7d"
                        ],
                        [
                          0.2,
                          "#de77ae"
                        ],
                        [
                          0.3,
                          "#f1b6da"
                        ],
                        [
                          0.4,
                          "#fde0ef"
                        ],
                        [
                          0.5,
                          "#f7f7f7"
                        ],
                        [
                          0.6,
                          "#e6f5d0"
                        ],
                        [
                          0.7,
                          "#b8e186"
                        ],
                        [
                          0.8,
                          "#7fbc41"
                        ],
                        [
                          0.9,
                          "#4d9221"
                        ],
                        [
                          1,
                          "#276419"
                        ]
                      ],
                      "sequential": [
                        [
                          0,
                          "#0d0887"
                        ],
                        [
                          0.1111111111111111,
                          "#46039f"
                        ],
                        [
                          0.2222222222222222,
                          "#7201a8"
                        ],
                        [
                          0.3333333333333333,
                          "#9c179e"
                        ],
                        [
                          0.4444444444444444,
                          "#bd3786"
                        ],
                        [
                          0.5555555555555556,
                          "#d8576b"
                        ],
                        [
                          0.6666666666666666,
                          "#ed7953"
                        ],
                        [
                          0.7777777777777778,
                          "#fb9f3a"
                        ],
                        [
                          0.8888888888888888,
                          "#fdca26"
                        ],
                        [
                          1,
                          "#f0f921"
                        ]
                      ],
                      "sequentialminus": [
                        [
                          0,
                          "#0d0887"
                        ],
                        [
                          0.1111111111111111,
                          "#46039f"
                        ],
                        [
                          0.2222222222222222,
                          "#7201a8"
                        ],
                        [
                          0.3333333333333333,
                          "#9c179e"
                        ],
                        [
                          0.4444444444444444,
                          "#bd3786"
                        ],
                        [
                          0.5555555555555556,
                          "#d8576b"
                        ],
                        [
                          0.6666666666666666,
                          "#ed7953"
                        ],
                        [
                          0.7777777777777778,
                          "#fb9f3a"
                        ],
                        [
                          0.8888888888888888,
                          "#fdca26"
                        ],
                        [
                          1,
                          "#f0f921"
                        ]
                      ]
                    },
                    "colorway": [
                      "#636efa",
                      "#EF553B",
                      "#00cc96",
                      "#ab63fa",
                      "#FFA15A",
                      "#19d3f3",
                      "#FF6692",
                      "#B6E880",
                      "#FF97FF",
                      "#FECB52"
                    ],
                    "font": {
                      "color": "#2a3f5f"
                    },
                    "geo": {
                      "bgcolor": "white",
                      "lakecolor": "white",
                      "landcolor": "#E5ECF6",
                      "showlakes": true,
                      "showland": true,
                      "subunitcolor": "white"
                    },
                    "hoverlabel": {
                      "align": "left"
                    },
                    "hovermode": "closest",
                    "mapbox": {
                      "style": "light"
                    },
                    "paper_bgcolor": "white",
                    "plot_bgcolor": "#E5ECF6",
                    "polar": {
                      "angularaxis": {
                        "gridcolor": "white",
                        "linecolor": "white",
                        "ticks": ""
                      },
                      "bgcolor": "#E5ECF6",
                      "radialaxis": {
                        "gridcolor": "white",
                        "linecolor": "white",
                        "ticks": ""
                      }
                    },
                    "scene": {
                      "xaxis": {
                        "backgroundcolor": "#E5ECF6",
                        "gridcolor": "white",
                        "gridwidth": 2,
                        "linecolor": "white",
                        "showbackground": true,
                        "ticks": "",
                        "zerolinecolor": "white"
                      },
                      "yaxis": {
                        "backgroundcolor": "#E5ECF6",
                        "gridcolor": "white",
                        "gridwidth": 2,
                        "linecolor": "white",
                        "showbackground": true,
                        "ticks": "",
                        "zerolinecolor": "white"
                      },
                      "zaxis": {
                        "backgroundcolor": "#E5ECF6",
                        "gridcolor": "white",
                        "gridwidth": 2,
                        "linecolor": "white",
                        "showbackground": true,
                        "ticks": "",
                        "zerolinecolor": "white"
                      }
                    },
                    "shapedefaults": {
                      "line": {
                        "color": "#2a3f5f"
                      }
                    },
                    "ternary": {
                      "aaxis": {
                        "gridcolor": "white",
                        "linecolor": "white",
                        "ticks": ""
                      },
                      "baxis": {
                        "gridcolor": "white",
                        "linecolor": "white",
                        "ticks": ""
                      },
                      "bgcolor": "#E5ECF6",
                      "caxis": {
                        "gridcolor": "white",
                        "linecolor": "white",
                        "ticks": ""
                      }
                    },
                    "title": {
                      "x": 0.05
                    },
                    "xaxis": {
                      "automargin": true,
                      "gridcolor": "white",
                      "linecolor": "white",
                      "ticks": "",
                      "title": {
                        "standoff": 15
                      },
                      "zerolinecolor": "white",
                      "zerolinewidth": 2
                    },
                    "yaxis": {
                      "automargin": true,
                      "gridcolor": "white",
                      "linecolor": "white",
                      "ticks": "",
                      "title": {
                        "standoff": 15
                      },
                      "zerolinecolor": "white",
                      "zerolinewidth": 2
                    }
                  }
                },
                "title": {
                  "font": {
                    "color": "Black",
                    "size": 22
                  },
                  "text": "<b>Similarity Matrix</b>",
                  "x": 0.55,
                  "xanchor": "center",
                  "y": 0.95,
                  "yanchor": "top"
                },
                "width": 800,
                "xaxis": {
                  "anchor": "y",
                  "constrain": "domain",
                  "domain": [
                    0,
                    1
                  ],
                  "scaleanchor": "y"
                },
                "yaxis": {
                  "anchor": "x",
                  "autorange": "reversed",
                  "constrain": "domain",
                  "domain": [
                    0,
                    1
                  ]
                }
              }
            }
          },
          "metadata": {},
          "output_type": "display_data"
        }
      ],
      "source": [
        "topic_model.visualize_heatmap()"
      ]
    },
    {
      "cell_type": "code",
      "execution_count": 21,
      "id": "a3336b43",
      "metadata": {
        "colab": {
          "base_uri": "https://localhost:8080/"
        },
        "id": "a3336b43",
        "outputId": "3170355e-14ba-442a-b928-c8c5cb19ee4f"
      },
      "outputs": [
        {
          "data": {
            "text/plain": [
              "['a russia ja assinou um acordo de nao agressao com a ucrania e o quebrou  qualquer acordo com a russia e so um pedaco de papel  seja um acordo de nao agressao ou de ajuda em uma possivel invasao  alem disso voce descreveu exatamente a atuacao da otan  defender o territorio da ucrania em caso de um ataque estrangeiro  ou seja  voce esta defendendo que a ucrania entre para a otan \\n\\n  na vdd eu defendo uma coisa um pouco diferente   no caso de um conflito entre otan e russia  ucrania se mantem neutra  mas pra garantir a neutralidade  otan  russia e ucrania teriam q fazer esse acordo a tres onde cada um se compromete a defender a ucrania contra o outro  assim cada um deles ia pensar 2 vezes antes de agir    \\n\\n\\nquais acoes do zelensky ocasionaram a guerra  pedir ajuda e tentar desesperadamente uma adesao a otan depois do putin colocar 200k soldados ao logo de toda borda da ucrania com a russia e a bielorrussia  voce e daqueles caras que acha que um pais move toda a maquina de guerra disponivel pra borda de outro pais sem querer realmente atacar  mas muda de ideia depois que a comunidade internacional fica do lado do pais que esta sendo cercado  voce realmente acha que a russia resolveu atacar a ucrania de um dia para o outro \\n\\nnao acho que decidiu atacar de um dia para o outro  mas eu acho que o putin queria intimidar a ucrania a nao entrar na otan  so que o zelensky foi insistindo com isso de otan  e em vez dele tentar uma saida mais inteligente ele quis peitar a russia    acho tambem que ele nao previa que a russia ia realmente invadir a ucrania  na epoca eu duvidava muito  pra mim era puramente intimidacao e que a russia ia simplesmente no pior dos casos financiar ainda mais os grupos insurgentes    mas a partir da invasao russa eu acho que  infelizmente  ele tinha que peidar    falar foda se entao otan  vcs nao querem me ajudar vou tentar fazer algum acordo com a russia  ou sei la    mas essa guerra era uma guerra perdida  ok nao esta perdendo militarmente  mas nao ta pq nao e uma guerra total pra russia  mas digamos que venca a russia  cara  olha a destruicao que foi  quantas vidas se perderam    que no fim foi uma guerra desnecessaria  criada por politicos  essa parte de depois da invasao russa  se vc me der algum argumento convincente eu posso ser mais facil de mudar de opiniao pq eu aceito q e uma posicao dificil pra kct de saber o que fazer   o que me pega mesmo e a destruicao causada desnecessariamente    mas o antes da invasao eu ainda acho q o zelensky errou \\n\\n\\no conflito nao era velado  a ucrania foi literalmente invadida pela russia em 2014  desde entao  alem de parte de seu territorio ter sido ilegalmente anexado  a ucrania teve que lidar com grupos insurgentes armados pela russia causando terror no pais  onde isso e velado \\n\\no velado que eu quis dizer e que nao teve realmente tropas russas la  todo mundo sabe q os insurgentes eram financiados pela russia  houve aquele plebiscito na crimeia  que eu sinceramente nao lembro como que ocorreu  mas nao tinha tropas russas la e ate ai  eua tb ja fez muito disso no oriente medio tb e ninguem falou nada    \\n\\nmas de novo  pra deixar claro pra quem for ler    eu nao to defendendo a russia de jeito nenhum  a partir do momento que ela poe tropas no territorio vizinho perdeu qualquer razao  meu unico ponto e  o zelensky tb quis fazer seu jogo politico  forcando a barra na questao de otan  que era claro que ia emputesser a russia    e q otan sabia disso  por isso que ate agora a ucrania nao e da otan    essa nao e a saida    a ucrania na otan ia criar ainda mais instabilidade    \\n\\nalem disso  a ucrania e um pais corrupto pra caramba  cheio de problemas internos  com fronteira com a russia  um pais assim na otan e uma bomba relogio',\n",
              " 'nao da para negar os interesses do ocidente  mas discordo demais de que isso nao foi um ato unilateral  essa guerra da ucrania e uma guerra imperialista  pura e simples  esta no mesmo rol da invasao de granada  a invasao malfadada de cuba ou mesmo a guerra do iraque  a russia se outorgou o direito de considerar a ucrania seu quintal politico e economico e achava que uma invasao seria simplesmente matar o zelensky  colocar um governo pro russo no lugar  ganhar uns territorios a leste  um corredor de terra pela crimeia e uns trocados  o casus belli russo e tosco de ridiculo   a otan estava nos cercando  nossa seguranca estava em perigo   isso nao existe  um conflito otan russia  assim como otan china  nunca sera convencional porque os misseis voarao antes da primeira hora de tiroteios  \\n\\npro ocidente  especialmente para a otan  essa guerra foi um win win  ao menos no curto prazo  bilhoes vao voar entre o leste e o oeste europeu  a otan ganhou outro cliente que agora tem todo motivo do mundo para querer se armar ate os dentes contra uma futura represalia russa  imaginando que esse conflito atual nao se torne nuclear  naturalmente  e  de brinde  as forcas armadas russas estao passando vergonha a nivel mundial  o prestigio russo esta lentamente derretendo  num cenario nao nuclear nao seria surpreendente inclusive ver moscou se tornar um vassalo incondicional da china  ademais  nao armar a ucrania iria  sim  reforcar as ambicoes imperialistas russas  georgia  moldavia e armenia tranquilamente seriam os proximos e voce teria um mundo bem mais turbulento  claro  esses beneficios vao naufragar com um desastre nuclear  o que me deixa curioso sobre qual sera o proximo passo do ocidente  o ocidente e a china sao os unicos players racionais hoje e claramente  entre o recuo diplomatico do xi e o biden chamando coletiva pra falar de  armageddom nuclear   a palavra deixou de ser um tabu  \\n\\ndo mesmo jeito que os eua invadirem o iraque e tornarem ele quase inabitavel por duas decadas foi um crime contra a humanidade  essa invasao russa com o unico proposito de levantar um muro no que ele acha ser o quintal de casa tem um unico culpado  assim como os eua invadirem uma venezuela eventualmente fortalecida por uma parceria com a china tambem seria   quanto aos beneficios economicos  nao ha nada o que discordar  se a civilizacao nao acabar  o boom entre empreiteiras europeias sera algo assustador  e aqui entra outro ponto que pode trazer interesse para a china se enfiar nos acordos de paz  vale ressaltar   pena que a odebretch queimou a largada  aquelas propinas para o peru e equador cairiam muito bem indo para bruxelas e mandando empreiteiros brasileiros fazerem parte da reconstrucao \\n\\n gt  a russia pode fazer um estrago gigante antes de usar qualquer ogiva nuclear\\n\\nesse e o unico ponto que eu discordo  o armamento antiaereo ucraniano  fornecido pela otan  basicamente tirou a aviacao russa da jogada  os unicos momentos em que a aviacao e os misseis russos fizeram estrago forte foram nas primeiras semanas  antes do armamento ocidental comecar a descer aos borbotoes  hoje a ucrania consegue combater qualquer missil nao nuclear russo  a aviacao russa nao consegue voar com liberdade  os misseis russos nao sao mais tao eficientes e a artilharia de chao e violada pelos misseis ocidentais nas maos dos ucranianos  claro  uma politica de bombardeio indiscriminado eventualmente vai fazer estragos  predios sao grandes o bastante para voce soltar o armamento mais ou menos onde o nariz aponta e ver se derruba  mas estragos gigantes como mariupol e kherson eu tenho muitas duvidas  as reservas russas de equipamentos foram  muito  superestimadas pelo putin e excessivamente usadas para o que ele provavelmente achava que seria uma escaramurca de um mes  \\n\\nprovavelmente no inverno o putin deve comecar a bombardear cidades pra valer  mas sou bem cetico de que isso fara kiev virar poeira  as defesas ar ar da ucrania sao o 2 escalao da otan e elas seguraram toda a onda russa ate agora  ao menos desde que chegaram  se a china tivesse um esforco de guerra e se comprometesse a armar a russia  ai poderiamos falar em misseis furando as novas defesas  e eu nao acho que a otan daria seus melhores equipamentos  hoje  para a ucrania  e uma nova ofensiva pelo solo  mas  sem os equipamentos chineses  com a falta de material belico russo basico e com o ocidente continuando a armar a ucrania  a unica chance que o putin tem  hoje  de virar esse momentum da guerra e um ataque nuclear que jogue o mundo em choque  uma ogiva que paralise o ocidente o bastante para ele recolocar a faca no pescoco do zelensky e dizer  me da metade do seu pais ou o mundo acaba   eu tenho certeza que eventualmente ele vai jogar essa moeda  assim como tenho certeza que 25min depois nao haverao cidades em pe na porcao ocidental da russia',\n",
              " 'se voce nao sabe o que se passa na ucrania porque russos e ucraniaonos cantam vitoria todos os dias   fear no more   aqui um resumao da guerra ate agora \\n\\nse voce observar sites ucranianos  ou russos   eles sempre vao mostrar equipamentos inimigos destruidos ou capturados  \\nquantas dessas fotos sao repetidas  certamente  o naufragio da nau capita moskova foi postada e repostada inumeras vezes  \\nno entanto  existe um esforco open source de contabilizar os diferentes equipamentos perdidos tanto por parte da russia quanto\\nda ucrania \\n\\nusando esse tipo de site  open source  tambem podemos ter uma ideia mais do que esta acontecendo no campo de batalha \\nde fora dele   e dificil saber o que vai acontecer no futuro mas olhando os ultimos meses podemos\\nter algumas ideias do que esta por vir   ao que tudo indica a guerra vai longe ainda  por que \\n\\nnem a russia  nem a ucrania nao vao aceitar um armisticio agora  no entanto  e capaz da russia conseguir  parte dos seus objetivos  \\ne declarar vitoria antes  note que os objetivos russos sao bastante fluidos   eles tentaram decaptar o governo ucraniano \\nna tentativa de desmilitarizar o pais  o kremlin recua nos eixos do norte e nordeste em favor dos ataques em \\ndonbass e oferece a seguinte narrativa  \\n\\nas tropas russas do norte apenas mantiveram as forcas ucranianas ocupadas para a russia tomar rapidamente o sul \\nassim que os objetivos do sul foram alcancados  os russos entregaram o norte a fim de fornecer condicoes \\nmais estaveis para kiev para uma futura negociacao de paz  alem disso as tropas que ja cumpriram os objetivos no norte\\nforam deslocadas para donbass que e atual foco da acao russa \\n\\npara a russia o melhor do momento da guerra e o atual  a ucrania nao tem as armas pesadas e nao consegue \\nmontar contra ataques em larga escala \\n\\nnesse texto nao vou discutir detalhe do que esta posicionado em que lugar e quem tem o controle de qual territorio \\npara vizualizar a situacao da guerra vale a penas olhar tres sites \\n\\n     de longe o melhor mapa do conflito  inclusive e possivel navegar no\\nhistorico e ver a troca de posicoes durante o curso do conflito \\n   para quem e muito militar geek e entende a diferenca\\nentre unidades militares  esse mapa aqui ajuda bastante  o problema e que nao e tao atualizado como \\no deepstatemap e nao conta com o historico \\n   esse e o mapa mais famoso e menos util  o site aponta a localizacao onde os eventos \\nque sao chamadas na midia ocorrem \\n\\n\\n   situacao inicial\\n\\n\\na russia comeca a guerra como a segunda potencia militar  a ucrania basicamente nao tinha a menor \\ncondicao de competir com a russia antes da invasao de 2014 \\n ainda hoje  mesmo apos a reforma do exercito a forca militar da ucrania faz sombra ao poderio\\n militar russo \\n \\nbudget   61 7 billions \\nactive frontline personnel  900k\\n\\n\\n\\nucrania \\nbudget   5 9 billions\\nactive frontline personnel  200k\\n\\num dado muito importante para compreender e total de equipamentos \\nno entanto  essa informacao nao e bem estimada  \\n\\nmas de forma geral da para afirmar que a ucrania tinha o total de equipamentos militar  e orcamento  dez vezes menor do que a russia  \\n\\n\\n\\n\\n\\nao contrario do que alguns acreditam  as armas enviadas para a ucrania antes da guerra mal faziam cossegas ao orcamento ao \\npacote de lend lease aprovado agora pelo congresso americano de 40 bilhoes  \\n\\na administracao trump aprovou 400 milhoes para ucrania e aprovou a transferencia de 40 milhoes em armas letais \\na administracao obama sequer aprovou a transferencia de armas letais e enviaou apenas equipamentos como uavs  \\ncontra mortar  dispositivos de visao noturna e suprimentos medicos  \\n\\n   a resistencia ucraniana \\n\\nno papel  as forcas russas sao muito maiores e mais equipadas do que os ucranianos  ha alguns fatores\\nque ajudaram os ucranianos durante a primeira fase da invasao \\n\\n  ambientes urbanos  independente dos motivos que os russos aleguem  atacar centros urbanos e uma\\nsituacao muito mais dificil do que planicies abertas como donbass  isso favoreceu em muito a situacao defensiva \\nos russos  nessa segunda fase  estao usando de artilharia para destruir e tomar as posicoes  alem disso\\na reta guarda estava muito exposta e as linhas logisticas estavam sendo constatemente atacadas \\n\\n  comunicacao  as redes seguras de comunicacao desenvolvida pelos russos dependem de torres 5g  por \\nalgum motivo dificil de entender os russos destruiram as torres 5g no comeco da guerra  os ucranianos  \\nreceberam suporte da spacex que forneceram o starlink  ja os russos foram forcados a usar canais \\ninseguros  para adicionar o insulto a injuria  a comunicacao russa e prejudicada por jammers \\n\\n  inteligencia  com a comunicacao forcada a usar canais abertos  e com o uso de satelites americanos \\n e segundo os russos apoio direto do pentagono   os ucranianos foram capazes de localizar as forcas \\nrussas em transito no territorio ucraniano  isso permitiu os ucranianos ataques em alvos estrategicos\\ncomo a fragata moskova  generais russos  e pecas de combate em movimento \\n\\n  moral  os russos clamam que os soldados ucranianos estao lutando com moral baixa por enfrentarem \\num inimigo com poder militar maior  essa versao e no minimo questionavel  ate civis desarmados e destreinado\\ntem atacado as tropas russas que pensaram que chegariam na ucrania recebido com flores  os ucranianos\\nlutam para defender seu pais enquanto que o russos lutam para conquistar um territorio  a motivacao e \\nbem diferente \\n\\nha outros detalhes que fizeram da campanha russa subotima mas sao mais tecnicos  as unidades de combate\\ntem pouco autonomia  com o problema de comunicacao  um ataque coordenado entre multiplas unidades e \\nextremamente complicado  os ucranianos por outro lado receberam treinamento militar da otan e esse e \\nvarios outros detalhes foram ajustados \\n\\n   estrategia ucraniana vs estrategia russa\\n\\nok  entao ca estamos na  segunda fase  da operacao especial  qual a estrategia vencedora dos dois lados \\n\\na perspectiva da ucrania e ganhar tempo ate que as armas ocidentais cheguem \\nde acordo com os ucranianos  a medida que o tempo passa a guerra sera mais favoravel para eles  se as armas realmente forem enviadas  \\ne verdade que a economia ucraniana esta afetada e que a medida que o tempo passa a ucrania tem menos condicao de manter a industria\\nbelica funcionando como antes  essa analise seria valida  mas nao conta o fato da europa e os eua oferecerem suporte economico e militar \\n\\n\\nja para a russia  a melhor coisa que pode acontecer  nao e tomada territorio  o que e bom porque a defesa tem vantagem sob o ataque \\nmas pincar as tropas ucranianas  isso reduz o exercito professional e as chances de contra ataque  \\noutra coisa e tentar espremear a ucrania para o oeste ate as linhas de defesa naturais que sao realmente dificies de transpor \\n apos isso  resistir a contra ofensiva de forma mais eficiente o possivel \\n\\na grande vantagem russa que sao os equipamentos pesados tende a diminuir com o tempo  a unica coisa que\\na russia consegue garantir no longo prazo e a superioridade aerea  a razao para isso \\n\\n1  os russos possuem cacas mais modernos em maior quantidade  \\n2  a previsao de cacas serem enviados para a ucrania e minima  o governo ucraniano chegou a postar \\num tweet dizendo que seus pilotos sao capazes de aprender como pilotar um f16 em 2 semanas  os generas \\namericanos ficaram irritados com essa presuncao  \\n\\num curso de treinamento de f16 nos eua leva 9 meses  porem  antes disso o piloto precisa ter 6 meses\\nde treinamento com o t6  7 meses com t38 e 2 meses com at38 \\n\\n3  outra possibilidade e o envio de mig e sukois de paises do leste europeu  por motivos que eu desconheco\\nisso simplesmente nao esta acontecendo \\n4  o que resta e a defesa anti aerea e nisso a russia e conhecida por ter uma das melhores   apesar\\ndo naufragio do moskova  apesar dos ataque aereos  a russia ainda tem vantagem nessa area \\n\\n\\n   o longo prazo\\n\\nse a russia nao conseguir convencer a opiniao publica na europa  eua e ucrania a um armisticio  a perpectiva russa \\npassa por alguns desafios \\n\\n    resupply\\n\\n\\na ucrania esta lutando uma guerra de corrosao  pelos numeros de equipamentos destruidos visualmente \\nconfirmados  a russia perde 3x mais armamentos do que a ucrania  \\n\\n\\n\\n\\nmas isso parece que ja estava contabilizado pelo kremlin  como eles tem mais equipamentos militares  que estavam estragando ao \\nrelento  trocar equipamentos por territorio e uma troca valida \\n\\n\\n\\n\\nexiste um limite para isso  se a ucrania receber mais equipamentos pesados eventualmente a russia \\nvai ficar em desvantagem \\n\\nas armas pesadas enviadas pelos ocidentes ainda estao longe de mudar o equilibrio da guerra \\n\\n\\ne por isso o lend lease americano e tao importante \\n\\n    tamanho das tropas\\n\\ninicialmente  os russos destacaram 190k tropas para a ucrania  o exercito ucraniano tinha apenas 196k \\nporem o exercito ucraniano tem 900k reservitas que foram acionados com a mobiizacao total pos guerra  \\nentao nesse momento o exercito ucraniano e muito maior  \\n\\nao contrario do que se comentou aqui o exercito ucraniano nao gastou todo seu exercito profissional e apartir dai comecou a \\nutilizar conscritos  e justamente o contrario  os conscritos trabalham juntos com o exercito regular de tal forma que a perdas sao dissipadas entre conscritos e veteranos  o oposto acontece\\ncom os russos  toda perda do exercito russo e uma perda do exercito profissional muito mais dificil de ser\\nreposta \\n\\nzelensky mencionou que 700k pessoas estao no exercito ucraniano no momento  existe um sistema de revesamento \\nnem todo o exercito e empregado ao mesmo tempo  os russos tambem  apesar de terem destacado inicialmente 190k\\ntropas  eles devem revesar com as tropas que ficaram na russia \\n\\n    geopolitica \\n\\najuda material a ucrania esta condicionada a questoes politicas e ao treinamento militar ucraniano  \\n\\ncomo os ucranianos usavam  armas sovieticas  eles precisaram de um tempo para serem treinados a armas da otan  ate la os ucranianos estarao limitados as opcoes de armas  algumas que estavam no leste europeu  e outras\\nque requerem pouco treinamento  \\n\\nalguns paises europeus se inclinam contra fornecer ajuda a ucrania como a servia e a hungria  dentro de alguns paises  como italia \\ne grecia  movimentos de  pacifistas  pressionam pelo  armisticio  e a turquia aproveita a situacao para conseguir a liberacao da otan para cacar curdos separatistas  \\ncomo a otan depende da turquia para muitas coisas  inclusive fechar o mar negro para embarcacoes militares  e bem capaz que a turquia comece atacar a siria e os separatistas curdos e a otan vai fechar os olhos \\n\\ncom o passar do tempo  a ucrania vai receber mais treinamento de paises da otan e mais armas desses paises  dai a questao politica vai pesar menos porque os eua e o reino unido tem disposicao politica para armar os ucranianos \\ne orcamento para isso \\n\\na russia deve procurar fortalecer seus acordos com a asia e oriente medio  a informacao e um campo de guerra importante  apesar da industria de publicacao  informacao e entreterimento russo ser pequena comparada aos eua  \\nos russos tem influenciado o mundo todo nessa guerra   desde de paises da asia e america do sul como india e brasil  ate paises da europa ocidental  \\ne importante para russia aumentar a pressao para o armisticio acontecer o quanto antes  talvez logo depois que eles tomarem donbass  \\n\\n    custos\\n\\ne aqui o ponto que coloca mais pressao a operacao especial que os russos comecaram \\na guerra e mais custosa para a ucrania mas nao para o  ocidente  como um todo  a guerra custa so em equipamentos 1 bilhao de \\ndolares por dia para os russos  como eles tinham reserva de equipamentos  essas perdas ja estavam contabilizadas  a manutencao e reposicao das armas\\n  pessoas  equipamentos  municoes  combustiveis  pecas  etc  e uma outra historia  so em termos de comparacao a guerra do afeganistao dos eua custou 2 trilhoes de dolares  no longo prazo    essa guerra e inviavel para a russia  \\n\\no povo ucraniano paga por isso  eles ja perderam 30  do pib e 20  da populacao esta deslocada  \\nmas eles nao tem a menor vontade ceder territorio para apaziguar a russia  recebendo armas e suporte financiero do ocidente  eles podem alongar \\nessa guerra por tempo indeterminado  o problema e que a opiniao publica do  ocidente  em algum momento ficara desconfortavel em continuar a dar\\nsuporte para a ucrania  bem ou mal  a europa nao precisa da ucrania para se defender da russia  para isso eles tem a otan  e quando suporte comecar\\na pesar no bolso  na forma de inflacao  a solidariedae pode diminuir \\n\\npor enquanto a guerra favorece o exercito russo   essa situacao pode mudar se quando as armas chegarem na ucrania em grandes quantidades \\ne e nesse momento que sera de maior beneficio para os russos que intelectuais e politicos ocidentais pressionem\\npelo o fim da guerra']"
            ]
          },
          "execution_count": 21,
          "metadata": {},
          "output_type": "execute_result"
        }
      ],
      "source": [
        "topic_model.get_representative_docs(0)"
      ]
    },
    {
      "cell_type": "code",
      "execution_count": 22,
      "id": "9c597963",
      "metadata": {
        "colab": {
          "base_uri": "https://localhost:8080/"
        },
        "id": "9c597963",
        "outputId": "b3e91b10-3156-466a-8411-84f0b5247e41"
      },
      "outputs": [
        {
          "data": {
            "text/plain": [
              "['que zona aquela reuniao  ninguem respeita a vez do outro falar  o primeiro conselheiro que foi fazer pergunta  que parecia o mais preparado para a reuniao  que levou varias perguntas escritas  ficou a reuniao inteira em pe sendo interrompido o tempo todo  sem deixarem ele concluir \\n\\nsera que eles nao conseguem organizar uma inscricao para perguntas  \\n\\n amp  x200b \\n\\nsobre o conteudo em si  nao vi nenhuma grande novidade  o ssr e o pedro da xp falaram muito e nao disseram nada  so enrolacao  que meu pai e cruzeirense  que eu sou cruzeirense  que eu lembro do jogo de 1996  que atacaram minha reputacao  que a imprensa quer tumultuar  etc  so jogaram para a galera  informacao concreta mesmo sobre o negocio  que era o motivo da reuniao  quase nada \\n\\n amp  x200b \\n\\nnas perguntas  so saiam pela tangente  o conselheiro pergunta  por qual valor os 180 atletas da base foram avaliados para entrar no negocio  resposta do ssr  deixa eu te dar um exemplo  ano passado fulano de tal era uma promessa  recebeu proposta milionaria  mas depois quebrou a perna e hoje nao vale mais nada  entao nao tem como avaliar isso  entende \\n\\n amp  x200b \\n\\nfalaram que as reportagens eram baseadas em um documento preliminar  que nao valia mais nada  que tudo ja tinha sido modificado  mas na hora que apresentaram os slides sobre a proposta de contrato  era praticamente tudo um copia e cola da reportagem do capelo \\n\\n amp  x200b \\n\\numa diferenca significativa em relacao ao que o capelo disse  e que o pedro da xp afirmou que estava na proposta da 777 a condicao obrigatoria de reduzir a divida de 1bi para 200m  para fecharem o negocio  e ele falou que por este motivo a proposta era completamente inviavel  eu concordo que se existia esta condicao obrigatoria  era inviavel a proposta mesmo  por outro lado  o capelo teve acesso a proposta e disse que nao tinha esta obrigatoriedade  so saberemos se alguem divulgar a proposta na integra  apesar do pedro nao ter citado hora nenhuma que era a 777  a 777 confirmou que fez a proposta \\n\\n amp  x200b \\n\\nrealmente achei muito pouco esclarecedora a reuniao  foi mais oba oba  discursos ensaiados mostrando apenas que ronaldo e sua empresa sao a 8a maravilha do mundo  pontos que achei que deveriam ser esclarecidos e  para mim  nao foram \\n\\n   as dividas esportivas  fifa e cnrd  serao de responsabilidade da saf  mas os valores sao limitados nos 50m  ou nao tem limite  se bater la os 330m do dede a saf tem que pagar  se ultrapassar os 50m a saf paga exigindo alguma garantia da associacao  igual foi divulgado que o pagamento dos 26m do transfer ban pago tinham 90  da saf como garantia \\n\\n   em caso de venda da saf pelo ronaldo  o novo investidor deve cumprir exigencias de perfil  quais exigencias  pode ser um principe saudita  um sheik  um oligarca russo  o menin \\n\\n   licenciamento da marca cruzeiro para a saf de graca ate acabarem as dividas  e pagamento de royalties apos quitadas as dividas  mas qual e o valor a ser pago \\n\\n   direito da associacao realizar uma primeira oferta quando o ronaldo iniciar o processo de venda da saf  mas o ronaldo pode recusar a oferta  se a associacao igualar a melhor proposta  mesmo assim o ronaldo pode negar vender para ela \\n\\n   a clausula que obrigava a associacao a recomprar a saf se a divida nao fosse paga foi retirada \\n\\n amp  x200b \\n\\nchega a ser constrangedor assistir aquela reuniao  por exemplo um conselheiro la falando que queria saber quem e a tara  se so o ronaldo era dono  se a xp tinha feito auditoria na empresa  se ela tinha lastro para assumir um negocio deste tamanho  etc  ate ai tudo bem  estava gostando das colocacoes dele  mas logo depois ele diz  e o ronaldo quem vai assinar o contrato    entao retire tudo que eu disse  confio 100  no ronaldo  se for ele quem vai assinar eu nao quero nem saber de mais nada  eu aprovo tudo que voces quiserem    neste nivel o negocio \\n\\n amp  x200b \\n\\na exigencia de alguns conselheiros em ver o contrato na integra antes de aprovar qualquer coisa e muito pertinente  pelo que entendi eles aprovaram tudo ate agora sem ter acesso a nada  tiveram acesso ao documento assinado muito depois da votacao  ate disseram que foram traidos pelo ssr  o que esta na pauta da votacao do dia 4 e a recuperacao judicial e a transferencia das tocas para a saf  e nao o contrato  mas se o ssr tem autonomia para assinar o contrato  igual ele ja assinou o tal contrato preliminar  entao esta votacao e a ultima chance do conselho decidir alguma coisa  e no contrato pode ter clausulas de todo tipo  e pelo primeiro contrato que assinaram em dezembro nao da para confiar nada na xp e no ssr',\n",
              " 'ha pouco mais de 1 ano eu postei aqui uma experiencia social que realizei  quando entrei infiltrado em diversos grupos bolsonaristas e  de direita  somente para observar e tentar compreender o que fazia aquelas pessoas apoiar o que  para mim  era absolutamente   inapoiavel   \\n\\nquem quiser ver meu relato  esta  aqui  \\n\\n apenas um disclaimer  nada contra a direita  acredito que e sempre importante ter um congresso dividido entre situacao e oposicao  o erro aqui sao os autoproclamados  de direita   que geralmente sao o pessoal mais extremista  \\n\\nde certa forma  eu continuo nessa missao  porem agora compreendo muito melhor o  marketing da coisa   ou seja  como funciona o processo da maquina ao criar narrativas  precisar fugir de uma iminente crise e como guiar os bovinos  vamos ao  modus operandi  do bolsonarismo  capitaneado pelo carluxo  \\n\\nfocar no jair bolsonaro e um erro  a esgotosfera tem ele apenas como um lider  o tal mito corajoso para enfrentar o sistema  que representa tudo que eles acreditam  ditadura militar e uma boa ideia  comunismo e uma ameaca real ao brasil  gays devem ficar reclusos no canto deles  aborto jamais  jesus esta com bolsonaro e por ai vai   \\n\\na verdadeira maquina bolsonarista roda atraves dos seguintes canais \\n\\n  redes sociais de deputados e senadores governistas\\n  sites de noticias  confiaveis   fake news bancadas pelo gov  federal   muito diferente da midia estabelecida  aqueles vendidos pra esquerda \\n  grupos de whatsapp e telegram\\n  bots que levantam tags  quase sempre no twitter \\n\\nquando a imprensa noticia algum absurdo que o jair bolsonaro postou nas redes  ou de algum dos filhos  e pq a coisa ja extrapolou qualquer limite do bom senso  exemplos \\n\\n \\n\\n \\n\\nmas absurdos como esse  porem menos midiaticos  ocorrem quase que diariamente  principalmente nas redes sociais de bolsonaristas menos populares como gil diniz  carla zambelli  kim pain  rodrigo constantino  barbara  te atualizei   carlos jordy  o digitalmente finado daniel silveira  e ate redes de alguns partidos  como o patriotas \\n\\ne por ai que narrativas pro governo  99  das vezes falsas ou enganosas  comecam a ganhar vazao para os apoiadores  que nunca se importaram com fatos e fontes \\n\\nsabendo disso  os mais famosos membros do bolsonarismo  como os filhos  os influenciadores de direita  lideres de certos movimentos como o agro e os caminhoneiros  e ate governistas de maior patente  como senadores e ministros  ficam responsaveis por so se envolverem em fatos mais relevantes e assuntos de maior interesse do governo  isso explica porque flavio bolsonaro e o filho menos ativo nas redes sociais  alias  lembram como ele sempre foi estrategico ao comparacer na cpi da covid justamente dos dias em que os mais importantes aliados estavam depondo   \\n\\no esquema e o seguinte  mesmo com algumas variacoes  acaba rodando nessa sequencia \\n\\n1  um fato ocorre  seja uma acao do bolsonarismo ou algo alem  contra o governo    ou  um fake e criado  caso seja necessaria a criacao de uma nova narrativa \\n2  os grupos oficiais de whatsapp e telegram dos bolsonaros  ou dos apoiadores  ou dos parlamentares governistas comecam a espalhar o fato ou o fake sob a otica deles  se vem do governo e um bem feito  se vem da oposicao  e mentira ou perseguicao  se e algo mais macro   como covid 19   se cria uma narrativa para encontrar um grande inimigo  geralmente relacionado a esquerda ou ao comunismo   china  por exemplo mesmo que o fato tenha ocorrido minutos atras  assim que o primeiro solta a narrativa  os outros canais comecam a replicar  em questao de minutos  toda a rede bolsonarista ja repete a narrativa em coro  organizadamente\\n3  com esse start  rapidamente os grupos independentes  repleto de gados  ja estao espalhando indefinidamente o material falso  na maiora das vezes sem sequer consumir aquele conteudo e pensar a respeito  nem preciso falar sobre checagem de fontes  ne    assim  em poucas horas  todos aqueles 20 25  de apoiadores cegos que estao com bolsonaro ate o fim  ja foram adestrados a repetir a narrativa e dizer que o mito esta certo ou nao tem culpa  e isso acaba chegando na galera de cima do muro  que algumas vezes comecam a cair do muro pro lado   extremo   direto\\n4  com a narrativa criada  comecam a buscar formas de  provar  o que dizem  e essa e a parte mais facil quando nao existe nenhuma necessidade de se ter compromisso com a verdade  utilizam se de fontes duvidosas   profissionais da area  sem historico de credibilidade  videos fake ou fora de contexto e links de sites  e aqui existe um grande esquema  que detalho mais abaixo alem disso  e comum pegarem videos de outras epocas e dizerem que sao atuais \\n5  esse processo ocorre tantas vezes  varias vezes ao dia se necessario  que a midia sequer acompanha  assim como o proprio jair que mentiu 5x por dia em 2020  segundo a ong internacional artigo 19  os bolsonaristas que operam a maquina vivem  respiram e se alimentam de narrativas falsas  e eles sabem disso  o unico objetivo e manipular a massa apoiadora  e o feedback deles e a estrela guia das acoes do governo  quando o gado pede algo absurdo e focado numa minoria insana  e isso e frequente  o governo corre para colocar mais alimento na boca dessa patota\\n6  e claro  a grande cereja do bolo dessa maquina de fake news e apoio incondicional ao mito  sao os bots  que sao reponsaveis em levantar hashtags em momentos chave  para ver essa fato ao vivo  e so acompanhar 1x por dia os trending topics do twitter em politica  brasil   quase todo dia vai ter uma tag de apoio ao governo  ao bolsonaro ou a algum governista  quando eles precisam criar uma cortina de fumaca  surge uma tag que desvia o foco do governo e joga algo negativo sobre algum inimigo politico ou opositor  ou o mais frequente  do nada surge o termo  celso daniel   que tenta associar a morte do ex prefeito ao pt e ao lula de alguma forma alem do comportamento de postagens em massa em contas duvidosas  tipicos de bots  o proprio operador desse bot ja vacilou algumas vezes e foi pego no pulo   \\n\\n\\n\\n\\n\\n\\n hashtags com erro de grafia sendo postadas em massa  sera um robo ou sera que nenhum dos milhares de usuarios notou o erro   \\n\\nquando as coisas nao vao bem e essa pessoal se ve em apuros  o plano e o classico vitimismo baseado em infantilidades  assim como uma crianca mimada e birrenta  se fazer de perseguido  de paladino da liberdade individual e liberdade de expressao e dizer que o  sistema   o  establishment   nao quer que o povo seja livre   e que essa e a grande luta deles    por voce \\n\\nvejamos alguns casos onde o que esse povo diz  nao se escreve  ou que a narrativa se molda conforme o interesse  chegando a mudar para o lado oposto  algumas vezes \\n\\n amp  x200b \\n\\n  vacina   \\n\\n   jair bolsonaro contra a vacinacao  quando o brasil poderia ser um dos primeiros paises do mundo a iniciar a vacinacao  o que teria evitado grande parte das 194 949 de mortes em 2020  \\n\\n \\n\\n   ao sentir que a imensa maioria do povo e pro vacina  o discurso muda  12 03 2021  \\n\\n observe a correcao do ato falho ao editar e removar o    agora     \\n\\n governo comeca a investir em propaganda pro vacinacao  \\n\\n   meses depois  eduardo bolsonaro volta atras e comeca e levantar suspeitas infundadas e absurdas \\n\\n\\n\\n   carlos jordy posta video relacionando maus subitos a vacinacao  mesmo com videos de antes da vacina existir   \\n\\n   estrategicamente  falar bem da vacina e positivo para a campanha  entao o discurso muda novamente  \\n\\n amp  x200b \\n\\n  pesquisas eleitorais   \\n\\n   bolsonaro e exaltado em um evento proprio  organizado pelo governo ao custo de milhoes  com todo o cuidado e filtro de seguranca  narrativa  bolsonaro tem o povo \\n\\n veiculo sem credibilidade bancado pelo gov  federal com dinheiro publico faz propaganda pro governo diariamente  \\n\\n   bolsonaro passa por um local publico onde e xingado e vaiado  todos os apoiadores ignoram e nao comentam o fato \\n\\n \\n\\n \\n\\n   usam a narrativa que o  lider das pesquisas  nao pode nem sair na rua  ignoram o fato \\n\\n lula em 2022 cercado de apoiadores  em evento controlado  assim como os de bolsonaro  \\n\\n   afirmam que bolsonaro nunca liderou ou pesquisas e ganhou em 2018  mentira \\n\\n amp  x200b \\n\\n \\n\\n bolsonaro liderou amplamente as pesquisas de intencao de voto em 2018  \\n\\n   dizem que se pesquisas fossem confiaveis  haddad seria presidente \\n\\nmas  provam o fato  com o print do unico momento em que haddad liderou as pesquisas  em uma unica dentre   onde bolsonaro liderava \\n\\n pesquisa ibope de setembro de 2018 e amplamente utilizada na narrativa bolsonarista de que pesquisas mentem ou sao pagas pelos progressistas  \\n\\n agregador de pesquisas do poder360 mostra que bolsonaro liderou todas as pequisas em 2018  exceto uma  utilizada na narrativa para    provar    que pesquisas mentem   cada pontinho no grafico representa um instituto de pesquisa    \\n\\npara todo e qualquer fato  existe uma narrativa  existem dois canais principais que os bolsonaristas utilizam para soltar  noticias  de uma  fonte confiavel   que nao e nenhuma midia estabelecida  afinal globo  uol  folha  cnn  istoe e etc sao  lixo \\n\\nalem da jovem pan  que abertamente se vendeu ao governo federal  e colhe beneficios dessa parceria  como a entrada na tv paga   o governo fabricou outros dois veiculos \\n\\n  jornal da cidade onlie\\n  terra brasil noticias\\n\\nem grupos bolsonaristas   noticias  desses dois sistes sao compartilhadas diariamente  o jornal da cidade online tem  jornalistas  sem credibilidade que trabalham nos gabinetes de bolsonaristas  ou seja  voce e eu bancamos por essa desinformacao pro governo \\n\\nnao vou linkar os sites aqui para nao favorecer o seo  mas ao acessa los  e muito facil identificar o nivel de  jornalismo  fanatico  e mentiroso \\n\\nem assuntos espinhosos  como os beneficios que jair renan recebeu sem explicacao  sobre a mansao de r  14 milhoes do flavio bolsonaro financiada com uma taxa de juros absurdamente baixa  as 6 trocas em 3 anos na alta cupula da pf  quando investigacoes se aproximam da familia bolsonaro  nenhuma palavra oficial ou de aliados  simplesmente fingem que nada esta acontecendo \\n\\n bolsonaristas ignoram frequentemente o proprio passado  \\n\\nesse looping e mentiroso  falso  enganoso e sujo  mas funciona  foi assim que trump foi eleito nos eua e bolsonaro no brasil  sob a operacao de carlos bolsonaro  que ja esta escalado para tocar o esquema de novo nas eleicoes desse ano  \\n\\ncarlos  inclusive  ja correu atras de ampliar o esquema  violando leis  desrespeitando a privacidade e perseguindo opositores  numa tatica identica a de grandes ditadores da historia \\n\\ntentativa de comprar ferramenta espia 1  \\n\\ntentativa de comprar ferramenta espia 2  \\n\\nparticipacao suspeita em viagem do pr a russia  sem explicar o financiamento  sem ser funcao de um vereador do rj  ao pais que mais produz softwares e spywares suspeitos no mundo  seguido de uma total recusa do governo em repudiar os ataques da russia   a ucrania  criando outra crise diplomatica para o pais visando interesse proprio  a reeleicao  \\n\\n \\n\\ne para fechar com chave de bosta  veja o nivel de argumentacao que o filhote do presidente  sem nenhum puder  sem nenhum receio de ser taxado de anta  posta \\n\\n justificativa irrefutavel para expor a    hipocrisia    da exigencia de mascaras  \\n\\na grande mente criadora desse processo chama se steve bannon  conhecido por ser o  estrategista  da campanha do trump  com cara de maluco e fa de violencia   foi preso   em 2021 e  ja recebeu carlos e eduardo bolsonaro algumas vezes nos eua   nao foi capaz de reeleger donald trump em 2020 e esperamos que o mesmo fenomeno se repita esse ano no brasil \\n\\no esquema ja e conhecido pelas autoridades brasileiras e algumas medidas vem sendo tomadas    1    2    3    4   mas com a recente crescente do inapto nas pesquisas  o brasil segue sendo uma lamentavel caixinha de surpresas',\n",
              " 'tem um comentario do u dry issue6761 de um mes atras que fala melhor que eu poderia falar \\n\\n\\n\\n gt vou tentar nao entrar em discursos com muita demagogia  entao dois simples motivos  corrosao institucional e falta de compromisso com o bem estar da nacao \\n\\n gt vou te garantir que independentemente quem seja eleito  as perspectivas pros proximos anos nao sao boas  os motivos que me fazem votar no lula nao sao porque acho ele lindo maravilhoso e tem superpoderes que vao resolver todos os problema do brasil  e sim porque dado o cenario de hoje ele pode evitar uma piora na corrosao das instituicoes brasileiras e pode ter o menino de compromisso com a estabilidade e bem estar do pais \\n\\n gt de 2019 para hoje bolsonaro foi responsavel diretamente ou indiretamente por \\n\\n gt     meio ambiente    aumento do desmatamento a niveis recordes e falta compromisso com a preservacao dos biomas brasileiros  so nesse tema voce pode buscar saber do envolvimento do ex ministro ricardo salles no desmonte do ibama  inpe e no envolvimento com madeireiros e garimpeiros ilegais \\n\\n gt     justica    o presidente na reuniao ministerial de maio de 2020 falou em alto e bom tom que iria interferir na pf pra livrar seus amigos e filhos da justica  ou seja  ele fala abertamente que interfere na pf a beneficio proprio sem medo algum   \\n\\n gt     transparencia    presidente e governo desde seu inicio nunca buscou ser transparente  o porque tantos sigilos de 100 anos aplicados em coisas banais como visitas ao palacio do planalto  quem esta visitando e quais os motivos  ele e presidente da republica e tem o dever de ser transparente com qualquer assunto \\n\\n gt     participacao de alguns empresarios e outros grupos no governo    empresarios como luciano hang e thomas abduch entre outros sempre estao presentes em eventos publicos  e tem acesso livre ao planalto  por que sera  alem disso porque tao elevada participacao de militares e grupos da igreja evangelica no governo  com passe livre no planalto  isso e fobismo descarado  o governo simplesmente esta beneficiando alguns grupos  agro  elite militar  e grandes igrejas  as nossas custas \\n\\n gt     desorganizacao e amadorismo    o governo bolsonaro desde se inicio se mostra pouco eficiente  pode parecer vago pois na visao geral o governo federal nunca foi la muito eficiente e isso e verdade  mas alguns casos recentes mostram que o governo bolsonaro e acima de tudo amador e conseguiu piorar coisas que ja nao eram boas  os ditos ministerios tecnicos nao foram tao tecnicos assim vide colocar damares no ministerio dos direitos humanos           e a transicao de temer para bolsonaro mostrou diversos problemas de cooperacao entre partes diferentes do governo  exemplo classico e a aplicacao do enem 2020  que teve problemas gerais de aplicacao e correcao  tudo sobre um ministro tecnico  indicado  por bolsonaro  colocar pazuelo como ministro da saude  nao eram ministros tecnicos  o que pazuelo tem de conhecimento de saude publica  alem disso antes o discurso era de independencia dos ministerios  no primeiro sinal de atuacao dos ministros mandetta e teich no combate a pandemia foram substituidos  por que \\n\\n gt     abafamento de escandalos de corrupcao    participacao de militares na compra da vacina  pastores negociando verbas do ministerio da educacao por meio de propinas com prefeitos  envolvimento de ricardo salles na liberacao de madeira ilegal na amazonia  todos casos de repercussao e nenhum pronunciamento oficial apenas abafamento  sem investigacao nem nada  zero transparencia   \\n\\n\\n gt     diplomacia e comunicacao internacional    o brasil tem uma grande escola de diplomatas que em periodos recentes sao reconhecidos pelo posicionamento do brasil em diversos temas como defesa do brasil na omc contra praticas abusivas do exterior  participacao e moderacao em crises internacionais como a questao nuclear do iran  e bom relacionamento com diversas potencias como china  russia  ue e eua  o alinhamento diplomatico atual esta mais para isolacionismo de outras potencias e aproximacao de estados parea como a hungria  e aproximacao de partidos de extrema direita da europa  com duras criticas a china  maior parceiro comercial  e ate mesmo comentarios sobre eleicoes americanas \\n\\n gt     compromisso de longo prazo com desenvolvimento e reducao da pobreza e desigualdade    governo nao tem projetos de desenvolvimento em nenhum aspecto  e olha que esse ano temos espaco fiscal para aumenta los  na educacao tivemos apenas escanda los com diversos ministros sendo substituitos  no aspecto social o auxilio emergencial foi aprovado pela oposicao a contra gosto do governo  e o auxilio brasil foi criado apenas como uma manobra curto prazista para reeleicao sem garantias que o valor continuara o mesmo  assim como criou auxilio para caminhoneiros  criacao de crises na petrobras por motivos eleitoreiros  demissao seguidas de presidentes da petro e interferencia na maior companhia de petroleo do pais simplesmente para satisfazer desejos eleitorais  sendo que a maior parte do preco da gasolina acabou estando em queda justamente por queda nos barris de petroleo  e essa queda artificial a mais por interferencia direta na petro e so para a reeleicao sem nenhum pensamento de longo prazo sobre as politicas de preco e saude da companhia \\n\\n gt   resumo    a atual composicao de camara e senado e um passe livre para bolsonaro e centrao agirem como quiser sem respeitar limites estabelecidos na constituicao atropelando demais poderes  e sem nenhuma transparencia  pode parecer absurdo mas isso e basicamente uma carta branca para termos uma centralizacao de poder absurda nas mao de arthur lira e bolsonaro que nos ultimos anos vem convergindo cada vez mais \\n\\n gt acredito que a candidatura do lula oferece algo muito mais ao centro do que a esquerda  justamente por ter alckimin de vice  e o possivel convite de simone tebet a participacao do governo  alem disso com um senado e camara mais concentrados no famoso centrao isso mostra que o governo lula tera que ser menos radical e negociar muito melhor do que apenas sair fazendo o que quiser  e por fim podera dar freio a uma escalada de atrito constante e centralizacao de poder  acredito que apesar de serem anos ruins teremos um governo com menos centralizacao no legislativo e algo mais ao centro sem extrema radicalizacao de direita']"
            ]
          },
          "execution_count": 22,
          "metadata": {},
          "output_type": "execute_result"
        }
      ],
      "source": [
        "topic_model.get_representative_docs(1)"
      ]
    },
    {
      "cell_type": "code",
      "execution_count": 23,
      "id": "c3f8ea93",
      "metadata": {
        "colab": {
          "base_uri": "https://localhost:8080/"
        },
        "id": "c3f8ea93",
        "outputId": "824c8659-5614-4b2d-aa09-09fe372e5a89"
      },
      "outputs": [
        {
          "data": {
            "text/plain": [
              "['isso nao tem nada a ver com o jegues   e dolar baixo e bom so pra investidor internacional e rico que viaja pra fora  inflacao continua alta  inclusive e o indice em disparada mais investido na b3 desde fevereiro  ou seja  pra 80  dos brs fudidos e desesperados  nao muda nada \\n\\nalem disso  o brasil esta com uma taxa de juros reais altissima  so perde pra russia no fechamento de marco  que esta em guerra  pelo fato de estar com o juro real la em cima  o fluxo de dolar aumenta no pais  pois entra dinheiro internacional aqui por duas vias  investimento e venda de commodities \\n\\nas reservas de dolares do bc explodiram e estao lotadas  porem  80  dos brs sao pobres fudidos  desesperados para comer  abastecer o carro e pagar contas  ninguem tem dinheiro pra comprar dolares nem pensa em viajar pra fora  o volume cresce nos bancos e o preco cai  oferta altissima e demanda baixissima  indicador basico do capitalismo  \\n\\nvoce atualmente esta mais fudido do que jamais esteve  mas e alienado demais pra entender \\n\\nmas isso ira durar pouco  o dolar vai disparar de novo com o processo eleitoral e com o esfriamento da guerra na ucrania  quando os investidores irao comecar a tirar grana daqui  e a entresafra comecar \\n\\n5 40 gt  pro fim do ano',\n",
              " 'missao parte ainda este mes em meio ao risco de desabastecimento por parte da russia  ministra da agricultura diz que preco dos alimentos vai subir  mas que nao ha motivo para panico\\n\\no governo brasileiro vai ao canada ainda neste mes para buscar alternativas a compra de fertilizantes  informou a ministra da agricultura  tereza cristina  nesta quarta feira  2  em entrevista exclusiva a jovem pan  a ministra confirmou que uma delegacao da pasta deve se encontrar com representantes do governo e empresarios canadenses em uma viagem agendada para o dia 12 ou 13 de marco  a previsao e que a missao dure tres dias  a viagem ocorre em meio ao possivel desabastecimento de potassio  materia prima fundamental para a producao de adubo  com o avanco da guerra na ucrania  a russia e um dos principais produtores do mineral do mundo e foi o maior fornecedor de fertilizantes ao pais no ano passado  estamos indo para conversar sobre potassio e outros assuntos que ja vinham sendo discutidos com o governo canadense  e que agora teremos a oportunidade de ir para selar algum tipo de acordo  afirmou a ministra  \\n\\nsegundo tereza cristina  as tratativas do encontro estavam em negociacao desde janeiro  e a confirmacao foi dada por ottawa nesta terca feira  1o  podia acontecer em qualquer momento  e a duas semanas atras tivemos uma indicacao que seria possivel  afirmou  o canada ja e um importante parceiro do brasil na venda de fertilizantes  o produto foi responsavel por 49  das importacoes canadenses ao pais em 2021  segundo dados do ministerio da economia  a confirmacao foi dada horas depois de o presidente jair bolsonaro  pl  afirmar que o brasil pode sofrer com a falta de potassio por causa do confronto entre a ucrania e a russia  em uma sequencia de postagens no twitter  o chefe do executivo defendeu a mineracao em areas indigenas para diminuir a dependencia do comercio internacional  a importacao de fertilizantes e adubos correspondeu a 62  de todas as vendas russas ao brasil no ano passado  com a guerra russia ucrania  hoje corremos o risco da falta do potassio ou aumento do seu preco  nossa seguranca alimentar e agronegocio  economia  exigem de nos  executivo e legislativo  medidas que nos permitam a nao dependencia externa de algo que temos em abundancia  escreveu \\n\\ntereza cristina tambem alertou para os impactos que o conflito no leste da europa terao no encarecimento dos alimentos no brasil e no mundo  atualmente a ucrania e uma das referencias globais na producao de graos  principalmente milho  trigo e cevada  a pressao da guerra no comercio ja foi sentida com o aumento desses produtos nos mercados internacionais  isso e natural  o mercado e uma coisa sensivel e nervosa  tudo vai depender dos proximos dias  e isso   o preco   pode se manter mais alto ou mais baixo de acordo com a fotografia do momento  pontuou a ministra  o impacto na safra de milho brasileiro  por exemplo  deve ser sentido apenas no proximo ciclo de producao  o agricultor esta apreensivo com isso  quem tem adubo ja comprado  que procure retirar esse fertilizante  que nao negociou ainda deve procurar as suas empresas para discutir o assunto  mas tem que ter muita cautela nesse momento para saber o que vai acontecer  disse \\n\\na ministra afirmou que o brasil busca alternativas para a compra de fertilizantes de paises do leste europeu desde a crise envolvendo a bielorrussia  no fim do ano passado  o pais tambem e um dos maiores exportadores de fertilizantes ao agronegocio brasileiro  tereza cristina disse que o quadro atual e observado com muita cautela  mas nega que haja motivos para panico  segundo a responsavel pela pasta da agricultura  o setor privado brasileiro tem estoque suficiente para se manter ate o inicio do proximo ciclo de producao  em outubro  tem muita coisa embarcada  viajando e chegando ao brasil  disse  a ministra tambem defendeu a maior participacao do brasil na producao de materia prima para adubo  como avanco do plano nacional de fertilizantes  a ministra apontou a aprovacao do marco regulatorio do gas  que deixa o mercado nacional mais competitivo no setor  o brasil precisa caminhar mais rapidamente para ter mais autossuficiencia na producao interna  principalmente de nitrogenio  fosforo e potassio  mesmo porque produzimos em terras menos ferteis que os nossos concorrentes  entao precisamos de mais fertilizantes  afirmou',\n",
              " 'o preco dos adubos e do combustivel esta bem alto entao baseado nisso nenhum hortifruti tem como reduzir preco  tem adubo 300  mais caro que 2019 \\n\\ne no caso das carnes  a racao alem de demandar combustivel  e pasto demandar adubo  as racoes sao a base de cereais  e soja e milho estao com precos altissimos  em parte pelo custo do adubo e combustiveis  mas tambem pela demanda chinesa  a china nao para de importar nem com lockdown \\n\\ne tambem entra na conta do preco dos produtos agropecuarios o proprio preco da terra  nao e so casa ou apertamento de metropole que dobrou de preco  muita terra  lavoura ou pasto  tambem dobrou de preco em poucos anos  na verdade os precos andam junto  se na cidade um terreno fica muito caro logo alguem compra area rural e faz loteamento  ai a procura por areas rurais do lado de cidades aumenta  ai a terra um pouco mais longe tambem e mais procurada e tambem fica mais cara  e assim como um domino os precos sobem ate em zona rural no cu de altamira a 300km da cidade \\n\\nos eletroeletronicos e bens de consumo industrializados devem cair pra algum patamar ok dentro do poder de compra do salario  mas os alimentos duvido  sao muitas coisas pressionando precos  agora a ucrania  deixara de fornecer muitos milhoes de toneladas de trigo pro mundo   parte desse trigo sempre perde qualidade e vai pra alimentacao animal entao isso afeta ate preco de carne  de porco  gado ou frango  ou ate peru pro natal  que nesse natal deve ficar ainda mais caro ja que a producao esta bem pequena no pais   trigo vai pra biscoitos recheados  pra macarrao  pra empanados  nao e so pao  acaba afetando um pouco de tudo  soma um pouco de efeito de cada coisa e no fim tem  um aumento bem complexo e grande nos alimentos in natura e nos industrializados \\n\\nah  papel e produto agroflorestal  terra com eucalipto ou pinus precisa adubacao  os caminhoes e tratores dessas industrias bebem muito combustivel  e parte do aumento do custo da terra e repassado pro produto que sai dessa terra  seja carne  milho  mandioca ou madeira pra fazer papel higienico  fora que a industria depois usa eletricidade e combustivel  como essas estao mais caras automaticamente o preco do produto nem a pau que vai reduzir  nao e questao de normalizar producao e sim de ter um custo mais alto hoje  um custo empurra o outro pra cima e a coisa se auto alimenta nuns casos']"
            ]
          },
          "execution_count": 23,
          "metadata": {},
          "output_type": "execute_result"
        }
      ],
      "source": [
        "topic_model.get_representative_docs(2)"
      ]
    },
    {
      "cell_type": "code",
      "execution_count": 24,
      "id": "1ba99e7c",
      "metadata": {
        "colab": {
          "base_uri": "https://localhost:8080/"
        },
        "id": "1ba99e7c",
        "outputId": "f8bbc4f7-e491-4362-c5e3-43a32053ccdf"
      },
      "outputs": [
        {
          "data": {
            "text/plain": [
              "['existem nazistas na ucrania  russia aproveitou isso para criar campanha de desinformacao \\n\\no detalhe mais interessante e que os grupos separatistas financiados pela russia tem ligacoes com neo nazis tambem  tres batalhoes neo nazi e um partido politico ligado a lideranca das regioes separatistas',\n",
              " 'gt  filha essa que nao teve quase nenhuma convivencia ou vinculo afetivo com ele   khrushchev amigo pessoal de stalin  tu sabe quem foi khrushchev \\n\\nah  voce nao sabe nada da vida do stalin  e melhor nao se manifestar do que passar vergonha  nesses casos  se quiser  posso recomendar leituras e biografias  \\n\\n gt   voce acha que os caras aceitariam integrar o exercito se nao existisse algum tipo de regalia  \\n\\nmas e obvio  o motivo de formacao da unidade nao foi a propagacao do nazismo pelo mundo  foi a invasao da ucrania pela russia e a manutencao da integridade territorial do pais  e equipamento militar nao surge do chao  o poder de barganha esta com o ente estatal  \\n\\n gt  e prestando homenagem a stepan bandera\\n\\npessoas diferentes admiram figuras diferentes por motivos diferentes  voce nao admira stalin porque ele perseguia judeus  nao admira putin porque ele coordenou a morte de chechenos inocentes  e nao admira fidel castro porque ele perseguiu homossexuais   admira por outros motivos  o ucranianos que admiram bandera admiram bandera por ele lutar pela independencia da ucrania  nao e nem dificil de entender  e acontece em todos paises do mundo  \\n\\n gt  eram contra a anexacao  a maioria do povo da crimeia sao russos etnicos e falam russo como unico idioma  coisa que foi dificultada na ucrania depois do euromaidan  e a invasao so aconteceu depois do referendo \\n\\na invasao nao aconteceu depois do referendo  caralho  que mundo voce vive  quem voce acha que conduziu o referendo  zelenskyi fala russo  os irmaos klitszchko falam russo  o usyk  que foi campeao de boxe recentemente dos pesos pesados  e da crimeia e fala russo  todos se consideram ucranianos e sao contra a anexacao  \\n\\nrecomendo que leia sobre os little green man de putin   eram soldados russos sem identificacao  eles tomaram a crimeia em 27 de fevereiro  invadiram o predio do parlamento  e colocaram um candidato que recebeu 4  dos votos na eleicao geral no comando  a russia negou serem russos por alguns anos  e putin posteriormente confirmou serem  conduziram votacao para que ocorresse o referendo  de forma totalmente controlada \\n\\n gt   the parliament also voted to hold a referendum on greater autonomy set for 25 may  the troops had cut all of the building s communications  and took mps  phones as they entered  140  141  no independent journalists were allowed inside the building while the votes were taking place  141  some mps said they were being threatened and that votes were cast for them and other mps  even though they were not in the chamber  141  interfax ukraine reported  it is impossible to find out whether all the 64 members of the 100 member legislature who were registered as present at when the two decisions were voted on or whether someone else used the plastic voting cards of some of them  because due to the armed occupation of parliament it was unclear how many mps were present  146  \\n\\no referendo foi adiantado para poucas semanas depois da invasao  e foi totalmente eivado por vicios \\n\\n gt  on 6 march  the supreme council moved the referendum date to 16 march and changed its scope to ask a new question  whether crimea should apply to join russia as a federal subject or restore the 1992 crimean constitution within ukraine  which the ukrainian government had previously invalidated  this referendum  unlike one announced earlier  contained no option to maintain the status quo of governance under the 1998 constitution  193  ukraine s acting president  oleksandr turchynov  stated that  the authorities in crimea are totally illegitimate  both the parliament and the government  they are forced to work under the barrel of a gun and all their decisions are dictated by fear and are illegal   194 \\n\\n gt  on 14 march  the crimean status referendum was deemed unconstitutional by the constitutional court of ukraine  195  and a day later  the verkhovna rada formally dissolved the crimean parliament  47  with a referendum looming  russia massed troops near the ukrainian eastern border  196  likely to threaten escalation and stymie ukraine s response \\n\\n gt  the referendum was held despite the opposition from the ukrainian government  official results reported about 95 5  of participating voters in crimea  turnout was 83   were in favour of seceding from ukraine and joining russia  56  197  198  the results of referendum were questioned  199  another report by evgeny bobrov  a member of the russian president s human rights council  suggested the official results were inflated and only 15  to 30  of crimeans eligible to vote actually voted for the russian option  46  200  201 \\n\\n gt  the means by which the referendum was conducted were widely criticised by foreign governments 202  and in the ukrainian and international press  with reports that anyone holding a russian passport regardless of residency in crimea was allowed to vote  203  osce refused to send observers to the referendum  stating that invitation should have come from an osce member state in question  i e  ukraine   rather than local authorities  204  russia invited a group of observers from various european far right political parties aligned with putin  who stated the referendum was conducted in a free and fair manner  205  206 \\n\\nso leva minimamente isso a serio gente burra ou gente mal intencionada  \\n\\n gt  ah claro  entao do nada a populacao do donbass deixou de ter identidade propria e virou um fantoche da russia  engracado que essa ideia de defender a autonomia de um povo so se aplica a ucrania \\n\\na russia invadiu o donbass  nao e um movimento organico  e uma invasao estrangeira  nao entendo porque voce finger levar esse teatro a serio  \\n\\n gt  fantoche da otan muito antes dessa guerra acontecer  a otan esteve envolvida no euromaidan inclusive  o proprio trump ja falou sobre  e imperialismo nao acontece so por invasao  manipulacao ideologica tambem e parte disso  e o interesse da otan na ucrania e o mesmo interesse que ela tem em todos os estados ao redor da russia que eles puseram bases militares \\n\\nnao havia nenhuma base militar da otan a leste da alemanha oriental antes de 2014 e da invasao da ucrania  os motivos do putin sao imperialistas  nao defensivos  e  manipulacao ideologica  se chama livre convecimento  nao existe nada de nefasto em optar estar na esfera da influencia dos eua e da europa ao inves de na da russia  um lado e prospero  democratico e multicultural  o outro retrogrado  pobre e conservador  porque diabos a ucrania escolheria ser a bielorrussia ao inves da polonia  olhe para a situacao da armenia  abandonada pelos russos e correndo risco de sofrer um novo genocidio  que pais em sa consciencia escolheria esse lado  nenhum pais tem o direito de ter uma zona de influencia  isso e escolha dos vizinhos  a ucrania escolheu o seu lado  \\n\\n gt  eles mesmos assumem que descobriram isso por meio de entrevistas a locais e a organizacoes que estavam ali  e os corpos  cade \\n\\nvoce quer gore  eu posso postar dezenas  centenas de video de russos torturando gente aqui se quiser \\n\\nvoce mesmo  se quiser  acha corpos com 10 minutos no google  voce acha que os ucranianos estao mentindo sobre serem torturados e estuprados  voce acha que a russia mandar centenas de milhares de moleques de 18 anos mal treinados com uma narrativa genocida como justificativa da guerra nao vai produzir abusos  a russia e um pais pobre  com uma estrutura militar extremamente toxica  nao sei em que mundo de ilusao voce vive em que abusos sao uma surpresa  leia por 10 minutos sobre a guerra da chechenia  sobre beslan  sobre o grupo wagner na siria  na africa  esses abusos nao sao casos isolados  sao modus operandi  \\n\\n gt   e pra ter realmente certeza sobre isso  so com aquele tribunal internacional \\n\\nvoce vai continuar negando',\n",
              " 'gt os 1  neonazistas \\n\\n1   fonte datacu  a extrema direita cresceu exponencialmente\\n\\nsegue alguns links de materias de jornal e artigos cientificos sobre a escalada da extrema direita  do ultra nacionalismo  da xenofobia e preconceito na europa como um todo e mais especificamente na ucrania e e mais que o 1  que vc ta claramente chutando ai \\n\\nhowever  radical nationalists actively participating in the protests possessed a unique combination of resources for initiating and diffusing efficient  coordinated  and strategic violence when it became legitimated by intensifying repressions and disillusionment in the incapacity of the oppositional political parties to propose an efficient strategy against the government  violent radicalization facilitated geographical expansion of disruption via occupations of governmental buildings in western and central ukrainian regions that the state was ultimately incapable of containing \\n\\n\\n\\n nonetheless  in early 2020  the radical rights role in ukrainian public life is still characterized by a high level of activity in realms such as civil society  the mass media and cultural affairs  the various permutations of contemporary \\r\\nukrainian ultra\\r nationalism therefore require careful monitoring and continuing analysis by independent researchers and law enforcement agencies \\n\\n\\n\\n\\n\\n nonetheless  there are at least four features of or developments in ukraines post euromaidan ultra nationalist environment that give cause for concern  \\r\\nfirst  as a result of russias war against ukraine  there is a growing public tolerance of historical and contemporary radical nationalist organizations  their actions and personnel  in ukrainian society and among its elite  \\r\\nsecond  since 2014  through the foundation of volunteer units  certain far right organizations have been given permanent access to guns and even in some cases heavy weapons  some still control minor irregular armed groups such as the volunteer ukrainian corps of the right \\r\\nsector  or the volunteer army of dmytro \\r\\nyaroshs statist initiative party  \\r\\nthird  there is a continuing presence of far right organizations in the realms of ukraines extra parliamentary party politics  ngo sector  local affairs and  in some respects  foreign relations  following the cutting of most of svobodas earlier ties to far right parties in the european union in 2014  the latter point is linked to the azov movements growing international ties  some smaller far right groups are also building links with other european racist or ultra conservative associations \\nfourth  as a result of ukrainian societys generally greater permissiveness of the far right since the events of 2014  there have \\rbeen repeated incidents of cooperation \\rbetween various governmental institutions and parts of the far right']"
            ]
          },
          "execution_count": 24,
          "metadata": {},
          "output_type": "execute_result"
        }
      ],
      "source": [
        "topic_model.get_representative_docs(3)"
      ]
    },
    {
      "cell_type": "code",
      "execution_count": 25,
      "id": "a0911c74",
      "metadata": {
        "id": "a0911c74"
      },
      "outputs": [
        {
          "data": {
            "text/plain": [
              "['esse sub aqui e cheio de viuvas da ucrania  kkkkkk\\nha uma coluna blindada ja cercando a cidade  e melhor essa galera ai ficar em casa ou vao entrar no cacete   \\npau no cu da otan',\n",
              " 'bota uma faccao na ucrania  eles botam os russos e os ucranianos pra correr\\n\\ne ainda anexam a ucrania ao rio de janeiro',\n",
              " 'aqui tem um livemap dos acontecimentos da ucrania  ali da pra ver os conflitos armados  explosoes  etc  da pra ter uma ideia geral no que esta acontecendo   liveuamap  \\n\\nareas em vermelho sao as tomadas pelos russos  tu clica no mapa e ai abra o videozinho com a geotag da regiao']"
            ]
          },
          "execution_count": 25,
          "metadata": {},
          "output_type": "execute_result"
        }
      ],
      "source": [
        "topic_model.get_representative_docs(4)"
      ]
    },
    {
      "cell_type": "code",
      "execution_count": 26,
      "id": "e1341ee9",
      "metadata": {
        "id": "e1341ee9"
      },
      "outputs": [
        {
          "data": {
            "text/plain": [
              "['porque a invasao se deu pela provocacao ameaca do   imperio estaduniense   cercando o   quintal deles    \\n\\n gt  imperio estaduniense   \\n gt   \\n gt  quintal deles  \\n\\npera     \\nimperialismo e ruim   mas a russia tem direito a quintal  no pais do outros   explica ai',\n",
              " 'o cara ta numa guerra contra a russia  a russia deseja literalmente a extincao do pais  pessoas da favores da russia sao literalmente a favores da extincao do pais  ou seja completamente antidemocratico  me diga onde isso e errado ou antidemocratico',\n",
              " 'que tal comecarmos com o lado que esta mais errado e o que inicialmente invadiu outro pais uns anos atras com objetivos de anexacao de territorio  e agora esta dizendo que vai fazer de novo  o que de fato iniciaria  mais uma  guerra que vai resultar na morte de milhares e sofrimento de milhoes \\n\\nde novo  se a russia estivesse fazendo propaganda e dando golpes e contra golpes como os eua seria escroto no mesmo nivel  mas eu escolho facilmente eles fazendo uma disputa desse tipo em comparacao a uma guerra']"
            ]
          },
          "execution_count": 26,
          "metadata": {},
          "output_type": "execute_result"
        }
      ],
      "source": [
        "topic_model.get_representative_docs(5)"
      ]
    },
    {
      "cell_type": "markdown",
      "id": "7847bfed",
      "metadata": {
        "id": "7847bfed"
      },
      "source": [
        "## Q3 - Análise das relações dos tópicos com cada Subreddit"
      ]
    },
    {
      "cell_type": "code",
      "execution_count": 27,
      "id": "6gowxyQQ7sip",
      "metadata": {
        "colab": {
          "base_uri": "https://localhost:8080/"
        },
        "id": "6gowxyQQ7sip",
        "outputId": "35e6ca15-bab1-4697-a8d8-9ceb6f4e8c68"
      },
      "outputs": [
        {
          "name": "stderr",
          "output_type": "stream",
          "text": [
            "0it [00:00, ?it/s]"
          ]
        },
        {
          "name": "stderr",
          "output_type": "stream",
          "text": [
            "12it [02:24, 12.02s/it]\n"
          ]
        }
      ],
      "source": [
        "topics_over_time = topic_model.topics_over_time(docs, timestamps)"
      ]
    },
    {
      "cell_type": "code",
      "execution_count": 28,
      "id": "oJoEgzqzeiBs",
      "metadata": {
        "colab": {
          "base_uri": "https://localhost:8080/",
          "height": 1000
        },
        "id": "oJoEgzqzeiBs",
        "outputId": "d2ccf875-4f59-45cf-f3ca-adff56c04405"
      },
      "outputs": [
        {
          "data": {
            "text/html": [
              "<div>\n",
              "<style scoped>\n",
              "    .dataframe tbody tr th:only-of-type {\n",
              "        vertical-align: middle;\n",
              "    }\n",
              "\n",
              "    .dataframe tbody tr th {\n",
              "        vertical-align: top;\n",
              "    }\n",
              "\n",
              "    .dataframe thead th {\n",
              "        text-align: right;\n",
              "    }\n",
              "</style>\n",
              "<table border=\"1\" class=\"dataframe\">\n",
              "  <thead>\n",
              "    <tr style=\"text-align: right;\">\n",
              "      <th></th>\n",
              "      <th>Topic</th>\n",
              "      <th>Words</th>\n",
              "      <th>Frequency</th>\n",
              "      <th>Timestamp</th>\n",
              "    </tr>\n",
              "  </thead>\n",
              "  <tbody>\n",
              "    <tr>\n",
              "      <th>0</th>\n",
              "      <td>-1</td>\n",
              "      <td>dinheiro, china russia, socialismo, misseis, s...</td>\n",
              "      <td>775</td>\n",
              "      <td>2022-01-01</td>\n",
              "    </tr>\n",
              "    <tr>\n",
              "      <th>1</th>\n",
              "      <td>0</td>\n",
              "      <td>balticos, misseis, otan russia, paises baltico...</td>\n",
              "      <td>70</td>\n",
              "      <td>2022-01-01</td>\n",
              "    </tr>\n",
              "    <tr>\n",
              "      <th>2</th>\n",
              "      <td>1</td>\n",
              "      <td>regime, proletario, secas, lider, ditadura</td>\n",
              "      <td>91</td>\n",
              "      <td>2022-01-01</td>\n",
              "    </tr>\n",
              "    <tr>\n",
              "      <th>3</th>\n",
              "      <td>2</td>\n",
              "      <td>ouro, valioso, preco, bitcoin, dolar</td>\n",
              "      <td>74</td>\n",
              "      <td>2022-01-01</td>\n",
              "    </tr>\n",
              "    <tr>\n",
              "      <th>4</th>\n",
              "      <td>3</td>\n",
              "      <td>neo, nazis, nazi, todos ucranianos, neo nazis</td>\n",
              "      <td>29</td>\n",
              "      <td>2022-01-01</td>\n",
              "    </tr>\n",
              "    <tr>\n",
              "      <th>...</th>\n",
              "      <td>...</td>\n",
              "      <td>...</td>\n",
              "      <td>...</td>\n",
              "      <td>...</td>\n",
              "    </tr>\n",
              "    <tr>\n",
              "      <th>79</th>\n",
              "      <td>1</td>\n",
              "      <td>eleicoes, legitimidade, legitimidade democrati...</td>\n",
              "      <td>69</td>\n",
              "      <td>2022-12-01</td>\n",
              "    </tr>\n",
              "    <tr>\n",
              "      <th>80</th>\n",
              "      <td>2</td>\n",
              "      <td>dolar, preco, ouro, precos, comprar</td>\n",
              "      <td>78</td>\n",
              "      <td>2022-12-01</td>\n",
              "    </tr>\n",
              "    <tr>\n",
              "      <th>81</th>\n",
              "      <td>3</td>\n",
              "      <td>nazismo, divisao, ss, neonazista, judeus</td>\n",
              "      <td>55</td>\n",
              "      <td>2022-12-01</td>\n",
              "    </tr>\n",
              "    <tr>\n",
              "      <th>82</th>\n",
              "      <td>4</td>\n",
              "      <td>60 segundos, bayraktar lugansk, winning eleven...</td>\n",
              "      <td>18</td>\n",
              "      <td>2022-12-01</td>\n",
              "    </tr>\n",
              "    <tr>\n",
              "      <th>83</th>\n",
              "      <td>5</td>\n",
              "      <td>estaduniense, imperio estaduniense, la governo...</td>\n",
              "      <td>28</td>\n",
              "      <td>2022-12-01</td>\n",
              "    </tr>\n",
              "  </tbody>\n",
              "</table>\n",
              "<p>84 rows × 4 columns</p>\n",
              "</div>"
            ],
            "text/plain": [
              "    Topic                                              Words  Frequency  \\\n",
              "0      -1  dinheiro, china russia, socialismo, misseis, s...        775   \n",
              "1       0  balticos, misseis, otan russia, paises baltico...         70   \n",
              "2       1         regime, proletario, secas, lider, ditadura         91   \n",
              "3       2               ouro, valioso, preco, bitcoin, dolar         74   \n",
              "4       3      neo, nazis, nazi, todos ucranianos, neo nazis         29   \n",
              "..    ...                                                ...        ...   \n",
              "79      1  eleicoes, legitimidade, legitimidade democrati...         69   \n",
              "80      2                dolar, preco, ouro, precos, comprar         78   \n",
              "81      3           nazismo, divisao, ss, neonazista, judeus         55   \n",
              "82      4  60 segundos, bayraktar lugansk, winning eleven...         18   \n",
              "83      5  estaduniense, imperio estaduniense, la governo...         28   \n",
              "\n",
              "    Timestamp  \n",
              "0  2022-01-01  \n",
              "1  2022-01-01  \n",
              "2  2022-01-01  \n",
              "3  2022-01-01  \n",
              "4  2022-01-01  \n",
              "..        ...  \n",
              "79 2022-12-01  \n",
              "80 2022-12-01  \n",
              "81 2022-12-01  \n",
              "82 2022-12-01  \n",
              "83 2022-12-01  \n",
              "\n",
              "[84 rows x 4 columns]"
            ]
          },
          "execution_count": 28,
          "metadata": {},
          "output_type": "execute_result"
        }
      ],
      "source": [
        "topics_over_time"
      ]
    },
    {
      "cell_type": "markdown",
      "id": "ea224d62",
      "metadata": {
        "id": "ea224d62"
      },
      "source": [
        "Frequência dos tópicos por Subreddit, bruta e normalizada (# tópico/todos os tópicos)"
      ]
    },
    {
      "cell_type": "code",
      "execution_count": 29,
      "id": "c386a031",
      "metadata": {
        "colab": {
          "base_uri": "https://localhost:8080/",
          "height": 310
        },
        "id": "c386a031",
        "outputId": "83ee71b7-f719-4085-b66e-901d2ec8c764"
      },
      "outputs": [
        {
          "data": {
            "text/html": [
              "<div>\n",
              "<style scoped>\n",
              "    .dataframe tbody tr th:only-of-type {\n",
              "        vertical-align: middle;\n",
              "    }\n",
              "\n",
              "    .dataframe tbody tr th {\n",
              "        vertical-align: top;\n",
              "    }\n",
              "\n",
              "    .dataframe thead th {\n",
              "        text-align: right;\n",
              "    }\n",
              "</style>\n",
              "<table border=\"1\" class=\"dataframe\">\n",
              "  <thead>\n",
              "    <tr style=\"text-align: right;\">\n",
              "      <th></th>\n",
              "      <th>id</th>\n",
              "      <th>text</th>\n",
              "      <th>month</th>\n",
              "      <th>type</th>\n",
              "      <th>subreddit</th>\n",
              "      <th>topic_label</th>\n",
              "    </tr>\n",
              "  </thead>\n",
              "  <tbody>\n",
              "    <tr>\n",
              "      <th>3</th>\n",
              "      <td>hqv6rub</td>\n",
              "      <td>o embargo e dos eua  eles podem fazer negocios...</td>\n",
              "      <td>2022-01</td>\n",
              "      <td>C</td>\n",
              "      <td>brasil</td>\n",
              "      <td>2</td>\n",
              "    </tr>\n",
              "    <tr>\n",
              "      <th>4</th>\n",
              "      <td>hqvk4xj</td>\n",
              "      <td>a ucrania voltar ao seu estado natural de naca...</td>\n",
              "      <td>2022-01</td>\n",
              "      <td>C</td>\n",
              "      <td>brasil</td>\n",
              "      <td>0</td>\n",
              "    </tr>\n",
              "    <tr>\n",
              "      <th>13</th>\n",
              "      <td>hqxf5h9</td>\n",
              "      <td>e um pais tampao entre eles a europa ocidental...</td>\n",
              "      <td>2022-01</td>\n",
              "      <td>C</td>\n",
              "      <td>brasil</td>\n",
              "      <td>0</td>\n",
              "    </tr>\n",
              "    <tr>\n",
              "      <th>14</th>\n",
              "      <td>hqxibsi</td>\n",
              "      <td>gt um modelo pautado na eficiencia do projeto ...</td>\n",
              "      <td>2022-01</td>\n",
              "      <td>C</td>\n",
              "      <td>brasil</td>\n",
              "      <td>1</td>\n",
              "    </tr>\n",
              "    <tr>\n",
              "      <th>21</th>\n",
              "      <td>hr0cxu6</td>\n",
              "      <td>china com a belt and road pelos paises african...</td>\n",
              "      <td>2022-01</td>\n",
              "      <td>C</td>\n",
              "      <td>brasil</td>\n",
              "      <td>2</td>\n",
              "    </tr>\n",
              "  </tbody>\n",
              "</table>\n",
              "</div>"
            ],
            "text/plain": [
              "         id                                               text    month type  \\\n",
              "3   hqv6rub  o embargo e dos eua  eles podem fazer negocios...  2022-01    C   \n",
              "4   hqvk4xj  a ucrania voltar ao seu estado natural de naca...  2022-01    C   \n",
              "13  hqxf5h9  e um pais tampao entre eles a europa ocidental...  2022-01    C   \n",
              "14  hqxibsi  gt um modelo pautado na eficiencia do projeto ...  2022-01    C   \n",
              "21  hr0cxu6  china com a belt and road pelos paises african...  2022-01    C   \n",
              "\n",
              "   subreddit  topic_label  \n",
              "3     brasil            2  \n",
              "4     brasil            0  \n",
              "13    brasil            0  \n",
              "14    brasil            1  \n",
              "21    brasil            2  "
            ]
          },
          "metadata": {},
          "output_type": "display_data"
        }
      ],
      "source": [
        "if 'subreddit' not in data.columns:\n",
        "    comments_subreddit = comments[['id', 'subreddit']]\n",
        "    submissions_subreddit = submissions[['id', 'subreddit']]\n",
        "    subreddit_data = pd.concat([comments_subreddit, submissions_subreddit], ignore_index=True)\n",
        "    data = pd.merge(data, subreddit_data, on='id', how='left')\n",
        "\n",
        "data['topic_label'] = topics\n",
        "\n",
        "# Filter out topic -1\n",
        "filtered_data = data[data['topic_label'] != -1].copy()\n",
        "\n",
        "display(filtered_data.head())"
      ]
    },
    {
      "cell_type": "code",
      "execution_count": 30,
      "id": "1cae1bb8",
      "metadata": {
        "colab": {
          "base_uri": "https://localhost:8080/",
          "height": 394
        },
        "id": "1cae1bb8",
        "outputId": "3160c066-8b9d-4795-fe7b-15bc96668b7e"
      },
      "outputs": [
        {
          "data": {
            "text/html": [
              "<div>\n",
              "<style scoped>\n",
              "    .dataframe tbody tr th:only-of-type {\n",
              "        vertical-align: middle;\n",
              "    }\n",
              "\n",
              "    .dataframe tbody tr th {\n",
              "        vertical-align: top;\n",
              "    }\n",
              "\n",
              "    .dataframe thead th {\n",
              "        text-align: right;\n",
              "    }\n",
              "</style>\n",
              "<table border=\"1\" class=\"dataframe\">\n",
              "  <thead>\n",
              "    <tr style=\"text-align: right;\">\n",
              "      <th>topic_label</th>\n",
              "      <th>0</th>\n",
              "      <th>1</th>\n",
              "      <th>2</th>\n",
              "      <th>3</th>\n",
              "      <th>4</th>\n",
              "      <th>5</th>\n",
              "    </tr>\n",
              "    <tr>\n",
              "      <th>subreddit</th>\n",
              "      <th></th>\n",
              "      <th></th>\n",
              "      <th></th>\n",
              "      <th></th>\n",
              "      <th></th>\n",
              "      <th></th>\n",
              "    </tr>\n",
              "  </thead>\n",
              "  <tbody>\n",
              "    <tr>\n",
              "      <th>botecodoreddit</th>\n",
              "      <td>3</td>\n",
              "      <td>8</td>\n",
              "      <td>1</td>\n",
              "      <td>3</td>\n",
              "      <td>7</td>\n",
              "      <td>1</td>\n",
              "    </tr>\n",
              "    <tr>\n",
              "      <th>brasil</th>\n",
              "      <td>1911</td>\n",
              "      <td>1571</td>\n",
              "      <td>1088</td>\n",
              "      <td>1315</td>\n",
              "      <td>378</td>\n",
              "      <td>289</td>\n",
              "    </tr>\n",
              "    <tr>\n",
              "      <th>brasilivre</th>\n",
              "      <td>821</td>\n",
              "      <td>919</td>\n",
              "      <td>794</td>\n",
              "      <td>329</td>\n",
              "      <td>298</td>\n",
              "      <td>196</td>\n",
              "    </tr>\n",
              "    <tr>\n",
              "      <th>conversas</th>\n",
              "      <td>3</td>\n",
              "      <td>3</td>\n",
              "      <td>3</td>\n",
              "      <td>1</td>\n",
              "      <td>1</td>\n",
              "      <td>1</td>\n",
              "    </tr>\n",
              "    <tr>\n",
              "      <th>desabafos</th>\n",
              "      <td>19</td>\n",
              "      <td>43</td>\n",
              "      <td>35</td>\n",
              "      <td>15</td>\n",
              "      <td>18</td>\n",
              "      <td>2</td>\n",
              "    </tr>\n",
              "    <tr>\n",
              "      <th>eu_nvr</th>\n",
              "      <td>6</td>\n",
              "      <td>5</td>\n",
              "      <td>4</td>\n",
              "      <td>3</td>\n",
              "      <td>5</td>\n",
              "      <td>2</td>\n",
              "    </tr>\n",
              "    <tr>\n",
              "      <th>futebol</th>\n",
              "      <td>46</td>\n",
              "      <td>74</td>\n",
              "      <td>25</td>\n",
              "      <td>31</td>\n",
              "      <td>49</td>\n",
              "      <td>19</td>\n",
              "    </tr>\n",
              "    <tr>\n",
              "      <th>investimentos</th>\n",
              "      <td>5</td>\n",
              "      <td>12</td>\n",
              "      <td>167</td>\n",
              "      <td>0</td>\n",
              "      <td>8</td>\n",
              "      <td>4</td>\n",
              "    </tr>\n",
              "    <tr>\n",
              "      <th>saopaulo</th>\n",
              "      <td>0</td>\n",
              "      <td>1</td>\n",
              "      <td>5</td>\n",
              "      <td>0</td>\n",
              "      <td>1</td>\n",
              "      <td>2</td>\n",
              "    </tr>\n",
              "    <tr>\n",
              "      <th>tiodopave</th>\n",
              "      <td>1</td>\n",
              "      <td>1</td>\n",
              "      <td>0</td>\n",
              "      <td>0</td>\n",
              "      <td>0</td>\n",
              "      <td>0</td>\n",
              "    </tr>\n",
              "  </tbody>\n",
              "</table>\n",
              "</div>"
            ],
            "text/plain": [
              "topic_label        0     1     2     3    4    5\n",
              "subreddit                                       \n",
              "botecodoreddit     3     8     1     3    7    1\n",
              "brasil          1911  1571  1088  1315  378  289\n",
              "brasilivre       821   919   794   329  298  196\n",
              "conversas          3     3     3     1    1    1\n",
              "desabafos         19    43    35    15   18    2\n",
              "eu_nvr             6     5     4     3    5    2\n",
              "futebol           46    74    25    31   49   19\n",
              "investimentos      5    12   167     0    8    4\n",
              "saopaulo           0     1     5     0    1    2\n",
              "tiodopave          1     1     0     0    0    0"
            ]
          },
          "metadata": {},
          "output_type": "display_data"
        }
      ],
      "source": [
        "raw_topic_frequencies = filtered_data.groupby(['subreddit', 'topic_label']).size().unstack(fill_value=0)\n",
        "display(raw_topic_frequencies)"
      ]
    },
    {
      "cell_type": "code",
      "execution_count": 32,
      "id": "85f2a326",
      "metadata": {
        "colab": {
          "base_uri": "https://localhost:8080/",
          "height": 461
        },
        "id": "85f2a326",
        "outputId": "ab0bc485-9584-4e2b-cd5e-cbfad2902b1b"
      },
      "outputs": [
        {
          "data": {
            "image/png": "[encoded data removed]",
            "text/plain": [
              "<Figure size 1200x800 with 2 Axes>"
            ]
          },
          "metadata": {},
          "output_type": "display_data"
        }
      ],
      "source": [
        "import seaborn as sns\n",
        "\n",
        "plt.figure(figsize=(12, 8))\n",
        "sns.heatmap(raw_topic_frequencies, annot=True, fmt=\"d\", cmap=\"YlGnBu\")\n",
        "plt.title('Raw Topic Frequencies per Subreddit')\n",
        "plt.xlabel('Topic Label')\n",
        "plt.ylabel('Subreddit')\n",
        "plt.show()"
      ]
    },
    {
      "cell_type": "markdown",
      "id": "298faee5",
      "metadata": {
        "id": "298faee5"
      },
      "source": [
        "**Reasoning**:\n",
        "Normalize the raw topic frequencies by dividing each row by its sum to get proportions and then display the result.\n",
        "\n"
      ]
    },
    {
      "cell_type": "code",
      "execution_count": 33,
      "id": "8d88f78f",
      "metadata": {
        "colab": {
          "base_uri": "https://localhost:8080/",
          "height": 238
        },
        "id": "8d88f78f",
        "outputId": "052596db-b43e-47fa-d643-14fa833ee8d0"
      },
      "outputs": [
        {
          "data": {
            "text/html": [
              "<div>\n",
              "<style scoped>\n",
              "    .dataframe tbody tr th:only-of-type {\n",
              "        vertical-align: middle;\n",
              "    }\n",
              "\n",
              "    .dataframe tbody tr th {\n",
              "        vertical-align: top;\n",
              "    }\n",
              "\n",
              "    .dataframe thead th {\n",
              "        text-align: right;\n",
              "    }\n",
              "</style>\n",
              "<table border=\"1\" class=\"dataframe\">\n",
              "  <thead>\n",
              "    <tr style=\"text-align: right;\">\n",
              "      <th>topic_label</th>\n",
              "      <th>0</th>\n",
              "      <th>1</th>\n",
              "      <th>2</th>\n",
              "      <th>3</th>\n",
              "      <th>4</th>\n",
              "      <th>5</th>\n",
              "    </tr>\n",
              "    <tr>\n",
              "      <th>subreddit</th>\n",
              "      <th></th>\n",
              "      <th></th>\n",
              "      <th></th>\n",
              "      <th></th>\n",
              "      <th></th>\n",
              "      <th></th>\n",
              "    </tr>\n",
              "  </thead>\n",
              "  <tbody>\n",
              "    <tr>\n",
              "      <th>botecodoreddit</th>\n",
              "      <td>0.130435</td>\n",
              "      <td>0.347826</td>\n",
              "      <td>0.043478</td>\n",
              "      <td>0.130435</td>\n",
              "      <td>0.304348</td>\n",
              "      <td>0.043478</td>\n",
              "    </tr>\n",
              "    <tr>\n",
              "      <th>brasil</th>\n",
              "      <td>0.291667</td>\n",
              "      <td>0.239774</td>\n",
              "      <td>0.166056</td>\n",
              "      <td>0.200702</td>\n",
              "      <td>0.057692</td>\n",
              "      <td>0.044109</td>\n",
              "    </tr>\n",
              "    <tr>\n",
              "      <th>brasilivre</th>\n",
              "      <td>0.244564</td>\n",
              "      <td>0.273756</td>\n",
              "      <td>0.236521</td>\n",
              "      <td>0.098004</td>\n",
              "      <td>0.088770</td>\n",
              "      <td>0.058385</td>\n",
              "    </tr>\n",
              "    <tr>\n",
              "      <th>conversas</th>\n",
              "      <td>0.250000</td>\n",
              "      <td>0.250000</td>\n",
              "      <td>0.250000</td>\n",
              "      <td>0.083333</td>\n",
              "      <td>0.083333</td>\n",
              "      <td>0.083333</td>\n",
              "    </tr>\n",
              "    <tr>\n",
              "      <th>desabafos</th>\n",
              "      <td>0.143939</td>\n",
              "      <td>0.325758</td>\n",
              "      <td>0.265152</td>\n",
              "      <td>0.113636</td>\n",
              "      <td>0.136364</td>\n",
              "      <td>0.015152</td>\n",
              "    </tr>\n",
              "  </tbody>\n",
              "</table>\n",
              "</div>"
            ],
            "text/plain": [
              "topic_label            0         1         2         3         4         5\n",
              "subreddit                                                                 \n",
              "botecodoreddit  0.130435  0.347826  0.043478  0.130435  0.304348  0.043478\n",
              "brasil          0.291667  0.239774  0.166056  0.200702  0.057692  0.044109\n",
              "brasilivre      0.244564  0.273756  0.236521  0.098004  0.088770  0.058385\n",
              "conversas       0.250000  0.250000  0.250000  0.083333  0.083333  0.083333\n",
              "desabafos       0.143939  0.325758  0.265152  0.113636  0.136364  0.015152"
            ]
          },
          "metadata": {},
          "output_type": "display_data"
        }
      ],
      "source": [
        "normalized_topic_frequencies = raw_topic_frequencies.div(raw_topic_frequencies.sum(axis=1), axis=0)\n",
        "display(normalized_topic_frequencies.head())"
      ]
    },
    {
      "cell_type": "code",
      "execution_count": 34,
      "id": "46989597",
      "metadata": {
        "colab": {
          "base_uri": "https://localhost:8080/",
          "height": 467
        },
        "id": "46989597",
        "outputId": "0855f0e7-28c6-4bbf-9e35-8bc7912c8b26"
      },
      "outputs": [
        {
          "data": {
            "image/png": "[encoded data removed]",
            "text/plain": [
              "<Figure size 1200x800 with 2 Axes>"
            ]
          },
          "metadata": {},
          "output_type": "display_data"
        }
      ],
      "source": [
        "plt.figure(figsize=(12, 8))\n",
        "sns.heatmap(normalized_topic_frequencies, annot=True, fmt=\".2f\", cmap=\"YlGnBu\")\n",
        "plt.title(\"Normalized Topic Frequencies per Subreddit\")\n",
        "plt.xlabel(\"Topic Label\")\n",
        "plt.ylabel(\"Subreddit\")\n",
        "plt.show()"
      ]
    },
    {
      "cell_type": "code",
      "execution_count": 35,
      "id": "4a03ed8c",
      "metadata": {
        "colab": {
          "base_uri": "https://localhost:8080/",
          "height": 447
        },
        "id": "4a03ed8c",
        "outputId": "c18fd2f0-df81-426d-aabd-d4c3d30717e5"
      },
      "outputs": [
        {
          "name": "stdout",
          "output_type": "stream",
          "text": [
            "Total comments per subreddit:\n"
          ]
        },
        {
          "data": {
            "text/plain": [
              "subreddit\n",
              "botecodoreddit       86\n",
              "brasil            21938\n",
              "brasilivre        12122\n",
              "conversas           173\n",
              "desabafos           737\n",
              "eu_nvr              104\n",
              "futebol            1226\n",
              "investimentos       420\n",
              "saopaulo             37\n",
              "tiodopave            11\n",
              "dtype: int64"
            ]
          },
          "metadata": {},
          "output_type": "display_data"
        }
      ],
      "source": [
        "total_comments_per_subreddit = comments.groupby('subreddit').size()\n",
        "print(\"Total comments per subreddit:\")\n",
        "display(total_comments_per_subreddit)"
      ]
    },
    {
      "cell_type": "code",
      "execution_count": 36,
      "id": "b93b676c",
      "metadata": {
        "colab": {
          "base_uri": "https://localhost:8080/",
          "height": 1000
        },
        "id": "b93b676c",
        "outputId": "15a0b56b-06d3-46de-82e9-e7b676fc148b"
      },
      "outputs": [
        {
          "data": {
            "text/html": [
              "<div>\n",
              "<style scoped>\n",
              "    .dataframe tbody tr th:only-of-type {\n",
              "        vertical-align: middle;\n",
              "    }\n",
              "\n",
              "    .dataframe tbody tr th {\n",
              "        vertical-align: top;\n",
              "    }\n",
              "\n",
              "    .dataframe thead th {\n",
              "        text-align: right;\n",
              "    }\n",
              "</style>\n",
              "<table border=\"1\" class=\"dataframe\">\n",
              "  <thead>\n",
              "    <tr style=\"text-align: right;\">\n",
              "      <th>topic_label</th>\n",
              "      <th>0</th>\n",
              "      <th>1</th>\n",
              "      <th>2</th>\n",
              "      <th>3</th>\n",
              "    </tr>\n",
              "    <tr>\n",
              "      <th>subreddit</th>\n",
              "      <th></th>\n",
              "      <th></th>\n",
              "      <th></th>\n",
              "      <th></th>\n",
              "    </tr>\n",
              "  </thead>\n",
              "  <tbody>\n",
              "    <tr>\n",
              "      <th>botecodoreddit</th>\n",
              "      <td>3</td>\n",
              "      <td>8</td>\n",
              "      <td>1</td>\n",
              "      <td>3</td>\n",
              "    </tr>\n",
              "    <tr>\n",
              "      <th>brasil</th>\n",
              "      <td>1911</td>\n",
              "      <td>1571</td>\n",
              "      <td>1088</td>\n",
              "      <td>1315</td>\n",
              "    </tr>\n",
              "    <tr>\n",
              "      <th>brasilivre</th>\n",
              "      <td>821</td>\n",
              "      <td>919</td>\n",
              "      <td>794</td>\n",
              "      <td>329</td>\n",
              "    </tr>\n",
              "    <tr>\n",
              "      <th>conversas</th>\n",
              "      <td>3</td>\n",
              "      <td>3</td>\n",
              "      <td>3</td>\n",
              "      <td>1</td>\n",
              "    </tr>\n",
              "    <tr>\n",
              "      <th>desabafos</th>\n",
              "      <td>19</td>\n",
              "      <td>43</td>\n",
              "      <td>35</td>\n",
              "      <td>15</td>\n",
              "    </tr>\n",
              "    <tr>\n",
              "      <th>eu_nvr</th>\n",
              "      <td>6</td>\n",
              "      <td>5</td>\n",
              "      <td>4</td>\n",
              "      <td>3</td>\n",
              "    </tr>\n",
              "    <tr>\n",
              "      <th>futebol</th>\n",
              "      <td>46</td>\n",
              "      <td>74</td>\n",
              "      <td>25</td>\n",
              "      <td>31</td>\n",
              "    </tr>\n",
              "    <tr>\n",
              "      <th>investimentos</th>\n",
              "      <td>5</td>\n",
              "      <td>12</td>\n",
              "      <td>167</td>\n",
              "      <td>0</td>\n",
              "    </tr>\n",
              "    <tr>\n",
              "      <th>saopaulo</th>\n",
              "      <td>0</td>\n",
              "      <td>1</td>\n",
              "      <td>5</td>\n",
              "      <td>0</td>\n",
              "    </tr>\n",
              "    <tr>\n",
              "      <th>tiodopave</th>\n",
              "      <td>1</td>\n",
              "      <td>1</td>\n",
              "      <td>0</td>\n",
              "      <td>0</td>\n",
              "    </tr>\n",
              "  </tbody>\n",
              "</table>\n",
              "</div>"
            ],
            "text/plain": [
              "topic_label        0     1     2     3\n",
              "subreddit                             \n",
              "botecodoreddit     3     8     1     3\n",
              "brasil          1911  1571  1088  1315\n",
              "brasilivre       821   919   794   329\n",
              "conversas          3     3     3     1\n",
              "desabafos         19    43    35    15\n",
              "eu_nvr             6     5     4     3\n",
              "futebol           46    74    25    31\n",
              "investimentos      5    12   167     0\n",
              "saopaulo           0     1     5     0\n",
              "tiodopave          1     1     0     0"
            ]
          },
          "metadata": {},
          "output_type": "display_data"
        },
        {
          "data": {
            "text/html": [
              "<div>\n",
              "<style scoped>\n",
              "    .dataframe tbody tr th:only-of-type {\n",
              "        vertical-align: middle;\n",
              "    }\n",
              "\n",
              "    .dataframe tbody tr th {\n",
              "        vertical-align: top;\n",
              "    }\n",
              "\n",
              "    .dataframe thead th {\n",
              "        text-align: right;\n",
              "    }\n",
              "</style>\n",
              "<table border=\"1\" class=\"dataframe\">\n",
              "  <thead>\n",
              "    <tr style=\"text-align: right;\">\n",
              "      <th>topic_label</th>\n",
              "      <th>0</th>\n",
              "      <th>1</th>\n",
              "      <th>2</th>\n",
              "      <th>3</th>\n",
              "    </tr>\n",
              "    <tr>\n",
              "      <th>subreddit</th>\n",
              "      <th></th>\n",
              "      <th></th>\n",
              "      <th></th>\n",
              "      <th></th>\n",
              "    </tr>\n",
              "  </thead>\n",
              "  <tbody>\n",
              "    <tr>\n",
              "      <th>botecodoreddit</th>\n",
              "      <td>0.034884</td>\n",
              "      <td>0.093023</td>\n",
              "      <td>0.011628</td>\n",
              "      <td>0.034884</td>\n",
              "    </tr>\n",
              "    <tr>\n",
              "      <th>brasil</th>\n",
              "      <td>0.087109</td>\n",
              "      <td>0.071611</td>\n",
              "      <td>0.049594</td>\n",
              "      <td>0.059942</td>\n",
              "    </tr>\n",
              "    <tr>\n",
              "      <th>brasilivre</th>\n",
              "      <td>0.067728</td>\n",
              "      <td>0.075813</td>\n",
              "      <td>0.065501</td>\n",
              "      <td>0.027141</td>\n",
              "    </tr>\n",
              "    <tr>\n",
              "      <th>conversas</th>\n",
              "      <td>0.017341</td>\n",
              "      <td>0.017341</td>\n",
              "      <td>0.017341</td>\n",
              "      <td>0.005780</td>\n",
              "    </tr>\n",
              "    <tr>\n",
              "      <th>desabafos</th>\n",
              "      <td>0.025780</td>\n",
              "      <td>0.058345</td>\n",
              "      <td>0.047490</td>\n",
              "      <td>0.020353</td>\n",
              "    </tr>\n",
              "    <tr>\n",
              "      <th>eu_nvr</th>\n",
              "      <td>0.057692</td>\n",
              "      <td>0.048077</td>\n",
              "      <td>0.038462</td>\n",
              "      <td>0.028846</td>\n",
              "    </tr>\n",
              "    <tr>\n",
              "      <th>futebol</th>\n",
              "      <td>0.037520</td>\n",
              "      <td>0.060359</td>\n",
              "      <td>0.020392</td>\n",
              "      <td>0.025285</td>\n",
              "    </tr>\n",
              "    <tr>\n",
              "      <th>investimentos</th>\n",
              "      <td>0.011905</td>\n",
              "      <td>0.028571</td>\n",
              "      <td>0.397619</td>\n",
              "      <td>0.000000</td>\n",
              "    </tr>\n",
              "    <tr>\n",
              "      <th>saopaulo</th>\n",
              "      <td>0.000000</td>\n",
              "      <td>0.027027</td>\n",
              "      <td>0.135135</td>\n",
              "      <td>0.000000</td>\n",
              "    </tr>\n",
              "    <tr>\n",
              "      <th>tiodopave</th>\n",
              "      <td>0.090909</td>\n",
              "      <td>0.090909</td>\n",
              "      <td>0.000000</td>\n",
              "      <td>0.000000</td>\n",
              "    </tr>\n",
              "  </tbody>\n",
              "</table>\n",
              "</div>"
            ],
            "text/plain": [
              "topic_label            0         1         2         3\n",
              "subreddit                                             \n",
              "botecodoreddit  0.034884  0.093023  0.011628  0.034884\n",
              "brasil          0.087109  0.071611  0.049594  0.059942\n",
              "brasilivre      0.067728  0.075813  0.065501  0.027141\n",
              "conversas       0.017341  0.017341  0.017341  0.005780\n",
              "desabafos       0.025780  0.058345  0.047490  0.020353\n",
              "eu_nvr          0.057692  0.048077  0.038462  0.028846\n",
              "futebol         0.037520  0.060359  0.020392  0.025285\n",
              "investimentos   0.011905  0.028571  0.397619  0.000000\n",
              "saopaulo        0.000000  0.027027  0.135135  0.000000\n",
              "tiodopave       0.090909  0.090909  0.000000  0.000000"
            ]
          },
          "metadata": {},
          "output_type": "display_data"
        },
        {
          "data": {
            "image/png": "[encoded data removed]",
            "text/plain": [
              "<Figure size 1200x800 with 2 Axes>"
            ]
          },
          "metadata": {},
          "output_type": "display_data"
        }
      ],
      "source": [
        "topics_to_normalize = filtered_data[filtered_data['topic_label'].isin([0, 1, 2, 3])].copy()\n",
        "\n",
        "raw_topics_0_to_3_frequencies = topics_to_normalize.groupby(['subreddit', 'topic_label']).size().unstack(fill_value=0)\n",
        "display(raw_topics_0_to_3_frequencies)\n",
        "\n",
        "normalized_topics_0_to_3_frequencies = raw_topics_0_to_3_frequencies.div(total_comments_per_subreddit, axis=0)\n",
        "display(normalized_topics_0_to_3_frequencies)\n",
        "\n",
        "plt.figure(figsize=(12, 8))\n",
        "sns.heatmap(normalized_topics_0_to_3_frequencies, annot=True, fmt=\".2f\", cmap=\"YlGnBu\")\n",
        "plt.title(\"Normalized Frequencies of Topics 0-3 per Subreddit\")\n",
        "plt.xlabel(\"Topic Label\")\n",
        "plt.ylabel(\"Subreddit\")\n",
        "plt.show()"
      ]
    }
  ],
  "metadata": {
    "colab": {
      "provenance": []
    },
    "kernelspec": {
      "display_name": "venv",
      "language": "python",
      "name": "python3"
    },
    "language_info": {
      "codemirror_mode": {
        "name": "ipython",
        "version": 3
      },
      "file_extension": ".py",
      "mimetype": "text/x-python",
      "name": "python",
      "nbconvert_exporter": "python",
      "pygments_lexer": "ipython3",
      "version": "3.12.3"
    }
  },
  "nbformat": 4,
  "nbformat_minor": 5
}
